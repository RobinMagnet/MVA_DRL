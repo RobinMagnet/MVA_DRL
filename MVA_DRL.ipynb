{
  "nbformat": 4,
  "nbformat_minor": 0,
  "metadata": {
    "kernelspec": {
      "name": "python3",
      "display_name": "Python 3"
    },
    "language_info": {
      "codemirror_mode": {
        "name": "ipython",
        "version": 3
      },
      "file_extension": ".py",
      "mimetype": "text/x-python",
      "name": "python",
      "nbconvert_exporter": "python",
      "pygments_lexer": "ipython3",
      "version": "3.5.7"
    },
    "colab": {
      "name": "MVA_DRL.ipynb",
      "provenance": [],
      "collapsed_sections": []
    },
    "accelerator": "GPU"
  },
  "cells": [
    {
      "cell_type": "markdown",
      "metadata": {
        "id": "T5KYwcbcZdsh",
        "colab_type": "text"
      },
      "source": [
        "**You may need to install [OpenCV](https://pypi.python.org/pypi/opencv-python) and [scikit-video](http://www.scikit-video.org/stable/).**"
      ]
    },
    {
      "cell_type": "code",
      "metadata": {
        "id": "ygZ7yjhqZdsk",
        "colab_type": "code",
        "outputId": "b66afba4-8bdf-4256-f2fa-b5370cde180c",
        "colab": {
          "base_uri": "https://localhost:8080/",
          "height": 385
        }
      },
      "source": [
        "!pip install scikit-video\n",
        "import keras\n",
        "import numpy as np\n",
        "import io\n",
        "import base64\n",
        "from IPython.display import HTML\n",
        "import skvideo.io\n",
        "import cv2\n",
        "import json\n",
        "\n",
        "import tensorflow as tf\n",
        "sess = tf.Session(config=tf.ConfigProto(log_device_placement=True))\n",
        "from keras import backend as K\n",
        "K.tensorflow_backend._get_available_gpus()\n",
        "\n",
        "from keras.models import Sequential,model_from_json\n",
        "from keras.layers.core import Dense\n",
        "from keras.optimizers import sgd,Adam\n",
        "from keras.layers import Conv2D, MaxPooling2D, Activation, AveragePooling2D,Reshape,BatchNormalization,Flatten"
      ],
      "execution_count": 1,
      "outputs": [
        {
          "output_type": "stream",
          "text": [
            "Collecting scikit-video\n",
            "\u001b[?25l  Downloading https://files.pythonhosted.org/packages/b1/a6/c69cad508139a342810ae46e946ebb3256aa6e42f690d901bb68f50582e3/scikit_video-1.1.11-py2.py3-none-any.whl (2.3MB)\n",
            "\u001b[K     |████████████████████████████████| 2.3MB 2.9MB/s \n",
            "\u001b[?25hRequirement already satisfied: numpy in /usr/local/lib/python3.6/dist-packages (from scikit-video) (1.17.5)\n",
            "Requirement already satisfied: pillow in /usr/local/lib/python3.6/dist-packages (from scikit-video) (6.2.2)\n",
            "Requirement already satisfied: scipy in /usr/local/lib/python3.6/dist-packages (from scikit-video) (1.4.1)\n",
            "Installing collected packages: scikit-video\n",
            "Successfully installed scikit-video-1.1.11\n"
          ],
          "name": "stdout"
        },
        {
          "output_type": "stream",
          "text": [
            "Using TensorFlow backend.\n"
          ],
          "name": "stderr"
        },
        {
          "output_type": "display_data",
          "data": {
            "text/html": [
              "<p style=\"color: red;\">\n",
              "The default version of TensorFlow in Colab will soon switch to TensorFlow 2.x.<br>\n",
              "We recommend you <a href=\"https://www.tensorflow.org/guide/migrate\" target=\"_blank\">upgrade</a> now \n",
              "or ensure your notebook will continue to use TensorFlow 1.x via the <code>%tensorflow_version 1.x</code> magic:\n",
              "<a href=\"https://colab.research.google.com/notebooks/tensorflow_version.ipynb\" target=\"_blank\">more info</a>.</p>\n"
            ],
            "text/plain": [
              "<IPython.core.display.HTML object>"
            ]
          },
          "metadata": {
            "tags": []
          }
        },
        {
          "output_type": "stream",
          "text": [
            "Device mapping:\n",
            "/job:localhost/replica:0/task:0/device:XLA_CPU:0 -> device: XLA_CPU device\n",
            "/job:localhost/replica:0/task:0/device:XLA_GPU:0 -> device: XLA_GPU device\n",
            "/job:localhost/replica:0/task:0/device:GPU:0 -> device: 0, name: Tesla T4, pci bus id: 0000:00:04.0, compute capability: 7.5\n",
            "\n",
            "WARNING:tensorflow:From /usr/local/lib/python3.6/dist-packages/keras/backend/tensorflow_backend.py:190: The name tf.get_default_session is deprecated. Please use tf.compat.v1.get_default_session instead.\n",
            "\n",
            "WARNING:tensorflow:From /usr/local/lib/python3.6/dist-packages/keras/backend/tensorflow_backend.py:207: The name tf.global_variables is deprecated. Please use tf.compat.v1.global_variables instead.\n",
            "\n"
          ],
          "name": "stdout"
        }
      ]
    },
    {
      "cell_type": "markdown",
      "metadata": {
        "id": "EugBtNSRZdso",
        "colab_type": "text"
      },
      "source": [
        "# MiniProject on Deep Reinforcement Learning"
      ]
    },
    {
      "cell_type": "markdown",
      "metadata": {
        "id": "nh6b19d_Zdsq",
        "colab_type": "text"
      },
      "source": [
        "__Notations__: $E_p$ is the expectation under probability $p$. Please justify each of your answer and widely comment your code."
      ]
    },
    {
      "cell_type": "markdown",
      "metadata": {
        "id": "sLCr9ehNZdss",
        "colab_type": "text"
      },
      "source": [
        "# Context"
      ]
    },
    {
      "cell_type": "markdown",
      "metadata": {
        "id": "JC0Xe7IyZdst",
        "colab_type": "text"
      },
      "source": [
        "In a reinforcement learning algorithm, we modelize each step $t$ as an action $a_t$ obtained from a state $s_t$, i.e. $\\{(a_{t},s_{t})_{t\\leq T}\\}$ having the Markov property. We consider a discount factor $\\gamma \\in [0,1]$ that ensures convergence. The goal is to find among all the policies $\\pi$, one that maximizes the expected reward:\n",
        "\n",
        "\\begin{equation*}\n",
        "R(\\pi)=\\sum_{t\\leq T}E_{p^{\\pi}}[\\gamma^t r(s_{t},a_{t})] \\> ,\n",
        "\\end{equation*}\n",
        "\n",
        "where: \n",
        "\\begin{equation*}p^{\\pi}(a_{0},a_{1},s_{1},...,a_{T},s_{T})=p(a_{0})\\prod_{t=1}^{T}\\pi(a_{t}|s_{t})p(s_{t+1}|s_{t},a_{t}) \\> .\n",
        "\\end{equation*}\n",
        "\n",
        "We note the $Q$-function:\n",
        "\n",
        "\\begin{equation*}Q^\\pi(s,a)=E_{p^{\\pi}}[\\sum_{t\\leq T}\\gamma^{t}r(s_{t},a_{t})|s_{0}=s,a_{0}=a] \\> .\n",
        "\\end{equation*}\n",
        "\n",
        "Thus, the optimal Q function is:\n",
        "\\begin{equation*}\n",
        "Q^*(s,a)=\\max_{\\pi}Q^\\pi(s,a) \\> .\n",
        "\\end{equation*}\n",
        "\n",
        "In this project, we will apply the deep reinforcement learning techniques to a simple game: an agent will have to learn from scratch a policy that will permit it maximizing a reward."
      ]
    },
    {
      "cell_type": "markdown",
      "metadata": {
        "id": "_SALgwkXZdsu",
        "colab_type": "text"
      },
      "source": [
        "## The environment, the agent and the game"
      ]
    },
    {
      "cell_type": "markdown",
      "metadata": {
        "id": "ojPN3WDIZdsv",
        "colab_type": "text"
      },
      "source": [
        "### The environment"
      ]
    },
    {
      "cell_type": "markdown",
      "metadata": {
        "id": "Y-Wf65i4Zdsw",
        "colab_type": "text"
      },
      "source": [
        "```Environment``` is an abstract class that represents the states, rewards, and actions to obtain the new state."
      ]
    },
    {
      "cell_type": "code",
      "metadata": {
        "id": "_6cwVvDsZdsz",
        "colab_type": "code",
        "colab": {}
      },
      "source": [
        "class Environment(object):\n",
        "    def __init__(self):\n",
        "        pass\n",
        "\n",
        "    def act(self, act):\n",
        "        \"\"\"\n",
        "        One can act on the environment and obtain its reaction:\n",
        "        - the new state\n",
        "        - the reward of the new state\n",
        "        - should we continue the game?\n",
        "\n",
        "        :return: state, reward, game_over\n",
        "        \"\"\"\n",
        "        pass\n",
        "\n",
        "\n",
        "    def reset(self):\n",
        "        \"\"\"\n",
        "        Reinitialize the environment to a random state and returns\n",
        "        the original state\n",
        "\n",
        "        :return: state\n",
        "        \"\"\"\n",
        "        pass\n",
        "    \n",
        "    def draw(self):\n",
        "        \"\"\"\n",
        "        Visualize in the console or graphically the current state\n",
        "        \"\"\"\n",
        "        pass"
      ],
      "execution_count": 0,
      "outputs": []
    },
    {
      "cell_type": "markdown",
      "metadata": {
        "id": "pHByniDXZds2",
        "colab_type": "text"
      },
      "source": [
        "The method ```act``` allows to act on the environment at a given state $s_t$ (stored internally), via action $a_t$. The method will return the new state $s_{t+1}$, the reward $r(s_{t},a_{t})$ and determines if $t\\leq T$ (*game_over*).\n",
        "\n",
        "The method ```reset``` simply reinitializes the environment to a random state $s_0$.\n",
        "\n",
        "The method ```draw``` displays the current state $s_t$ (this is useful to check the behavior of the Agent).\n",
        "\n",
        "We modelize $s_t$ as a tensor, while $a_t$ is an integer."
      ]
    },
    {
      "cell_type": "markdown",
      "metadata": {
        "id": "90VZsM5fZds3",
        "colab_type": "text"
      },
      "source": [
        "### The Agent"
      ]
    },
    {
      "cell_type": "markdown",
      "metadata": {
        "id": "WNATvyOwZds4",
        "colab_type": "text"
      },
      "source": [
        "The goal of the ```Agent``` is to interact with the ```Environment``` by proposing actions $a_t$ obtained from a given state $s_t$ to attempt to maximize its __reward__ $r(s_t,a_t)$. We propose the following abstract class:"
      ]
    },
    {
      "cell_type": "code",
      "metadata": {
        "id": "NYosFUlgZds5",
        "colab_type": "code",
        "colab": {}
      },
      "source": [
        "class Agent(object):\n",
        "    def __init__(self, epsilon=0.1, n_action=4):\n",
        "        self.epsilon = epsilon\n",
        "        self.n_action = n_action\n",
        "    \n",
        "    def set_epsilon(self,e):\n",
        "        self.epsilon = e\n",
        "\n",
        "    def act(self,s,train=True):\n",
        "        \"\"\" This function should return the next action to do:\n",
        "        an integer between 0 and 4 (not included) with a random exploration of epsilon\"\"\"\n",
        "        if train:\n",
        "            if np.random.rand() <= self.epsilon:\n",
        "                a = np.random.randint(0, self.n_action, size=1)[0]\n",
        "            else:\n",
        "                a = self.learned_act(s)\n",
        "        else: # in some cases, this can improve the performance.. remove it if poor performances\n",
        "            a = self.learned_act(s)\n",
        "\n",
        "        return a\n",
        "\n",
        "    def learned_act(self,s):\n",
        "        \"\"\" Act via the policy of the agent, from a given state s\n",
        "        it proposes an action a\"\"\"\n",
        "        pass\n",
        "\n",
        "    def reinforce(self, s, n_s, a, r, game_over_):\n",
        "        \"\"\" This function is the core of the learning algorithm. \n",
        "        It takes as an input the current state s_, the next state n_s_\n",
        "        the action a_ used to move from s_ to n_s_ and the reward r_.\n",
        "        \n",
        "        Its goal is to learn a policy.\n",
        "        \"\"\"\n",
        "        pass\n",
        "\n",
        "    def save(self):\n",
        "        \"\"\" This function returns basic stats if applicable: the\n",
        "        loss and/or the model\"\"\"\n",
        "        pass\n",
        "\n",
        "    def load(self):\n",
        "        \"\"\" This function allows to restore a model\"\"\"\n",
        "        pass"
      ],
      "execution_count": 0,
      "outputs": []
    },
    {
      "cell_type": "markdown",
      "metadata": {
        "id": "W7N0Tb5HZdtA",
        "colab_type": "text"
      },
      "source": [
        "***\n",
        "__Question 1__:\n",
        "Explain the function act. Why is ```epsilon``` essential?"
      ]
    },
    {
      "cell_type": "markdown",
      "metadata": {
        "id": "VVXIsG75ZdtB",
        "colab_type": "text"
      },
      "source": [
        "The act function decides the next action $a_{t+1}$ the agent should follow, depending on both the current state $s_t$ and the information whether we are training or not.\n",
        "\n",
        "When training : \n",
        " * with probability $1-\\epsilon$ this function return the $a_{t+1}$ given by the current learned policy $\\pi$.\n",
        " * with probability $\\epsilon$, it decides a random action $a_{t+1}$\n",
        "\n",
        "When testing, this function always follows the current policy $\\pi$.\n",
        "\n",
        "\n",
        "Using a positive ```epsilon``` allows to have non-zero probability of exploring the whole environment, avoiding the agent to remain stuck in local maximas (regarding the rewards).\n"
      ]
    },
    {
      "cell_type": "markdown",
      "metadata": {
        "id": "O414YeP4ZdtC",
        "colab_type": "text"
      },
      "source": [
        "***\n",
        "### The Game"
      ]
    },
    {
      "cell_type": "markdown",
      "metadata": {
        "id": "DxqLOOlXZdtE",
        "colab_type": "text"
      },
      "source": [
        "The ```Agent``` and the ```Environment``` work in an interlaced way as in the following (take some time to understand this code as it is the core of the project)\n",
        "\n",
        "```python\n",
        "\n",
        "epoch = 300\n",
        "env = Environment()\n",
        "agent = Agent()\n",
        "\n",
        "\n",
        "# Number of won games\n",
        "score = 0\n",
        "loss = 0\n",
        "\n",
        "\n",
        "for e in range(epoch):\n",
        "    # At each epoch, we restart to a fresh game and get the initial state\n",
        "    state = env.reset()\n",
        "    # This assumes that the games will end\n",
        "    game_over = False\n",
        "\n",
        "    win = 0\n",
        "    lose = 0\n",
        "    \n",
        "    while not game_over:\n",
        "        # The agent performs an action\n",
        "        action = agent.act(state)\n",
        "\n",
        "        # Apply an action to the environment, get the next state, the reward\n",
        "        # and if the games end\n",
        "        prev_state = state\n",
        "        state, reward, game_over = env.act(action)\n",
        "\n",
        "        # Update the counters\n",
        "        if reward > 0:\n",
        "            win = win + reward\n",
        "        if reward < 0:\n",
        "            lose = lose -reward\n",
        "\n",
        "        # Apply the reinforcement strategy\n",
        "        loss = agent.reinforce(prev_state, state,  action, reward, game_over)\n",
        "\n",
        "    # Save as a mp4\n",
        "    if e % 10 == 0:\n",
        "        env.draw(e)\n",
        "\n",
        "    # Update stats\n",
        "    score += win-lose\n",
        "\n",
        "    print(\"Epoch {:03d}/{:03d} | Loss {:.4f} | Win/lose count {}/{} ({})\"\n",
        "          .format(e, epoch, loss, win, lose, win-lose))\n",
        "    agent.save()\n",
        "```"
      ]
    },
    {
      "cell_type": "markdown",
      "metadata": {
        "id": "IFhfxBzEZdtF",
        "colab_type": "text"
      },
      "source": [
        "# The game, *eat cheese*"
      ]
    },
    {
      "cell_type": "markdown",
      "metadata": {
        "id": "fH-TvWqXZdtF",
        "colab_type": "text"
      },
      "source": [
        "A rat runs on an island and tries to eat as much as possible. The island is subdivided into $N\\times N$ cells, in which there are cheese (+0.5) and poisonous cells (-1). The rat has a visibility of 2 cells (thus it can see $5^2$ cells). The rat is given a time $T$ to accumulate as much food as possible. It can perform 4 actions: going up, down, left, right. \n",
        "\n",
        "The goal is to code an agent to solve this task that will learn by trial and error. We propose the following environment:"
      ]
    },
    {
      "cell_type": "code",
      "metadata": {
        "id": "pvj91YeCZdtG",
        "colab_type": "code",
        "colab": {}
      },
      "source": [
        "class Environment(object):\n",
        "    def __init__(self, grid_size=10, max_time=500, temperature=0.1):\n",
        "        grid_size = grid_size+4\n",
        "        self.grid_size = grid_size\n",
        "        self.max_time = max_time\n",
        "        self.temperature = temperature\n",
        "\n",
        "        #board on which one plays\n",
        "        self.board = np.zeros((grid_size,grid_size))\n",
        "        self.position = np.zeros((grid_size,grid_size))\n",
        "\n",
        "        # coordinate of the cat\n",
        "        self.x = 0\n",
        "        self.y = 1\n",
        "\n",
        "        # self time\n",
        "        self.t = 0\n",
        "\n",
        "        self.scale=16\n",
        "\n",
        "        self.to_draw = np.zeros((max_time+2, grid_size*self.scale, grid_size*self.scale, 3))\n",
        "\n",
        "\n",
        "    def draw(self,e):\n",
        "        skvideo.io.vwrite(str(e) + '.mp4', self.to_draw)\n",
        "\n",
        "    def get_frame(self,t):\n",
        "        b = np.zeros((self.grid_size,self.grid_size,3))+128\n",
        "        b[self.board>0,0] = 256\n",
        "        b[self.board < 0, 2] = 256\n",
        "        b[self.x,self.y,:]=256\n",
        "        b[-2:,:,:]=0\n",
        "        b[:,-2:,:]=0\n",
        "        b[:2,:,:]=0\n",
        "        b[:,:2,:]=0\n",
        "        \n",
        "        b =  cv2.resize(b, None, fx=self.scale, fy=self.scale, interpolation=cv2.INTER_NEAREST)\n",
        "\n",
        "        self.to_draw[t,:,:,:]=b\n",
        "\n",
        "\n",
        "    def act(self, action):\n",
        "        \"\"\"This function returns the new state, reward and decides if the\n",
        "        game ends.\"\"\"\n",
        "\n",
        "        self.get_frame(int(self.t))\n",
        "\n",
        "        self.position = np.zeros((self.grid_size, self.grid_size))\n",
        "\n",
        "        self.position[0:2,:]= -1\n",
        "        self.position[:,0:2] = -1\n",
        "        self.position[-2:, :] = -1\n",
        "        self.position[-2:, :] = -1\n",
        "\n",
        "        self.position[self.x, self.y] = 1\n",
        "        if action == 0:\n",
        "            if self.x == self.grid_size-3:\n",
        "                self.x = self.x-1\n",
        "            else:\n",
        "                self.x = self.x + 1\n",
        "        elif action == 1:\n",
        "            if self.x == 2:\n",
        "                self.x = self.x+1\n",
        "            else:\n",
        "                self.x = self.x-1\n",
        "        elif action == 2:\n",
        "            if self.y == self.grid_size - 3:\n",
        "                self.y = self.y - 1\n",
        "            else:\n",
        "                self.y = self.y + 1\n",
        "        elif action == 3:\n",
        "            if self.y == 2:\n",
        "                self.y = self.y + 1\n",
        "            else:\n",
        "                self.y = self.y - 1\n",
        "        else:\n",
        "            RuntimeError('Error: action not recognized')\n",
        "\n",
        "        self.t = self.t + 1\n",
        "        reward = self.board[self.x, self.y]\n",
        "        self.board[self.x, self.y] = 0\n",
        "        game_over = self.t > self.max_time\n",
        "        state = np.concatenate((self.board.reshape(self.grid_size, self.grid_size,1),\n",
        "                        self.position.reshape(self.grid_size, self.grid_size,1)),axis=2)\n",
        "        state = state[self.x-2:self.x+3,self.y-2:self.y+3,:]\n",
        "\n",
        "        return state, reward, game_over\n",
        "\n",
        "    def reset(self):\n",
        "        \"\"\"This function resets the game and returns the initial state\"\"\"\n",
        "\n",
        "        self.x = np.random.randint(3, self.grid_size-3, size=1)[0]\n",
        "        self.y = np.random.randint(3, self.grid_size-3, size=1)[0]\n",
        "\n",
        "\n",
        "        bonus = 0.5*np.random.binomial(1,self.temperature,size=self.grid_size**2)\n",
        "        bonus = bonus.reshape(self.grid_size,self.grid_size)\n",
        "\n",
        "        malus = -1.0*np.random.binomial(1,self.temperature,size=self.grid_size**2)\n",
        "        malus = malus.reshape(self.grid_size, self.grid_size)\n",
        "\n",
        "        self.to_draw = np.zeros((self.max_time+2, self.grid_size*self.scale, self.grid_size*self.scale, 3))\n",
        "\n",
        "\n",
        "        malus[bonus>0]=0\n",
        "\n",
        "        self.board = bonus + malus\n",
        "\n",
        "        self.position = np.zeros((self.grid_size, self.grid_size))\n",
        "        self.position[0:2,:]= -1\n",
        "        self.position[:,0:2] = -1\n",
        "        self.position[-2:, :] = -1\n",
        "        self.position[-2:, :] = -1\n",
        "        self.board[self.x,self.y] = 0\n",
        "        self.t = 0\n",
        "\n",
        "        state = np.concatenate((\n",
        "                               self.board.reshape(self.grid_size, self.grid_size,1),\n",
        "                        self.position.reshape(self.grid_size, self.grid_size,1)),axis=2)\n",
        "\n",
        "        state = state[self.x - 2:self.x + 3, self.y - 2:self.y + 3, :]\n",
        "        return state"
      ],
      "execution_count": 0,
      "outputs": []
    },
    {
      "cell_type": "markdown",
      "metadata": {
        "id": "s62j-P8BZdtK",
        "colab_type": "text"
      },
      "source": [
        "The following elements are important because they correspond to the hyper parameters for this project:"
      ]
    },
    {
      "cell_type": "code",
      "metadata": {
        "id": "pm2M01RPZdtM",
        "colab_type": "code",
        "colab": {}
      },
      "source": [
        "# parameters\n",
        "size = 13\n",
        "T=200\n",
        "temperature=0.3\n",
        "epochs_train=21 # set small when debugging\n",
        "epochs_test=11 # set small when debugging\n",
        "\n",
        "# display videos\n",
        "def display_videos(name):\n",
        "    video = io.open(name, 'r+b').read()\n",
        "    encoded = base64.b64encode(video)\n",
        "    return '''<video alt=\"test\" controls>\n",
        "                <source src=\"data:video/mp4;base64,{0}\" type=\"video/mp4\" />\n",
        "             </video>'''.format(encoded.decode('ascii'))"
      ],
      "execution_count": 0,
      "outputs": []
    },
    {
      "cell_type": "markdown",
      "metadata": {
        "id": "zDnS3EmyZdtQ",
        "colab_type": "text"
      },
      "source": [
        "__Question 2__ Explain the use of the arrays ```position``` and ```board```."
      ]
    },
    {
      "cell_type": "markdown",
      "metadata": {
        "id": "joFt_ShMZdtQ",
        "colab_type": "text"
      },
      "source": [
        "the ```position``` array is a $(N+4)\\times (N+4)$ matrix displaying the position of the rat and the position of unusable cells (walls of width $2$ at the border of the board). The extra $2$ cells at the border allow always to have a $2$-cell visibility. All the allowed cells have value $0$, the cell on which the rat is have value $1$, and the wall cells have value $-1$.\n",
        "\n",
        "The ```board```array is a $(N+4)\\times (N+4)$ matrix displaying the effect of each cell. It has value $0.5$ for cells containing cheese, $-1$ for poisonous cells, and $0$ if nothing is on the cell.\n"
      ]
    },
    {
      "cell_type": "markdown",
      "metadata": {
        "id": "3jIUAfiRZdtR",
        "colab_type": "text"
      },
      "source": [
        "## Random Agent"
      ]
    },
    {
      "cell_type": "markdown",
      "metadata": {
        "id": "UoBchj3QZdtS",
        "colab_type": "text"
      },
      "source": [
        "***\n",
        "__Question 3__ Implement a random Agent (only ```learned_act``` needs to be implemented):"
      ]
    },
    {
      "cell_type": "code",
      "metadata": {
        "id": "bAg7L0WVZdtT",
        "colab_type": "code",
        "colab": {}
      },
      "source": [
        "class RandomAgent(Agent):\n",
        "    def __init__(self):\n",
        "        super(RandomAgent, self).__init__()\n",
        "        pass\n",
        "\n",
        "    def learned_act(self, s):\n",
        "        return np.random.randint(self.n_action)"
      ],
      "execution_count": 0,
      "outputs": []
    },
    {
      "cell_type": "markdown",
      "metadata": {
        "id": "Azd1LWmTZdtY",
        "colab_type": "text"
      },
      "source": [
        "***\n",
        "***\n",
        "__Question 4__ Visualize the game moves. You need to fill in the following function for the evaluation:"
      ]
    },
    {
      "cell_type": "code",
      "metadata": {
        "id": "206rVZGVZdta",
        "colab_type": "code",
        "colab": {}
      },
      "source": [
        "def test(agent,env,epochs,prefix=''):\n",
        "    # Number of won games\n",
        "    score = 0\n",
        "        \n",
        "    for e in range(epochs):\n",
        "        \n",
        "        # At each epoch, we restart to a fresh game and get the initial state\n",
        "        state = env.reset()\n",
        "        # This assumes that the games will end\n",
        "        game_over = False\n",
        "    \n",
        "        win = 0\n",
        "        lose = 0\n",
        "    \n",
        "        while not game_over:\n",
        "            # The agent performs an action\n",
        "            action = agent.act(state,train=False)\n",
        "    \n",
        "            # Apply an action to the environment, get the next state, the reward\n",
        "            # and if the games end\n",
        "            prev_state = state\n",
        "            state, reward, game_over = env.act(action)\n",
        "    \n",
        "            # Update the counters\n",
        "            if reward > 0:\n",
        "                win = win + reward\n",
        "            if reward < 0:\n",
        "                lose = lose -reward\n",
        "        \n",
        "        # Save as a mp4\n",
        "        env.draw(prefix+str(e))\n",
        "\n",
        "        # Update stats\n",
        "        score = score + win-lose\n",
        "\n",
        "        print(\"Win/lose count {}/{}. Average score ({})\"\n",
        "              .format(win, lose, score/(1+e)))\n",
        "    print('Final score: '+str(score/epochs))\n",
        "    return score/epochs"
      ],
      "execution_count": 0,
      "outputs": []
    },
    {
      "cell_type": "code",
      "metadata": {
        "id": "6MnQ5kEuZdtg",
        "colab_type": "code",
        "outputId": "1e47bb76-2f4b-47d0-f236-ebf3e0ab67d9",
        "colab": {
          "base_uri": "https://localhost:8080/",
          "height": 494
        }
      },
      "source": [
        "# Initialize the game\n",
        "env = Environment(grid_size=size, max_time=T,temperature=temperature)\n",
        "\n",
        "# Initialize the agent!\n",
        "agent = RandomAgent()\n",
        "\n",
        "test(agent,env,epochs_test,prefix='random')\n",
        "HTML(display_videos('random0.mp4'))"
      ],
      "execution_count": 8,
      "outputs": [
        {
          "output_type": "stream",
          "text": [
            "Win/lose count 12.0/11.0. Average score (1.0)\n",
            "Win/lose count 12.5/20.0. Average score (-3.25)\n",
            "Win/lose count 8.5/13.0. Average score (-3.6666666666666665)\n",
            "Win/lose count 9.5/11.0. Average score (-3.125)\n",
            "Win/lose count 8.5/11.0. Average score (-3.0)\n",
            "Win/lose count 9.5/7.0. Average score (-2.0833333333333335)\n",
            "Win/lose count 9.5/9.0. Average score (-1.7142857142857142)\n",
            "Win/lose count 12.5/16.0. Average score (-1.9375)\n",
            "Win/lose count 7.0/9.0. Average score (-1.9444444444444444)\n",
            "Win/lose count 6.5/11.0. Average score (-2.2)\n",
            "Win/lose count 10.0/16.0. Average score (-2.5454545454545454)\n",
            "Final score: -2.5454545454545454\n"
          ],
          "name": "stdout"
        },
        {
          "output_type": "execute_result",
          "data": {
            "text/html": [
              "<video alt=\"test\" controls>\n",
              "                <source src=\"data:video/mp4;base64,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\" type=\"video/mp4\" />\n",
              "             </video>"
            ],
            "text/plain": [
              "<IPython.core.display.HTML object>"
            ]
          },
          "metadata": {
            "tags": []
          },
          "execution_count": 8
        }
      ]
    },
    {
      "cell_type": "markdown",
      "metadata": {
        "id": "-CKyTf_vZdtj",
        "colab_type": "text"
      },
      "source": [
        "***\n",
        "## DQN"
      ]
    },
    {
      "cell_type": "markdown",
      "metadata": {
        "id": "Mpo7rs_nZdtk",
        "colab_type": "text"
      },
      "source": [
        "Let us assume here that $T=\\infty$.\n",
        "\n",
        "***\n",
        "__Question 5__ Let $\\pi$ be a policy, show that:\n",
        "\n",
        "\\begin{equation*}\n",
        "Q^{\\pi}(s,a)=E_{(s',a')\\sim p(.|s,a)}[r(s,a)+\\gamma Q^{\\pi}(s',a')]\n",
        "\\end{equation*}\n",
        "\n",
        "Then, show that for the optimal policy $\\pi^*$ (we assume its existence), the following holds: \n",
        "\n",
        "\\begin{equation*}\n",
        "Q^{*}(s,a)=E_{s'\\sim \\pi^*(.|s,a)}[r(s,a)+\\gamma\\max_{a'}Q^{*}(s',a')].\n",
        "\\end{equation*}\n",
        "Finally, deduce that a plausible objective is:\n",
        "\n",
        "\\begin{equation*}\n",
        "\\mathcal{L}(\\theta)=E_{s' \\sim \\pi^*(.|s,a)}\\Vert r+\\gamma\\max\\max_{a'}Q(s',a',\\theta)-Q(s,a,\\theta)\\Vert^{2}.\n",
        "\\end{equation*}\n",
        "\n",
        "\n"
      ]
    },
    {
      "cell_type": "markdown",
      "metadata": {
        "id": "gwGBu6hQZdtl",
        "colab_type": "text"
      },
      "source": [
        "#### **Expression of $Q^\\pi$**\n",
        "We defined $Q^\\pi$ as \n",
        "$$Q^\\pi(s,a)=E_{p^{\\pi}}\\left(\\sum_{t=0}^\\infty\\gamma^{t}r(s_{t},a_{t})\\quad|\\quad s_{0}=s,a_{0}=a\\right)$$\n",
        "\n",
        "\n",
        "We therefore have by extracting the first term :\n",
        "\\begin{align}\n",
        " Q^\\pi(s,a)&=E_{p^{\\pi}}\\left(\\sum_{t\\geq1}\\gamma^{t}r(s_{t},a_{t}) + r(s_0,a_0)\\quad|\\quad s_{0}=s,a_{0}=a\\right)\\\\\n",
        "&=E_{p^{\\pi}}\\left(\\gamma\\sum_{t\\geq1}\\gamma^{t-1}r(s_{t},a_{t})\\quad|\\quad s_{0}=s,a_{0}=a\\right) + r(s,a)\\\\\n",
        "&= r(s,a) + \\gamma E_{p^{\\pi}}\\left(\\sum_{t\\geq0}\\gamma^{t}r(s_{t+1},a_{t+1}) \\quad|\\quad s_{0}=s,a_{0}=a\\right)\\\\\n",
        "\\end{align}\n",
        "\n",
        "We now note that the following equality holds :\n",
        "\\begin{align}\n",
        "E_{p^{\\pi}}\\left(\\sum_{t\\geq0}\\gamma^{t}r(s_{t+1},a_{t+1}) \\quad|\\quad s_{0}=s,a_{0}=a\\right) &= E_{(s',a')\\sim p^{\\pi}(.|s,a)}\\left(E_{p^{\\pi}}\\left(\\sum_{t\\geq0}\\gamma^{t}r(s_{t+1},a_{t+1}) \\quad|\\quad s_{1}=s',a_{1}=a'\\right)\\right)\\\\\n",
        "&= E_{(s',a')\\sim p^{\\pi}(.|s,a)}\\left(Q(s',a')\\right)\n",
        "\\end{align}\n",
        "\n",
        "\n",
        "Therefore we have\n",
        "\n",
        "\\begin{equation}\n",
        "Q^\\pi(s,a) = E_{(s',a')\\sim p^{\\pi}(.|s,a)}\\left( r(s,a) + \\gamma Q(s',a')\\right)\n",
        "\\end{equation}\n",
        "\n",
        "\n",
        "#### **Expression of $Q^*$**\n",
        "\n",
        "The optimal policy verifies: \n",
        "\\begin{align}\n",
        "Q^{\\pi^*}(s,a)&=\\max_{\\pi} Q^{\\pi}(s,a)\\\\\n",
        " &= \\max_{\\pi} E_{(s',a')\\sim \\pi(.|s,a)}\\left(r(s,a)+\\gamma Q^{\\pi}(s',a')\\right)\n",
        " \\end{align}\n",
        "\n",
        "Maximizing with respect to the policy means we always maximize with respect to the action for each state :\n",
        "\n",
        "\\begin{align}\n",
        "Q^*(s,a)&=\\max_{\\pi,a'} E_{s'\\sim \\pi(.|s,a)}\\left(r(s,a)+\\gamma Q^{\\pi}(s',a')\\right) \\\\\n",
        "&= \\max_{\\pi} E_{s'\\sim \\pi(.|s,a)}\\left(r(s,a)+\\gamma \\max_{a'}Q^{\\pi}(s',a')\\right)\\\\\n",
        "&= E_{s'\\sim \\pi^*(.|s,a)}\\left(r(s,a)+\\gamma \\max_{a'}Q^*(s',a')\\right)\\\\\n",
        " \\end{align}\n",
        "\n",
        "#### **Loss function**\n",
        "\n",
        "We seek to estimate $Q^*$. A convenient loss function would be the mean square error on the fixed point-equation displayed above :\n",
        "\\begin{equation}\n",
        "\\mathcal{L}(\\theta)=E_{s' \\sim \\pi^*(.|s,a)}\\left(\\| r+\\gamma\\max_{a}Q(s',a,\\theta)-Q(s,a,\\theta)\\|^{2}\\right)\n",
        "\\end{equation}"
      ]
    },
    {
      "cell_type": "markdown",
      "metadata": {
        "id": "5KCI1K1bZdtn",
        "colab_type": "text"
      },
      "source": [
        "***\n",
        "The DQN-learning algorithm relies on these derivations to train the parameters $\\theta$ of a Deep Neural Network:\n",
        "\n",
        "1. At the state $s_t$, select the action $a_t$ with best reward using $Q_t$ and store the results;\n",
        "\n",
        "2. Obtain the new state $s_{t+1}$ from the environment $p$;\n",
        "\n",
        "3. Store $(s_t,a_t,s_{t+1})$;\n",
        "\n",
        "4. Obtain $Q_{t+1}$ by minimizing  $\\mathcal{L}$ from a recovered batch from the previously stored results.\n",
        "\n",
        "***\n",
        "__Question 6__ Implement the class ```Memory``` that stores moves (in a replay buffer) via ```remember``` and provides a ```random_access``` to these. Specify a maximum memory size to avoid side effects. You can for example use a ```list()``` and set by default ```max_memory=100```."
      ]
    },
    {
      "cell_type": "code",
      "metadata": {
        "id": "kaHkBOSUZdtp",
        "colab_type": "code",
        "colab": {}
      },
      "source": [
        "class Memory(object):\n",
        "    def __init__(self, max_memory=100):\n",
        "        self.max_memory = max_memory\n",
        "        self.memory = list()\n",
        "\n",
        "    def remember(self, m):\n",
        "        self.memory.append(m)\n",
        "        if len(self.memory) > self.max_memory:\n",
        "          self.memory = self.memory[1:]\n",
        "\n",
        "    def random_access(self):\n",
        "        return self.memory[np.random.randint(len(self.memory))]"
      ],
      "execution_count": 0,
      "outputs": []
    },
    {
      "cell_type": "markdown",
      "metadata": {
        "id": "4cfHYKxFZdtt",
        "colab_type": "text"
      },
      "source": [
        "***\n",
        "The pipeline we will use for training is given below:"
      ]
    },
    {
      "cell_type": "code",
      "metadata": {
        "id": "ZI9aMhgWZdtv",
        "colab_type": "code",
        "colab": {}
      },
      "source": [
        "def train(agent,env,epoch,prefix=''):\n",
        "    # Number of won games\n",
        "    score = 0\n",
        "    loss = 0\n",
        "\n",
        "    for e in range(epoch):\n",
        "        # At each epoch, we restart to a fresh game and get the initial state\n",
        "        state = env.reset()\n",
        "        # This assumes that the games will terminate\n",
        "        game_over = False\n",
        "\n",
        "        win = 0\n",
        "        lose = 0\n",
        "\n",
        "        while not game_over:\n",
        "            # The agent performs an action\n",
        "            action = agent.act(state)\n",
        "\n",
        "            # Apply an action to the environment, get the next state, the reward\n",
        "            # and if the games end\n",
        "            prev_state = state\n",
        "            state, reward, game_over = env.act(action)\n",
        "\n",
        "            # Update the counters\n",
        "            if reward > 0:\n",
        "                win = win + reward\n",
        "            if reward < 0:\n",
        "                lose = lose -reward\n",
        "\n",
        "            # Apply the reinforcement strategy\n",
        "            loss = agent.reinforce(prev_state, state,  action, reward, game_over)\n",
        "\n",
        "        # Save as a mp4\n",
        "        if e % 10 == 0:\n",
        "            env.draw(prefix+str(e))\n",
        "\n",
        "        # Update stats\n",
        "        score += win-lose\n",
        "\n",
        "        print(\"Epoch {:03d}/{:03d} | Loss {:.4f} | Win/lose count {}/{} ({})\"\n",
        "              .format(e, epoch, loss, win, lose, win-lose))\n",
        "        agent.save(name_weights=prefix+'model.h5',name_model=prefix+'model.json')"
      ],
      "execution_count": 0,
      "outputs": []
    },
    {
      "cell_type": "markdown",
      "metadata": {
        "id": "Qi5GWc9JZdty",
        "colab_type": "text"
      },
      "source": [
        "***\n",
        "__Question 7__ Implement the DQN training algorithm using a cascade of fully connected layers. You can use different learning rate, batch size or memory size parameters. In particular, the loss might oscillate while the player will start to win the games. You have to find a good criterium."
      ]
    },
    {
      "cell_type": "code",
      "metadata": {
        "id": "JitSU3QvZdt0",
        "colab_type": "code",
        "colab": {}
      },
      "source": [
        "class DQN(Agent):\n",
        "    def __init__(self, grid_size,  epsilon = 0.1, memory_size=100, batch_size = 16,n_state=2):\n",
        "        super(DQN, self).__init__(epsilon = epsilon)\n",
        "\n",
        "        # Discount for Q learning\n",
        "        self.discount = 0.99\n",
        "        \n",
        "        self.grid_size = grid_size\n",
        "        \n",
        "        # number of state\n",
        "        self.n_state = n_state\n",
        "\n",
        "        # Memory\n",
        "        self.memory = Memory(memory_size)\n",
        "        \n",
        "        # Batch size when learning\n",
        "        self.batch_size = batch_size\n",
        "\n",
        "    def learned_act(self, s):\n",
        "        return np.argmax(self.model.predict(np.expand_dims(s,0))[0])\n",
        "\n",
        "    def reinforce(self, s_, n_s_, a_, r_, game_over_):\n",
        "        # Two steps: first memorize the states, second learn from the pool\n",
        "\n",
        "        self.memory.remember([s_, n_s_, a_, r_, game_over_])\n",
        "        \n",
        "        input_states = np.zeros((self.batch_size, 5,5,self.n_state))\n",
        "        target_q = np.zeros((self.batch_size, 4))\n",
        "        \n",
        "        for i in range(self.batch_size):\n",
        "            s_, n_s_, a_, r_, game_over_=self.memory.random_access()\n",
        "\n",
        "            input_states[i] =s_\n",
        "            \n",
        "            target_q[i] = self.model.predict(np.expand_dims(s_,0))[0]\n",
        "            \n",
        "            if game_over_:\n",
        "                target_q[i,a_] = r_\n",
        "\n",
        "            else:\n",
        "                target_q[i,a_] = r_+ self.discount* np.max(self.model.predict(np.expand_dims(n_s_,0))[0])\n",
        "\n",
        "        ######## FILL IN\n",
        "        # HINT: Clip the target to avoid exploiding gradients.. -- clipping is a bit tighter\n",
        "        target_q = np.clip(target_q, -3, 3)\n",
        "\n",
        "        l = self.model.train_on_batch(input_states, target_q)\n",
        "\n",
        "\n",
        "        return l\n",
        "\n",
        "    def save(self,name_weights='model.h5',name_model='model.json'):\n",
        "        self.model.save_weights(name_weights, overwrite=True)\n",
        "        with open(name_model, \"w\") as outfile:\n",
        "            json.dump(self.model.to_json(), outfile)\n",
        "            \n",
        "    def load(self,name_weights='model.h5',name_model='model.json'):\n",
        "        with open(name_model, \"r\") as jfile:\n",
        "            model = model_from_json(json.load(jfile))\n",
        "        model.load_weights(name_weights)\n",
        "        model.compile(\"sgd\", \"mse\")\n",
        "        self.model = model\n",
        "\n",
        "            \n",
        "class DQN_FC(DQN):\n",
        "    def __init__(self, *args, lr=0.1,**kwargs):\n",
        "        super(DQN_FC, self).__init__( *args,**kwargs)\n",
        "        \n",
        "        # NN Model\n",
        "        \n",
        "        ####### FILL IN\n",
        "        model = Sequential()\n",
        "        model.add(Flatten(input_shape=(5,5,self.n_state)))\n",
        "        model.add(Dense(64,  activation= 'relu'))\n",
        "        model.add(Dense(128,  activation= 'relu'))\n",
        "        model.add(Dense(4)) \n",
        "        \n",
        "        model.compile(Adam(), \"mse\")\n",
        "        #model.compile(sgd(lr=lr, decay=1e-4, momentum=0.0), \"mse\")\n",
        "        self.model = model\n",
        "        "
      ],
      "execution_count": 0,
      "outputs": []
    },
    {
      "cell_type": "code",
      "metadata": {
        "id": "XucGwwmDZdt6",
        "colab_type": "code",
        "outputId": "22438a6e-ecd3-42cf-832a-c60f654070cf",
        "colab": {
          "base_uri": "https://localhost:8080/",
          "height": 934
        }
      },
      "source": [
        "env = Environment(grid_size=size, max_time=T, temperature=0.3)\n",
        "agent = DQN_FC(size, lr=.1, epsilon = 0.1, memory_size=2000, batch_size = 32)\n",
        "train(agent, env, epochs_train, prefix='fc_train')\n",
        "HTML(display_videos('fc_train20.mp4'))"
      ],
      "execution_count": 12,
      "outputs": [
        {
          "output_type": "stream",
          "text": [
            "WARNING:tensorflow:From /usr/local/lib/python3.6/dist-packages/keras/backend/tensorflow_backend.py:66: The name tf.get_default_graph is deprecated. Please use tf.compat.v1.get_default_graph instead.\n",
            "\n",
            "WARNING:tensorflow:From /usr/local/lib/python3.6/dist-packages/keras/backend/tensorflow_backend.py:541: The name tf.placeholder is deprecated. Please use tf.compat.v1.placeholder instead.\n",
            "\n",
            "WARNING:tensorflow:From /usr/local/lib/python3.6/dist-packages/keras/backend/tensorflow_backend.py:4432: The name tf.random_uniform is deprecated. Please use tf.random.uniform instead.\n",
            "\n",
            "WARNING:tensorflow:From /usr/local/lib/python3.6/dist-packages/keras/optimizers.py:793: The name tf.train.Optimizer is deprecated. Please use tf.compat.v1.train.Optimizer instead.\n",
            "\n",
            "WARNING:tensorflow:From /usr/local/lib/python3.6/dist-packages/keras/backend/tensorflow_backend.py:216: The name tf.is_variable_initialized is deprecated. Please use tf.compat.v1.is_variable_initialized instead.\n",
            "\n",
            "WARNING:tensorflow:From /usr/local/lib/python3.6/dist-packages/keras/backend/tensorflow_backend.py:223: The name tf.variables_initializer is deprecated. Please use tf.compat.v1.variables_initializer instead.\n",
            "\n",
            "WARNING:tensorflow:From /usr/local/lib/python3.6/dist-packages/keras/backend/tensorflow_backend.py:1033: The name tf.assign_add is deprecated. Please use tf.compat.v1.assign_add instead.\n",
            "\n",
            "WARNING:tensorflow:From /usr/local/lib/python3.6/dist-packages/keras/backend/tensorflow_backend.py:1020: The name tf.assign is deprecated. Please use tf.compat.v1.assign instead.\n",
            "\n",
            "Epoch 000/021 | Loss 0.0593 | Win/lose count 6.0/6.0 (0.0)\n",
            "Epoch 001/021 | Loss 0.0009 | Win/lose count 1.0/0 (1.0)\n",
            "Epoch 002/021 | Loss 0.0028 | Win/lose count 3.5/9.0 (-5.5)\n",
            "Epoch 003/021 | Loss 0.0012 | Win/lose count 0.5/3.0 (-2.5)\n",
            "Epoch 004/021 | Loss 0.0046 | Win/lose count 7.0/2.0 (5.0)\n",
            "Epoch 005/021 | Loss 0.0471 | Win/lose count 7.5/4.0 (3.5)\n",
            "Epoch 006/021 | Loss 0.0056 | Win/lose count 3.5/3.0 (0.5)\n",
            "Epoch 007/021 | Loss 0.0060 | Win/lose count 2.0/5.0 (-3.0)\n",
            "Epoch 008/021 | Loss 0.0016 | Win/lose count 4.0/0 (4.0)\n",
            "Epoch 009/021 | Loss 0.0010 | Win/lose count 3.5/7.0 (-3.5)\n",
            "Epoch 010/021 | Loss 0.0017 | Win/lose count 4.5/5.0 (-0.5)\n",
            "Epoch 011/021 | Loss 0.0026 | Win/lose count 2.0/4.0 (-2.0)\n",
            "Epoch 012/021 | Loss 0.0011 | Win/lose count 3.5/2.0 (1.5)\n",
            "Epoch 013/021 | Loss 0.0105 | Win/lose count 12.5/3.0 (9.5)\n",
            "Epoch 014/021 | Loss 0.0008 | Win/lose count 8.0/1.0 (7.0)\n",
            "Epoch 015/021 | Loss 0.0081 | Win/lose count 9.0/5.0 (4.0)\n",
            "Epoch 016/021 | Loss 0.0029 | Win/lose count 7.0/4.0 (3.0)\n",
            "Epoch 017/021 | Loss 0.0021 | Win/lose count 3.0/2.0 (1.0)\n",
            "Epoch 018/021 | Loss 0.0017 | Win/lose count 5.5/2.0 (3.5)\n",
            "Epoch 019/021 | Loss 0.0035 | Win/lose count 4.0/0 (4.0)\n",
            "Epoch 020/021 | Loss 0.0568 | Win/lose count 5.0/4.0 (1.0)\n"
          ],
          "name": "stdout"
        },
        {
          "output_type": "execute_result",
          "data": {
            "text/html": [
              "<video alt=\"test\" controls>\n",
              "                <source src=\"data:video/mp4;base64,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\" type=\"video/mp4\" />\n",
              "             </video>"
            ],
            "text/plain": [
              "<IPython.core.display.HTML object>"
            ]
          },
          "metadata": {
            "tags": []
          },
          "execution_count": 12
        }
      ]
    },
    {
      "cell_type": "markdown",
      "metadata": {
        "id": "7fhyTMyYZdt_",
        "colab_type": "text"
      },
      "source": [
        "***\n",
        "***\n",
        "__Question 8__ Implement the DQN training algorithm using a CNN (for example, 2 convolutional layers and one final fully connected layer)."
      ]
    },
    {
      "cell_type": "code",
      "metadata": {
        "id": "kPeSSkaUZduA",
        "colab_type": "code",
        "colab": {}
      },
      "source": [
        "class DQN_CNN(DQN):\n",
        "    def __init__(self, *args,lr=0.1,**kwargs):\n",
        "        super(DQN_CNN, self).__init__(*args,**kwargs)\n",
        "        \n",
        "        model=Sequential()\n",
        "        model.add(Conv2D(10, kernel_size=2, activation='relu',  input_shape=(5,5,self.n_state, )))\n",
        "        model.add(Conv2D(20, kernel_size=2, activation='relu'))\n",
        "        model.add(MaxPooling2D(pool_size=2,strides=2,padding='same'))\n",
        "        model.add(Flatten())\n",
        "        model.add(Dense(units = 4))\n",
        "        \n",
        "        model.compile(Adam(lr=lr),\"mse\")\n",
        "        #model.compile(sgd(lr=lr, decay=1e-4, momentum=0.0), \"mse\")\n",
        "        self.model = model"
      ],
      "execution_count": 0,
      "outputs": []
    },
    {
      "cell_type": "code",
      "metadata": {
        "id": "q-AVHBs4ZduD",
        "colab_type": "code",
        "outputId": "982d26ec-af8b-4fc9-9983-9e8050f73a1d",
        "colab": {
          "base_uri": "https://localhost:8080/",
          "height": 679
        }
      },
      "source": [
        "env = Environment(grid_size=size, max_time=T, temperature=0.3)\n",
        "agent = DQN_CNN(size, lr=1e-2, epsilon = 0.1, memory_size=2000, batch_size = 32)\n",
        "train(agent,env,epochs_train,prefix='cnn_train')\n",
        "HTML(display_videos('cnn_train20.mp4'))"
      ],
      "execution_count": 14,
      "outputs": [
        {
          "output_type": "stream",
          "text": [
            "WARNING:tensorflow:From /usr/local/lib/python3.6/dist-packages/keras/backend/tensorflow_backend.py:4267: The name tf.nn.max_pool is deprecated. Please use tf.nn.max_pool2d instead.\n",
            "\n",
            "Epoch 000/021 | Loss 0.0017 | Win/lose count 7.5/2.0 (5.5)\n",
            "Epoch 001/021 | Loss 0.0047 | Win/lose count 21.0/17.0 (4.0)\n",
            "Epoch 002/021 | Loss 0.0035 | Win/lose count 12.5/2.0 (10.5)\n",
            "Epoch 003/021 | Loss 0.0060 | Win/lose count 9.0/4.0 (5.0)\n",
            "Epoch 004/021 | Loss 0.0041 | Win/lose count 8.5/11.0 (-2.5)\n",
            "Epoch 005/021 | Loss 0.0061 | Win/lose count 11.5/3.0 (8.5)\n",
            "Epoch 006/021 | Loss 0.0027 | Win/lose count 8.5/1.0 (7.5)\n",
            "Epoch 007/021 | Loss 0.0018 | Win/lose count 11.0/4.0 (7.0)\n",
            "Epoch 008/021 | Loss 0.0031 | Win/lose count 9.5/3.0 (6.5)\n",
            "Epoch 009/021 | Loss 0.0037 | Win/lose count 6.5/5.0 (1.5)\n",
            "Epoch 010/021 | Loss 0.0065 | Win/lose count 11.5/2.0 (9.5)\n",
            "Epoch 011/021 | Loss 0.0021 | Win/lose count 7.5/0 (7.5)\n",
            "Epoch 012/021 | Loss 0.0022 | Win/lose count 3.5/4.0 (-0.5)\n",
            "Epoch 013/021 | Loss 0.0036 | Win/lose count 12.5/4.0 (8.5)\n",
            "Epoch 014/021 | Loss 0.0029 | Win/lose count 13.0/2.0 (11.0)\n",
            "Epoch 015/021 | Loss 0.0037 | Win/lose count 5.0/4.0 (1.0)\n",
            "Epoch 016/021 | Loss 0.0051 | Win/lose count 6.0/1.0 (5.0)\n",
            "Epoch 017/021 | Loss 0.0033 | Win/lose count 15.0/7.0 (8.0)\n",
            "Epoch 018/021 | Loss 0.0035 | Win/lose count 9.0/4.0 (5.0)\n",
            "Epoch 019/021 | Loss 0.0059 | Win/lose count 10.5/5.0 (5.5)\n",
            "Epoch 020/021 | Loss 0.0073 | Win/lose count 9.5/2.0 (7.5)\n"
          ],
          "name": "stdout"
        },
        {
          "output_type": "execute_result",
          "data": {
            "text/html": [
              "<video alt=\"test\" controls>\n",
              "                <source src=\"data:video/mp4;base64,AAAAIGZ0eXBpc29tAAACAGlzb21pc28yYXZjMW1wNDEAAAAIZnJlZQAAF4ttZGF0AAACrQYF//+p3EXpvebZSLeWLNgg2SPu73gyNjQgLSBjb3JlIDE1MiByMjg1NCBlOWE1OTAzIC0gSC4yNjQvTVBFRy00IEFWQyBjb2RlYyAtIENvcHlsZWZ0IDIwMDMtMjAxNyAtIGh0dHA6Ly93d3cudmlkZW9sYW4ub3JnL3gyNjQuaHRtbCAtIG9wdGlvbnM6IGNhYmFjPTEgcmVmPTMgZGVibG9jaz0xOjA6MCBhbmFseXNlPTB4MToweDExMSBtZT1oZXggc3VibWU9NyBwc3k9MSBwc3lfcmQ9MS4wMDowLjAwIG1peGVkX3JlZj0xIG1lX3JhbmdlPTE2IGNocm9tYV9tZT0xIHRyZWxsaXM9MSA4eDhkY3Q9MCBjcW09MCBkZWFkem9uZT0yMSwxMSBmYXN0X3Bza2lwPTEgY2hyb21hX3FwX29mZnNldD00IHRocmVhZHM9MyBsb29rYWhlYWRfdGhyZWFkcz0xIHNsaWNlZF90aHJlYWRzPTAgbnI9MCBkZWNpbWF0ZT0xIGludGVybGFjZWQ9MCBibHVyYXlfY29tcGF0PTAgY29uc3RyYWluZWRfaW50cmE9MCBiZnJhbWVzPTMgYl9weXJhbWlkPTIgYl9hZGFwdD0xIGJfYmlhcz0wIGRpcmVjdD0xIHdlaWdodGI9MSBvcGVuX2dvcD0wIHdlaWdodHA9MiBrZXlpbnQ9MjUwIGtleWludF9taW49MjUgc2NlbmVjdXQ9NDAgaW50cmFfcmVmcmVzaD0wIHJjX2xvb2thaGVhZD00MCByYz1jcmYgbWJ0cmVlPTEgY3JmPTIzLjAgcWNvbXA9MC42MCBxcG1pbj0wIHFwbWF4PTY5IHFwc3RlcD00IGlwX3JhdGlvPTEuNDAgYXE9MToxLjAwAIAAAALgZYiEADv//vb8/AptUwn/LZ/+iL/lb+9P2a61uFE7M7QacwPQC/3cd/Xi1bCrc27LcdG8bJkAU3Roif8hrvvgUoqkfgUzWsTF48JLLle7rI6Nu64kswmY/2QtMT2ASxpQTuGE+W7R16W3cGdfzIhqmDvMePQ2gJYnPe8JLyFz+9EMBfFjinZ6KfOizIO2fD5ID2d0+USB0R2t0d4siUx1YL31GYJLQKLq97TwmbA6GgywhWtIu6m4nnu0jLD12tmgqOUxuT5FELL9WuSm/9DGjKfRjwhmMQRWjP0Q8BcJp1Y34O/XE3JEsv+G+tahH20MYB6Nerw69JmMfDiNb6CR6KlT2pnchw9zoW6zvJL+w2Vjibx1bxTG3fn6fScTpd1ZXFS+QgRiTQEYC5QHv+lUuHnlLuRewMRYAhBdUETiz2OjyScYILnQSn5krBKx+4RNStg89HKFLvhSLgpT6X4oAqKWot7H23PrIbckQzZad475iOuzwHyeh7c5uZHLRV5a1NxeDFz50D5ZQteIwQgMtCxXPUAQjXqIzoHsAnq/l2agkW8/Zcs09iBwf8RFOLpGwnFrK7hDqsJiM8HjZvGkkcMbBoePYJMimQgBLEP0qComDO1sxvHxbVmL+sqTAtb8E6ff1p8cV2EBjrpEqahT59LJCd8R0DNdDgAAeKRluyyoTUICRyuVVkym8EfBWIPsvc8FQXZ49fDE1Mry0kwALi4nH4AnVLo7R2kWmB5Bn6oN9zmAb+wXSalXWXzObxryoEfAEiOiyvuNkXQI8EjRSQU+7VQebTRvX6uPlZemuxBcSWf7mkrAf88pxAyOAfw1Mgsv+PPZBu4hEEimXBnrWHztlNpzvaGLrYdXudkQip6sLJ7NfO8XsrxBc/MVDV57ASABxx0L5Q9RVVnyGjeR4TSklA5LoHMEzFYjfa2QwKoLTM4DTNnnrFI4xRcIOw1P3Jn/YygDtQlpi4kqYgABYwAAAClBmiRsQ7/+qZYCAdqoHD/O1clBXwKa+oP+BSpafwKZ2ApgM/T38rBl3AAAABRBnkJ4hf8BZPXLGbX+taZ8qTtVwQAAABABnmF0Qr8B30K1XgNXZa2AAAAAEAGeY2pCvwHetwYfQEg0j/EAAAAcQZpoSahBaJlMCHf//qmWAiTG/TLDdvRz8nRKCQAAABFBnoZFESwv/wFlVeK0Rt4pmQAAAA8BnqV0Qr8BSLR3nnFo9IEAAAAQAZ6nakK/Ad8fxe6HJBpH+AAAABhBmqxJqEFsmUwIb//+p4QEMUdJf8Ccd0AAAAAQQZ7KRRUsL/8BZVXcewJKmQAAAA8Bnul0Qr8B3ufDYH5WUMAAAAAQAZ7rakK/Ad63Bh9ASDSP8AAAABlBmu1JqEFsmUwId//+qZYA2hLKzitIgl3BAAAAIEGbEUnhClJlMCHf/qmWA5ueRzLLPn23MRmy0orGDLOBAAAAFEGfL0U0TC//AaOfnOwgMpNVQ07BAAAADwGfTnRCvwFaywYNmOJJrQAAAA8Bn1BqQr8CMu0ycNm02SMAAAAZQZtVSahBaJlMCHf//qmWA5ujn3MvtFKH+QAAABBBn3NFESwv/wGjn5zwQRQQAAAADwGfknRCvwIyk0dVnf1gQAAAABABn5RqQr8CMkdudZ44MmjBAAAAE0GbmUmoQWyZTAh3//6plgAAlYAAAAAMQZ+3RRUsL/8AALKBAAAAEAGf1nRCvwIfZV3VGO71YsEAAAAQAZ/YakK/Ah6VsXqDDjymgAAAABNBm91JqEFsmUwId//+qZYAAJWBAAAADEGf+0UVLC//AACygAAAABABnhp0Qr8CH2Vd1Rju9WLBAAAAEAGeHGpCvwIelbF6gw48poEAAAATQZoBSahBbJlMCHf//qmWAACVgAAAAAxBnj9FFSwv/wAAsoAAAAAQAZ5edEK/Ah9lXdUY7vViwQAAABABnkBqQr8CHpWxeoMOPKaAAAAAE0GaRUmoQWyZTAh3//6plgAAlYEAAAAMQZ5jRRUsL/8AALKAAAAAEAGegnRCvwIfZV3VGO71YsEAAAAQAZ6EakK/Ah6VsXqDDjymgQAAABNBmolJqEFsmUwId//+qZYAAJWBAAAADEGep0UVLC//AACygQAAABABnsZ0Qr8CH2Vd1Rju9WLAAAAAEAGeyGpCvwIelbF6gw48poAAAAASQZrNSahBbJlMCG///qeEAAEnAAAADEGe60UVLC//AACygAAAABABnwp0Qr8CH2Vd1Rju9WLAAAAAEAGfDGpCvwIelbF6gw48poEAAAAZQZsQSahBbJlMCG///qeEAeu+/zzB/lzp4QAAABJBny5FFSwr/wIfDS7ySDtThgUAAAAPAZ9PakK/Ah5MV1NA0jpgAAAAHEGbU0moQWyZTAhv//6nhAIL46e7zdNjBbnMsaAAAAARQZ9xRRUsK/8BbKUbzTe9QTsAAAAOAZ+SakK/AWxsY9EVs44AAAAZQZuUSahBbJlMCG///qeEARwfMeRif5bZXwAAABlBm7dJ4QpSZTAhv/6nhAEd+On1HGhIcF3BAAAAEEGf1UU0TCv/AWzOFVjBbWwAAAAOAZ/2akK/AWxt14Da5RsAAAAYQZv7SahBaJlMCGf//p4QAc71y62OGFeFAAAADkGeGUURLC//AEdoAM2gAAAAEAGeOHRCvwCVKkd+AD7da0EAAAAQAZ46akK/AJUqR3s8fbrWgAAAABlBmjxJqEFsmUwIb//+p4QAunupx/h9W20LAAAAGUGaXUnhClJlMCG//qeEALX7qfqONCQ4ScEAAAAZQZp+SeEOiZTAh3/+qZYAOp7S/ndIUwiYsAAAABZBmoJJ4Q8mUwId//6plgAYz4Ufc/pgAAAADkGeoEURPC//ABz/3AehAAAAEAGe33RCvwA8KhvZdV/AucAAAAAQAZ7BakK/ADwqG9itH28BgQAAABxBmsZJqEFomUwIb//+p4QAdoHhxY1Q/3x08W+kAAAAEEGe5EURLC//AEdz9m4IGXEAAAAPAZ8DdEK/ADzF+LgPy37BAAAAEAGfBWpCvwBiHVPJgevb1IEAAAAaQZsJSahBbJlMCG///qeEAHlB4U6zp91t6YEAAAAPQZ8nRRUsK/8AZIjQNdJAAAAAEAGfSGpCvwBjdRPIjr+BLUAAAAAaQZtKSahBbJlMCG///qeEAHwB4UaioAe22NEAAAAZQZtrSeEKUmUwId/+qZYAQAo51oer75DNwAAAABFBm49J4Q6JlMCG//6nhAABJwAAAAxBn61FETwv/wAAsoEAAAAQAZ/MdEK/AGweTel2m2uXgQAAABABn85qQr8AbAFjXGUhW5eBAAAAEkGb00moQWiZTAhv//6nhAABJwAAAAxBn/FFESwv/wAAsoAAAAAQAZ4QdEK/AGweTel2m2uXgQAAABABnhJqQr8AbAFjXGUhW5eAAAAAG0GaFEmoQWyZTAhv//6nhAB/fgN/69mfBFeDgAAAABtBmjVJ4QpSZTAh3/6plgA+vtqAf3hagn9gG3EAAAAbQZpZSeEOiZTAhv/+p4QAwt1KzBuINTB/HraAAAAAEEGed0URPC//AHQTZDS6UtMAAAAPAZ6WdEK/AGSSanqzvtFBAAAADwGemGpCvwCfWEeTA9e2/wAAABlBmppJqEFomUwId//+qZYAZSCys4rTkLKhAAAAHkGavknhClJlMCG//qeEAMy66oAhqso/OMAFiHctUwAAABBBntxFNEwv/wB5fvO6vB7jAAAADwGe+3RCvwCoWjvPOLTugQAAABABnv1qQr8Ao7chh9ASDixYAAAAHEGa/0moQWiZTAh3//6plgBCfkdBDOlnR1PIy8AAAAASQZsDSeEKUmUwId/+qZYAAJWBAAAADEGfIUU0TC//AACygAAAABABn0B0Qr8AaHOTiOy7Kt6BAAAADwGfQmpCvwBsAWNErnl1dwAAABNBm0dJqEFomUwId//+qZYAAJWBAAAADEGfZUURLC//AACygQAAABABn4R0Qr8AaHOTiOy7Kt6BAAAADwGfhmpCvwBsAWNErnl1dwAAAChBm4tJqEFsmUwIb//+p4QAzfsvq+BTX1CvwKVLZ+BTOwMXbzrdCfSAAAAAEEGfqUUVLC//AHmTp3+bvlgAAAAPAZ/IdEK/AGmSUQpgi5uBAAAAEAGfympCvwCoWPLcNm1M6oAAAAAZQZvNSahBbJlMFEw3//6nhADM2oO61W7q2AAAAA8Bn+xqQr8AqDbdKNIeJdUAAAAcQZvvSeEKUmUwUsN//qeEAH99g/zlOvCjW5jvHQAAABABng5qQr8AaYjtzrQwvHTBAAAAHEGaEUnhDomUwUTDf/6nhAB5QeJrjVEv0T/Ie9gAAAAQAZ4wakK/AGSduE3GfXpv+AAAABlBmjRJ4Q8mUwIb//6nhAB5/YP8JwW6El3BAAAAEkGeUkURPCv/AGSI7c6yfJukgAAAAA4BnnNqQr8AZKxC73qRHgAAAB5BmnZJqEFomUwU8O/+qZYAKF76vf5u9QVCyFL9JMEAAAAQAZ6VakK/AD+AvOdaGF5TwAAAABlBmplJ4QpSZTAh3/6plgAZb2l4WoJ/YETBAAAAD0Get0U0TCv/ACjtbhslQQAAAA8BnthqQr8AJ9ysC6/wIkAAAAAXQZrdSahBaJlMCG///qeEAC+0if6rpbEAAAATQZ77RREsL/8AHQa0zQNH65Ef/QAAABABnxp0Qr8AJ8mtGSW/1z+BAAAADwGfHGpCvwAn1hHkwPXufwAAABlBmwFJqEFsmUwIb//+p4QAMT7B/nKiqeG0AAAAEEGfP0UVLC//AB0E6d/m+wgAAAAPAZ9edEK/ACfRjFwH5dQhAAAAEAGfQGpCvwAnzXznWhhef0AAAAAaQZtDSahBbJlMFEwz//6eEAC+01Xa+vvtxtEAAAAPAZ9iakK/ACfWEeTA9e5/AAAAGEGbZEnhClJlMCGf/p4QASU4Rz+HOb60DwAAABlBm4VJ4Q6JlMCG//6nhABzzjP9VvmPxDjhAAAAHUGbp0nhDyZTBRE8N//+p4QAuWK1TH+rdvsH639NAAAADwGfxmpCvwCW7EeTA9e3DwAAABtBm8hJ4Q8mUwIb//6nhAEcQBZttoDA3P3S3oAAAAAaQZvsSeEPJlMCG//+p4QBHfjp91u+0g0Qh4AAAAAQQZ4KRRE8L/8ArNAitKJ/+QAAAA8Bnil0Qr8BbOgHQnJdvCAAAAAQAZ4rakK/AOeETNN9JBxQ8AAAABlBmi1JqEFomUwIb//+p4QAwrq0dVDbbPuBAAAAGEGaTknhClJlMCHf/qmWAGUgsrOK05CyoQAAABJBmnJJ4Q6JlMCHf/6plgAAlYEAAAAMQZ6QRRE8L/8AALKAAAAAEAGer3RCvwCoWjvMEsbRVFAAAAAQAZ6xakK/AKHbW7FaPt1jwQAAABNBmrZJqEFomUwId//+qZYAAJWAAAAADEGe1EURLC//AACygAAAABABnvN0Qr8AqFo7zBLG0VRRAAAAEAGe9WpCvwCh21uxWj7dY8AAAAAcQZr5SahBbJlMCHf//qmWAJwiw3RiEugx/4grYQAAABJBnxdFFSwr/wD4M+Zbw3IOJ80AAAAPAZ84akK/APgz5jfwNLPgAAAAHEGbPUmoQWyZTAhv//6nhAE1+Onu83X8bSe6PgUAAAAQQZ9bRRUsL/8Auk+vaXSjggAAAA8Bn3p0Qr8BibKu7zdp40EAAAAQAZ98akK/APgC851oYXiFwQAAABlBm2BJqEFsmUwIb//+p4QAw/sHr2Z8EV1lAAAAEkGfnkUVLCv/APK/A6ElhaxswAAAAA4Bn79qQr8A8oQLMHAyhwAAABpBm6FJqEFsmUwIb//+p4QAvvxp0FazKazjgAAAAB1Bm8NJ4QpSZTBRUsN//qeEARQfNU1m3NeOn2rOqQAAABABn+JqQr8A4jPmN0OSDii4AAAAGUGb5EnhDomUwId//qmWAPkkhJtro59RJOEAAAAbQZoISeEPJlMCHf/+qZYDICoWQk2hnRj8yxDxAAAAEEGeJkURPC//AZVAV/ImMCEAAAAQAZ5FdEK/AjNlXchsGmAyoQAAAA8BnkdqQr8CH2K6yv71YsAAAAASQZpMSahBaJlMCG///qeEAAEnAAAADEGeakURLC//AACygQAAABABnol0Qr8CFaieQRWctWLAAAAAEAGei2pCvwIVqJ45wPt9YsAAAAAaQZqPSahBbJlMCG///qeEBld9nzQBQkDY44EAAAAPQZ6tRRUsK/8CHkspHWLBAAAADQGezmpCvwIfYr0aGkcAAAAaQZrQSahBbJlMCHf//qmWAPD2l/LUg3FBJeAAAAAeQZrySeEKUmUwUVLDv/6plgDj2HBP1Xvq+MM5eFxwAAAAEAGfEWpCvwFRsiE3GfXpqbkAAAASQZsWSeEOiZTAh3/+qZYAAJWAAAAADEGfNEUVPC//AACygAAAAA8Bn1N0Qr8BTbKOI7LsqRcAAAAPAZ9VakK/AU2yjdZ6s9HdAAAAE0GbWkmoQWiZTAh3//6plgAAlYEAAAAMQZ94RREsL/8AALKBAAAAEAGfl3RCvwIL0A5/FgceVUAAAAAQAZ+ZakK/AgsbXdWrnoaVgQAAABJBm55JqEFsmUwIb//+p4QAAScAAAAMQZ+8RRUsL/8AALKBAAAAEAGf23RCvwIL0A5/FgceVUEAAAAQAZ/dakK/AU2yjvZ4+3TCgAAAABlBm8FJqEFsmUwIb//+p4QBxuwevZnwKOn+AAAAEUGf/0UVLCv/AVqlG80LB9mtAAAADgGeAGpCvwFabGMm5JNaAAAAEkGaBUmoQWyZTAhn//6eEAAEfQAAAAxBniNFFSwv/wAAsoAAAAAQAZ5CdEK/AUS2tunZdlSPgQAAABABnkRqQr8BRLa2wz1Z6PSBAAAAGkGaSUuoQhBbJEYIKAfyAf2HgCFf/jhAABFxAAAAI0GeZ0UVLC//AgHc6kvbMwq5gOgatahcCUAZaJPC3zKTNJwxAAAAEAGehnRCvwFEtrdl1X8BwsAAAAAlAZ6IakK/Aq9j7UHE3arDSSblqKmMYbpAIIAyHVl/lgzwKj5Z8AAADAhtb292AAAAbG12aGQAAAAAAAAAAAAAAAAAAAPoAAAfkAABAAABAAAAAAAAAAAAAAAAAQAAAAAAAAAAAAAAAAAAAAEAAAAAAAAAAAAAAAAAAEAAAAAAAAAAAAAAAAAAAAAAAAAAAAAAAAAAAAAAAAACAAALMnRyYWsAAABcdGtoZAAAAAMAAAAAAAAAAAAAAAEAAAAAAAAfkAAAAAAAAAAAAAAAAAAAAAAAAQAAAAAAAAAAAAAAAAAAAAEAAAAAAAAAAAAAAAAAAEAAAAABEAAAARAAAAAAACRlZHRzAAAAHGVsc3QAAAAAAAAAAQAAH5AAAAQAAAEAAAAACqptZGlhAAAAIG1kaGQAAAAAAAAAAAAAAAAAADIAAAGUAFXEAAAAAAAtaGRscgAAAAAAAAAAdmlkZQAAAAAAAAAAAAAAAFZpZGVvSGFuZGxlcgAAAApVbWluZgAAABR2bWhkAAAAAQAAAAAAAAAAAAAAJGRpbmYAAAAcZHJlZgAAAAAAAAABAAAADHVybCAAAAABAAAKFXN0YmwAAACVc3RzZAAAAAAAAAABAAAAhWF2YzEAAAAAAAAAAQAAAAAAAAAAAAAAAAAAAAABEAEQAEgAAABIAAAAAAAAAAEAAAAAAAAAAAAAAAAAAAAAAAAAAAAAAAAAAAAAAAAAAAAY//8AAAAvYXZjQwH0AA3/4QAXZ/QADZGbKCIR0IAAAAMAgAAAGQeKFMsBAAVo6+PESAAAABhzdHRzAAAAAAAAAAEAAADKAAACAAAAABRzdHNzAAAAAAAAAAEAAAABAAAF4GN0dHMAAAAAAAAAugAAAAEAAAQAAAAAAQAACgAAAAABAAAEAAAAAAEAAAAAAAAAAQAAAgAAAAABAAAKAAAAAAEAAAQAAAAAAQAAAAAAAAABAAACAAAAAAEAAAoAAAAAAQAABAAAAAABAAAAAAAAAAEAAAIAAAAAAQAABAAAAAABAAAKAAAAAAEAAAQAAAAAAQAAAAAAAAABAAACAAAAAAEAAAoAAAAAAQAABAAAAAABAAAAAAAAAAEAAAIAAAAAAQAACgAAAAABAAAEAAAAAAEAAAAAAAAAAQAAAgAAAAABAAAKAAAAAAEAAAQAAAAAAQAAAAAAAAABAAACAAAAAAEAAAoAAAAAAQAABAAAAAABAAAAAAAAAAEAAAIAAAAAAQAACgAAAAABAAAEAAAAAAEAAAAAAAAAAQAAAgAAAAABAAAKAAAAAAEAAAQAAAAAAQAAAAAAAAABAAACAAAAAAEAAAoAAAAAAQAABAAAAAABAAAAAAAAAAEAAAIAAAAAAQAACAAAAAACAAACAAAAAAEAAAgAAAAAAgAAAgAAAAABAAAEAAAAAAEAAAgAAAAAAgAAAgAAAAABAAAKAAAAAAEAAAQAAAAAAQAAAAAAAAABAAACAAAAAAMAAAQAAAAAAQAACgAAAAABAAAEAAAAAAEAAAAAAAAAAQAAAgAAAAABAAAKAAAAAAEAAAQAAAAAAQAAAAAAAAABAAACAAAAAAEAAAgAAAAAAgAAAgAAAAACAAAEAAAAAAEAAAoAAAAAAQAABAAAAAABAAAAAAAAAAEAAAIAAAAAAQAACgAAAAABAAAEAAAAAAEAAAAAAAAAAQAAAgAAAAACAAAEAAAAAAEAAAoAAAAAAQAABAAAAAABAAAAAAAAAAEAAAIAAAAAAQAABAAAAAABAAAKAAAAAAEAAAQAAAAAAQAAAAAAAAABAAACAAAAAAEAAAQAAAAAAQAACgAAAAABAAAEAAAAAAEAAAAAAAAAAQAAAgAAAAABAAAKAAAAAAEAAAQAAAAAAQAAAAAAAAABAAACAAAAAAEAAAoAAAAAAQAABAAAAAABAAAAAAAAAAEAAAIAAAAAAQAABgAAAAABAAACAAAAAAEAAAYAAAAAAQAAAgAAAAABAAAGAAAAAAEAAAIAAAAAAQAACAAAAAACAAACAAAAAAEAAAYAAAAAAQAAAgAAAAABAAAIAAAAAAIAAAIAAAAAAQAACgAAAAABAAAEAAAAAAEAAAAAAAAAAQAAAgAAAAABAAAKAAAAAAEAAAQAAAAAAQAAAAAAAAABAAACAAAAAAEAAAYAAAAAAQAAAgAAAAACAAAEAAAAAAEAAAYAAAAAAQAAAgAAAAABAAAEAAAAAAEAAAoAAAAAAQAABAAAAAABAAAAAAAAAAEAAAIAAAAAAgAABAAAAAABAAAKAAAAAAEAAAQAAAAAAQAAAAAAAAABAAACAAAAAAEAAAoAAAAAAQAABAAAAAABAAAAAAAAAAEAAAIAAAAAAQAACAAAAAACAAACAAAAAAEAAAoAAAAAAQAABAAAAAABAAAAAAAAAAEAAAIAAAAAAQAACAAAAAACAAACAAAAAAEAAAQAAAAAAQAABgAAAAABAAACAAAAAAEAAAQAAAAAAQAACgAAAAABAAAEAAAAAAEAAAAAAAAAAQAAAgAAAAABAAAKAAAAAAEAAAQAAAAAAQAAAAAAAAABAAACAAAAAAEAAAgAAAAAAgAAAgAAAAABAAAEAAAAAAEAAAYAAAAAAQAAAgAAAAABAAAKAAAAAAEAAAQAAAAAAQAAAAAAAAABAAACAAAAAAEAAAoAAAAAAQAABAAAAAABAAAAAAAAAAEAAAIAAAAAAQAACgAAAAABAAAEAAAAAAEAAAAAAAAAAQAAAgAAAAABAAAIAAAAAAIAAAIAAAAAAQAACgAAAAABAAAEAAAAAAEAAAAAAAAAAQAAAgAAAAABAAAKAAAAAAEAAAQAAAAAAQAAAAAAAAABAAACAAAAABxzdHNjAAAAAAAAAAEAAAABAAAAygAAAAEAAAM8c3RzegAAAAAAAAAAAAAAygAABZUAAAAtAAAAGAAAABQAAAAUAAAAIAAAABUAAAATAAAAFAAAABwAAAAUAAAAEwAAABQAAAAdAAAAJAAAABgAAAATAAAAEwAAAB0AAAAUAAAAEwAAABQAAAAXAAAAEAAAABQAAAAUAAAAFwAAABAAAAAUAAAAFAAAABcAAAAQAAAAFAAAABQAAAAXAAAAEAAAABQAAAAUAAAAFwAAABAAAAAUAAAAFAAAABYAAAAQAAAAFAAAABQAAAAdAAAAFgAAABMAAAAgAAAAFQAAABIAAAAdAAAAHQAAABQAAAASAAAAHAAAABIAAAAUAAAAFAAAAB0AAAAdAAAAHQAAABoAAAASAAAAFAAAABQAAAAgAAAAFAAAABMAAAAUAAAAHgAAABMAAAAUAAAAHgAAAB0AAAAVAAAAEAAAABQAAAAUAAAAFgAAABAAAAAUAAAAFAAAAB8AAAAfAAAAHwAAABQAAAATAAAAEwAAAB0AAAAiAAAAFAAAABMAAAAUAAAAIAAAABYAAAAQAAAAFAAAABMAAAAXAAAAEAAAABQAAAATAAAALAAAABQAAAATAAAAFAAAAB0AAAATAAAAIAAAABQAAAAgAAAAFAAAAB0AAAAWAAAAEgAAACIAAAAUAAAAHQAAABMAAAATAAAAGwAAABcAAAAUAAAAEwAAAB0AAAAUAAAAEwAAABQAAAAeAAAAEwAAABwAAAAdAAAAIQAAABMAAAAfAAAAHgAAABQAAAATAAAAFAAAAB0AAAAcAAAAFgAAABAAAAAUAAAAFAAAABcAAAAQAAAAFAAAABQAAAAgAAAAFgAAABMAAAAgAAAAFAAAABMAAAAUAAAAHQAAABYAAAASAAAAHgAAACEAAAAUAAAAHQAAAB8AAAAUAAAAFAAAABMAAAAWAAAAEAAAABQAAAAUAAAAHgAAABMAAAARAAAAHgAAACIAAAAUAAAAFgAAABAAAAATAAAAEwAAABcAAAAQAAAAFAAAABQAAAAWAAAAEAAAABQAAAAUAAAAHQAAABUAAAASAAAAFgAAABAAAAAUAAAAFAAAAB4AAAAnAAAAFAAAACkAAAAUc3RjbwAAAAAAAAABAAAAMAAAAGJ1ZHRhAAAAWm1ldGEAAAAAAAAAIWhkbHIAAAAAAAAAAG1kaXJhcHBsAAAAAAAAAAAAAAAALWlsc3QAAAAlqXRvbwAAAB1kYXRhAAAAAQAAAABMYXZmNTcuODMuMTAw\" type=\"video/mp4\" />\n",
              "             </video>"
            ],
            "text/plain": [
              "<IPython.core.display.HTML object>"
            ]
          },
          "metadata": {
            "tags": []
          },
          "execution_count": 14
        }
      ]
    },
    {
      "cell_type": "markdown",
      "metadata": {
        "id": "XfoLHKgcZduL",
        "colab_type": "text"
      },
      "source": [
        "***\n",
        "***\n",
        "__Question 9__ Test both algorithms and compare their performances. Which issue(s) do you observe? Observe also different behaviors by changing the temperature."
      ]
    },
    {
      "cell_type": "code",
      "metadata": {
        "id": "xMAJwAgpZduO",
        "colab_type": "code",
        "outputId": "d8b648f9-3695-4a9b-c10a-f5c6287609aa",
        "colab": {
          "base_uri": "https://localhost:8080/",
          "height": 470
        }
      },
      "source": [
        "env = Environment(grid_size=size, max_time=T,temperature=0.3)\n",
        "agent_cnn = DQN_CNN(size, lr=.1, epsilon = 0.1, memory_size=2000, batch_size = 32)\n",
        "agent_cnn.load(name_weights='cnn_trainmodel.h5',name_model='cnn_trainmodel.json')\n",
        "\n",
        "agent_fc = DQN_FC(size, lr=.1, epsilon = 0.1, memory_size=2000, batch_size = 32)\n",
        "agent_cnn.load(name_weights='fc_trainmodel.h5',name_model='fc_trainmodel.json')\n",
        "print('Test of the CNN')\n",
        "test(agent_cnn,env,epochs_test,prefix='cnn_test')\n",
        "print('Test of the FC')\n",
        "test(agent_fc,env,epochs_test,prefix='fc_test')"
      ],
      "execution_count": 15,
      "outputs": [
        {
          "output_type": "stream",
          "text": [
            "Test of the CNN\n",
            "Win/lose count 0/0. Average score (0.0)\n",
            "Win/lose count 0.5/0. Average score (0.25)\n",
            "Win/lose count 0.5/0. Average score (0.3333333333333333)\n",
            "Win/lose count 1.0/0. Average score (0.5)\n",
            "Win/lose count 1.5/1.0. Average score (0.5)\n",
            "Win/lose count 1.5/1.0. Average score (0.5)\n",
            "Win/lose count 0.5/0. Average score (0.5)\n",
            "Win/lose count 2.5/0. Average score (0.75)\n",
            "Win/lose count 0.5/0. Average score (0.7222222222222222)\n",
            "Win/lose count 0/0. Average score (0.65)\n",
            "Win/lose count 1.0/0. Average score (0.6818181818181818)\n",
            "Final score: 0.6818181818181818\n",
            "Test of the FC\n",
            "Win/lose count 0/0. Average score (0.0)\n",
            "Win/lose count 2.5/1.0. Average score (0.75)\n",
            "Win/lose count 1.0/1.0. Average score (0.5)\n",
            "Win/lose count 0.5/0. Average score (0.5)\n",
            "Win/lose count 1.0/2.0. Average score (0.2)\n",
            "Win/lose count 1.0/1.0. Average score (0.16666666666666666)\n",
            "Win/lose count 1.0/1.0. Average score (0.14285714285714285)\n",
            "Win/lose count 0/0. Average score (0.125)\n",
            "Win/lose count 0/1.0. Average score (0.0)\n",
            "Win/lose count 0/1.0. Average score (-0.1)\n",
            "Win/lose count 0.5/0. Average score (-0.045454545454545456)\n",
            "Final score: -0.045454545454545456\n"
          ],
          "name": "stdout"
        },
        {
          "output_type": "execute_result",
          "data": {
            "text/plain": [
              "-0.045454545454545456"
            ]
          },
          "metadata": {
            "tags": []
          },
          "execution_count": 15
        }
      ]
    },
    {
      "cell_type": "code",
      "metadata": {
        "id": "1EP7Xt2xrJ9e",
        "colab_type": "code",
        "colab": {
          "base_uri": "https://localhost:8080/",
          "height": 1000
        },
        "outputId": "3a6af556-67f0-4a03-9c66-b91b37ff2d63"
      },
      "source": [
        "from tqdm import tqdm\n",
        "temp_list = np.linspace(.1,1,4)\n",
        "scores_fc, scores_conv, scores_rand = [],[],[]\n",
        "epochs_train = 20\n",
        "epochs_test = 20\n",
        "\n",
        "for temperature in tqdm(temp_list):\n",
        "  env = Environment(grid_size=size, max_time=T,temperature=temperature)\n",
        "\n",
        "  agent_cnn = DQN_CNN(size, lr=1e-2, epsilon = 0.1, memory_size=2000, batch_size = 32)\n",
        "  agent_fc = DQN_FC(size, lr=1e-2, epsilon = 0.1, memory_size=2000, batch_size = 32)\n",
        "  agent_rand = RandomAgent()\n",
        "\n",
        "  train(agent_cnn,env,epochs_train,prefix='cnn_train_T%.2f'%temperature)\n",
        "  train(agent_fc,env,epochs_train,prefix='fc_train_T%.2f'%temperature)\n",
        "\n",
        "  scores_fc.append(test(agent_fc,env,epochs_test,prefix='fc_test_T%.2f'%temperature))\n",
        "  scores_conv.append(test(agent_cnn,env,epochs_test,prefix='cnn_test_T%.2f'%temperature))\n",
        "  scores_rand.append(test(agent,env,epochs_test,prefix='random_T%.2f'%temperature))"
      ],
      "execution_count": 18,
      "outputs": [
        {
          "output_type": "stream",
          "text": [
            "\r  0%|          | 0/4 [00:00<?, ?it/s]"
          ],
          "name": "stderr"
        },
        {
          "output_type": "stream",
          "text": [
            "Epoch 000/020 | Loss 0.0036 | Win/lose count 1.0/3.0 (-2.0)\n",
            "Epoch 001/020 | Loss 0.0013 | Win/lose count 5.5/4.0 (1.5)\n",
            "Epoch 002/020 | Loss 0.0011 | Win/lose count 3.5/1.0 (2.5)\n",
            "Epoch 003/020 | Loss 0.0022 | Win/lose count 4.0/2.0 (2.0)\n",
            "Epoch 004/020 | Loss 0.0703 | Win/lose count 1.5/0 (1.5)\n",
            "Epoch 005/020 | Loss 0.0024 | Win/lose count 2.5/4.0 (-1.5)\n",
            "Epoch 006/020 | Loss 0.0036 | Win/lose count 2.5/4.0 (-1.5)\n",
            "Epoch 007/020 | Loss 0.0529 | Win/lose count 1.0/0 (1.0)\n",
            "Epoch 008/020 | Loss 0.0034 | Win/lose count 1.5/0 (1.5)\n",
            "Epoch 009/020 | Loss 0.0018 | Win/lose count 4.0/4.0 (0.0)\n",
            "Epoch 010/020 | Loss 0.0057 | Win/lose count 2.0/1.0 (1.0)\n",
            "Epoch 011/020 | Loss 0.0418 | Win/lose count 2.5/1.0 (1.5)\n",
            "Epoch 012/020 | Loss 0.0057 | Win/lose count 7.0/3.0 (4.0)\n",
            "Epoch 013/020 | Loss 0.0045 | Win/lose count 3.0/2.0 (1.0)\n",
            "Epoch 014/020 | Loss 0.0503 | Win/lose count 3.5/1.0 (2.5)\n",
            "Epoch 015/020 | Loss 0.0020 | Win/lose count 5.0/1.0 (4.0)\n",
            "Epoch 016/020 | Loss 0.0027 | Win/lose count 4.5/0 (4.5)\n",
            "Epoch 017/020 | Loss 0.0011 | Win/lose count 4.5/0 (4.5)\n",
            "Epoch 018/020 | Loss 0.0016 | Win/lose count 4.0/1.0 (3.0)\n",
            "Epoch 019/020 | Loss 0.0012 | Win/lose count 2.0/1.0 (1.0)\n",
            "Epoch 000/020 | Loss 0.0034 | Win/lose count 1.0/3.0 (-2.0)\n",
            "Epoch 001/020 | Loss 0.0013 | Win/lose count 1.0/0 (1.0)\n",
            "Epoch 002/020 | Loss 0.0028 | Win/lose count 0/2.0 (-2.0)\n",
            "Epoch 003/020 | Loss 0.0026 | Win/lose count 2.5/1.0 (1.5)\n",
            "Epoch 004/020 | Loss 0.0014 | Win/lose count 4.0/2.0 (2.0)\n",
            "Epoch 005/020 | Loss 0.0025 | Win/lose count 3.5/2.0 (1.5)\n",
            "Epoch 006/020 | Loss 0.0014 | Win/lose count 3.0/3.0 (0.0)\n",
            "Epoch 007/020 | Loss 0.0035 | Win/lose count 1.5/3.0 (-1.5)\n",
            "Epoch 008/020 | Loss 0.0035 | Win/lose count 3.5/2.0 (1.5)\n",
            "Epoch 009/020 | Loss 0.0034 | Win/lose count 3.5/2.0 (1.5)\n",
            "Epoch 010/020 | Loss 0.0015 | Win/lose count 0/0 (0)\n",
            "Epoch 011/020 | Loss 0.0018 | Win/lose count 1.0/0 (1.0)\n",
            "Epoch 012/020 | Loss 0.0025 | Win/lose count 2.5/1.0 (1.5)\n",
            "Epoch 013/020 | Loss 0.0046 | Win/lose count 1.5/2.0 (-0.5)\n",
            "Epoch 014/020 | Loss 0.0037 | Win/lose count 4.5/1.0 (3.5)\n",
            "Epoch 015/020 | Loss 0.0020 | Win/lose count 2.5/0 (2.5)\n",
            "Epoch 016/020 | Loss 0.0022 | Win/lose count 2.5/2.0 (0.5)\n",
            "Epoch 017/020 | Loss 0.0022 | Win/lose count 7.5/0 (7.5)\n",
            "Epoch 018/020 | Loss 0.0017 | Win/lose count 3.0/3.0 (0.0)\n",
            "Epoch 019/020 | Loss 0.0025 | Win/lose count 5.0/1.0 (4.0)\n",
            "Win/lose count 0/0. Average score (0.0)\n",
            "Win/lose count 0.5/0. Average score (0.25)\n",
            "Win/lose count 0/0. Average score (0.16666666666666666)\n",
            "Win/lose count 1.0/0. Average score (0.375)\n",
            "Win/lose count 1.0/0. Average score (0.5)\n",
            "Win/lose count 1.5/0. Average score (0.6666666666666666)\n",
            "Win/lose count 0.5/0. Average score (0.6428571428571429)\n",
            "Win/lose count 0.5/0. Average score (0.625)\n",
            "Win/lose count 2.0/0. Average score (0.7777777777777778)\n",
            "Win/lose count 0.5/0. Average score (0.75)\n",
            "Win/lose count 2.5/0. Average score (0.9090909090909091)\n",
            "Win/lose count 2.5/0. Average score (1.0416666666666667)\n",
            "Win/lose count 1.0/0. Average score (1.0384615384615385)\n",
            "Win/lose count 0.5/0. Average score (1.0)\n",
            "Win/lose count 1.0/0. Average score (1.0)\n",
            "Win/lose count 0/0. Average score (0.9375)\n",
            "Win/lose count 0.5/0. Average score (0.9117647058823529)\n",
            "Win/lose count 0.5/0. Average score (0.8888888888888888)\n",
            "Win/lose count 0.5/0. Average score (0.868421052631579)\n",
            "Win/lose count 1.0/0. Average score (0.875)\n",
            "Final score: 0.875\n",
            "Win/lose count 2.5/0. Average score (2.5)\n",
            "Win/lose count 1.5/0. Average score (2.0)\n",
            "Win/lose count 1.0/0. Average score (1.6666666666666667)\n",
            "Win/lose count 0/0. Average score (1.25)\n",
            "Win/lose count 1.5/0. Average score (1.3)\n",
            "Win/lose count 0/0. Average score (1.0833333333333333)\n",
            "Win/lose count 0/0. Average score (0.9285714285714286)\n",
            "Win/lose count 0/0. Average score (0.8125)\n",
            "Win/lose count 0.5/0. Average score (0.7777777777777778)\n",
            "Win/lose count 1.0/0. Average score (0.8)\n",
            "Win/lose count 2.0/0. Average score (0.9090909090909091)\n",
            "Win/lose count 0.5/0. Average score (0.875)\n",
            "Win/lose count 1.0/0. Average score (0.8846153846153846)\n",
            "Win/lose count 2.0/0. Average score (0.9642857142857143)\n",
            "Win/lose count 0.5/0. Average score (0.9333333333333333)\n",
            "Win/lose count 0.5/0. Average score (0.90625)\n",
            "Win/lose count 1.0/0. Average score (0.9117647058823529)\n",
            "Win/lose count 0.5/0. Average score (0.8888888888888888)\n",
            "Win/lose count 0/0. Average score (0.8421052631578947)\n",
            "Win/lose count 0.5/0. Average score (0.825)\n",
            "Final score: 0.825\n",
            "Win/lose count 0/0. Average score (0.0)\n",
            "Win/lose count 0/0. Average score (0.0)\n",
            "Win/lose count 0.5/0. Average score (0.16666666666666666)\n",
            "Win/lose count 0/0. Average score (0.125)\n",
            "Win/lose count 0.5/0. Average score (0.2)\n",
            "Win/lose count 0.5/0. Average score (0.25)\n",
            "Win/lose count 0.5/0. Average score (0.2857142857142857)\n",
            "Win/lose count 0.5/0. Average score (0.3125)\n",
            "Win/lose count 1.0/0. Average score (0.3888888888888889)\n",
            "Win/lose count 0.5/0. Average score (0.4)\n",
            "Win/lose count 0.5/0. Average score (0.4090909090909091)\n",
            "Win/lose count 2.5/0. Average score (0.5833333333333334)\n",
            "Win/lose count 0/0. Average score (0.5384615384615384)\n",
            "Win/lose count 0.5/0. Average score (0.5357142857142857)\n",
            "Win/lose count 0.5/0. Average score (0.5333333333333333)\n",
            "Win/lose count 0.5/0. Average score (0.53125)\n",
            "Win/lose count 0/0. Average score (0.5)\n",
            "Win/lose count 2.0/1.0. Average score (0.5277777777777778)\n",
            "Win/lose count 0/0. Average score (0.5)\n"
          ],
          "name": "stdout"
        },
        {
          "output_type": "stream",
          "text": [
            "\r 25%|██▌       | 1/4 [12:47<38:21, 767.01s/it]"
          ],
          "name": "stderr"
        },
        {
          "output_type": "stream",
          "text": [
            "Win/lose count 0.5/0. Average score (0.5)\n",
            "Final score: 0.5\n",
            "Epoch 000/020 | Loss 0.0010 | Win/lose count 3.0/3.0 (0.0)\n",
            "Epoch 001/020 | Loss 0.0056 | Win/lose count 5.0/2.0 (3.0)\n",
            "Epoch 002/020 | Loss 0.0044 | Win/lose count 12.5/6.0 (6.5)\n",
            "Epoch 003/020 | Loss 0.0012 | Win/lose count 6.5/10.0 (-3.5)\n",
            "Epoch 004/020 | Loss 0.0052 | Win/lose count 3.5/1.0 (2.5)\n",
            "Epoch 005/020 | Loss 0.0174 | Win/lose count 10.5/4.0 (6.5)\n",
            "Epoch 006/020 | Loss 0.0567 | Win/lose count 10.5/7.0 (3.5)\n",
            "Epoch 007/020 | Loss 0.0024 | Win/lose count 10.5/1.0 (9.5)\n",
            "Epoch 008/020 | Loss 0.0051 | Win/lose count 7.5/3.0 (4.5)\n",
            "Epoch 009/020 | Loss 0.0039 | Win/lose count 6.5/3.0 (3.5)\n",
            "Epoch 010/020 | Loss 0.0034 | Win/lose count 4.5/2.0 (2.5)\n",
            "Epoch 011/020 | Loss 0.0049 | Win/lose count 9.0/1.0 (8.0)\n",
            "Epoch 012/020 | Loss 0.0437 | Win/lose count 10.5/3.0 (7.5)\n",
            "Epoch 013/020 | Loss 0.0301 | Win/lose count 14.5/2.0 (12.5)\n",
            "Epoch 014/020 | Loss 0.0657 | Win/lose count 7.0/0 (7.0)\n",
            "Epoch 015/020 | Loss 0.0035 | Win/lose count 9.0/4.0 (5.0)\n",
            "Epoch 016/020 | Loss 0.0029 | Win/lose count 6.5/2.0 (4.5)\n",
            "Epoch 017/020 | Loss 0.0025 | Win/lose count 14.0/4.0 (10.0)\n",
            "Epoch 018/020 | Loss 0.0031 | Win/lose count 11.0/5.0 (6.0)\n",
            "Epoch 019/020 | Loss 0.0022 | Win/lose count 8.0/3.0 (5.0)\n",
            "Epoch 000/020 | Loss 0.0050 | Win/lose count 5.0/7.0 (-2.0)\n",
            "Epoch 001/020 | Loss 0.0004 | Win/lose count 3.0/2.0 (1.0)\n",
            "Epoch 002/020 | Loss 0.0042 | Win/lose count 6.0/7.0 (-1.0)\n",
            "Epoch 003/020 | Loss 0.0025 | Win/lose count 7.5/8.0 (-0.5)\n",
            "Epoch 004/020 | Loss 0.0027 | Win/lose count 3.5/9.0 (-5.5)\n",
            "Epoch 005/020 | Loss 0.0221 | Win/lose count 6.5/6.0 (0.5)\n",
            "Epoch 006/020 | Loss 0.0024 | Win/lose count 6.5/9.0 (-2.5)\n",
            "Epoch 007/020 | Loss 0.0019 | Win/lose count 6.5/3.0 (3.5)\n",
            "Epoch 008/020 | Loss 0.0025 | Win/lose count 6.0/0 (6.0)\n",
            "Epoch 009/020 | Loss 0.0470 | Win/lose count 5.5/0 (5.5)\n",
            "Epoch 010/020 | Loss 0.0045 | Win/lose count 2.5/3.0 (-0.5)\n",
            "Epoch 011/020 | Loss 0.0093 | Win/lose count 10.5/5.0 (5.5)\n",
            "Epoch 012/020 | Loss 0.0369 | Win/lose count 8.0/1.0 (7.0)\n",
            "Epoch 013/020 | Loss 0.0014 | Win/lose count 2.5/2.0 (0.5)\n",
            "Epoch 014/020 | Loss 0.0036 | Win/lose count 7.5/4.0 (3.5)\n",
            "Epoch 015/020 | Loss 0.0079 | Win/lose count 12.5/1.0 (11.5)\n",
            "Epoch 016/020 | Loss 0.0021 | Win/lose count 14.0/3.0 (11.0)\n",
            "Epoch 017/020 | Loss 0.0015 | Win/lose count 5.5/1.0 (4.5)\n",
            "Epoch 018/020 | Loss 0.0186 | Win/lose count 15.5/6.0 (9.5)\n",
            "Epoch 019/020 | Loss 0.0029 | Win/lose count 10.5/6.0 (4.5)\n",
            "Win/lose count 4.0/0. Average score (4.0)\n",
            "Win/lose count 0.5/0. Average score (2.25)\n",
            "Win/lose count 3.0/0. Average score (2.5)\n",
            "Win/lose count 0.5/0. Average score (2.0)\n",
            "Win/lose count 2.0/1.0. Average score (1.8)\n",
            "Win/lose count 0.5/1.0. Average score (1.4166666666666667)\n",
            "Win/lose count 4.0/0. Average score (1.7857142857142858)\n",
            "Win/lose count 3.0/0. Average score (1.9375)\n",
            "Win/lose count 1.0/1.0. Average score (1.7222222222222223)\n",
            "Win/lose count 4.5/0. Average score (2.0)\n",
            "Win/lose count 2.5/0. Average score (2.0454545454545454)\n",
            "Win/lose count 2.5/0. Average score (2.0833333333333335)\n",
            "Win/lose count 3.0/0. Average score (2.1538461538461537)\n",
            "Win/lose count 2.0/0. Average score (2.142857142857143)\n",
            "Win/lose count 2.5/0. Average score (2.1666666666666665)\n",
            "Win/lose count 7.5/1.0. Average score (2.4375)\n",
            "Win/lose count 2.5/0. Average score (2.4411764705882355)\n",
            "Win/lose count 1.5/0. Average score (2.388888888888889)\n",
            "Win/lose count 0.5/0. Average score (2.289473684210526)\n",
            "Win/lose count 0.5/0. Average score (2.2)\n",
            "Final score: 2.2\n",
            "Win/lose count 0.5/1.0. Average score (-0.5)\n",
            "Win/lose count 0/0. Average score (-0.25)\n",
            "Win/lose count 0.5/0. Average score (0.0)\n",
            "Win/lose count 0.5/0. Average score (0.125)\n",
            "Win/lose count 1.0/0. Average score (0.3)\n",
            "Win/lose count 2.5/0. Average score (0.6666666666666666)\n",
            "Win/lose count 0.5/0. Average score (0.6428571428571429)\n",
            "Win/lose count 1.0/1.0. Average score (0.5625)\n",
            "Win/lose count 1.0/0. Average score (0.6111111111111112)\n",
            "Win/lose count 1.5/0. Average score (0.7)\n",
            "Win/lose count 0.5/0. Average score (0.6818181818181818)\n",
            "Win/lose count 0.5/0. Average score (0.6666666666666666)\n",
            "Win/lose count 1.0/0. Average score (0.6923076923076923)\n",
            "Win/lose count 2.0/0. Average score (0.7857142857142857)\n",
            "Win/lose count 0/0. Average score (0.7333333333333333)\n",
            "Win/lose count 3.5/1.0. Average score (0.84375)\n",
            "Win/lose count 3.0/0. Average score (0.9705882352941176)\n",
            "Win/lose count 0.5/0. Average score (0.9444444444444444)\n",
            "Win/lose count 0/0. Average score (0.8947368421052632)\n",
            "Win/lose count 0.5/1.0. Average score (0.825)\n",
            "Final score: 0.825\n",
            "Win/lose count 0.5/0. Average score (0.5)\n",
            "Win/lose count 3.5/0. Average score (2.0)\n",
            "Win/lose count 0.5/0. Average score (1.5)\n",
            "Win/lose count 0.5/0. Average score (1.25)\n",
            "Win/lose count 2.5/0. Average score (1.5)\n",
            "Win/lose count 5.0/1.0. Average score (1.9166666666666667)\n",
            "Win/lose count 6.5/1.0. Average score (2.4285714285714284)\n",
            "Win/lose count 0/0. Average score (2.125)\n",
            "Win/lose count 2.0/0. Average score (2.111111111111111)\n",
            "Win/lose count 2.0/0. Average score (2.1)\n",
            "Win/lose count 2.0/0. Average score (2.090909090909091)\n",
            "Win/lose count 0.5/0. Average score (1.9583333333333333)\n",
            "Win/lose count 1.5/0. Average score (1.9230769230769231)\n",
            "Win/lose count 1.5/0. Average score (1.8928571428571428)\n",
            "Win/lose count 0.5/0. Average score (1.8)\n",
            "Win/lose count 0/0. Average score (1.6875)\n",
            "Win/lose count 4.5/1.0. Average score (1.7941176470588236)\n",
            "Win/lose count 0/0. Average score (1.6944444444444444)\n",
            "Win/lose count 1.0/0. Average score (1.6578947368421053)\n"
          ],
          "name": "stdout"
        },
        {
          "output_type": "stream",
          "text": [
            "\r 50%|█████     | 2/4 [25:39<25:37, 768.66s/it]"
          ],
          "name": "stderr"
        },
        {
          "output_type": "stream",
          "text": [
            "Win/lose count 1.0/0. Average score (1.625)\n",
            "Final score: 1.625\n",
            "Epoch 000/020 | Loss 0.0077 | Win/lose count 5.0/2.0 (3.0)\n",
            "Epoch 001/020 | Loss 0.0011 | Win/lose count 7.5/3.0 (4.5)\n",
            "Epoch 002/020 | Loss 0.0047 | Win/lose count 6.5/4.0 (2.5)\n",
            "Epoch 003/020 | Loss 0.0035 | Win/lose count 14.0/4.0 (10.0)\n",
            "Epoch 004/020 | Loss 0.0035 | Win/lose count 10.5/2.0 (8.5)\n",
            "Epoch 005/020 | Loss 0.0030 | Win/lose count 25.0/4.0 (21.0)\n",
            "Epoch 006/020 | Loss 0.0048 | Win/lose count 14.5/6.0 (8.5)\n",
            "Epoch 007/020 | Loss 0.0021 | Win/lose count 25.0/5.0 (20.0)\n",
            "Epoch 008/020 | Loss 0.0053 | Win/lose count 27.0/5.0 (22.0)\n",
            "Epoch 009/020 | Loss 0.0585 | Win/lose count 12.0/3.0 (9.0)\n",
            "Epoch 010/020 | Loss 0.0101 | Win/lose count 24.0/1.0 (23.0)\n",
            "Epoch 011/020 | Loss 0.0014 | Win/lose count 12.5/2.0 (10.5)\n",
            "Epoch 012/020 | Loss 0.0453 | Win/lose count 8.5/4.0 (4.5)\n",
            "Epoch 013/020 | Loss 0.0024 | Win/lose count 30.5/3.0 (27.5)\n",
            "Epoch 014/020 | Loss 0.0033 | Win/lose count 29.0/7.0 (22.0)\n",
            "Epoch 015/020 | Loss 0.0029 | Win/lose count 29.0/3.0 (26.0)\n",
            "Epoch 016/020 | Loss 0.0035 | Win/lose count 32.5/4.0 (28.5)\n",
            "Epoch 017/020 | Loss 0.0064 | Win/lose count 21.5/5.0 (16.5)\n",
            "Epoch 018/020 | Loss 0.0008 | Win/lose count 20.0/6.0 (14.0)\n",
            "Epoch 019/020 | Loss 0.0152 | Win/lose count 17.0/4.0 (13.0)\n",
            "Epoch 000/020 | Loss 0.0022 | Win/lose count 2.5/4.0 (-1.5)\n",
            "Epoch 001/020 | Loss 0.0006 | Win/lose count 8.0/4.0 (4.0)\n",
            "Epoch 002/020 | Loss 0.0414 | Win/lose count 8.5/5.0 (3.5)\n",
            "Epoch 003/020 | Loss 0.0246 | Win/lose count 4.5/4.0 (0.5)\n",
            "Epoch 004/020 | Loss 0.0011 | Win/lose count 5.5/1.0 (4.5)\n",
            "Epoch 005/020 | Loss 0.0051 | Win/lose count 11.5/7.0 (4.5)\n",
            "Epoch 006/020 | Loss 0.0022 | Win/lose count 6.0/1.0 (5.0)\n",
            "Epoch 007/020 | Loss 0.0047 | Win/lose count 7.0/2.0 (5.0)\n",
            "Epoch 008/020 | Loss 0.0032 | Win/lose count 5.5/6.0 (-0.5)\n",
            "Epoch 009/020 | Loss 0.0020 | Win/lose count 5.0/2.0 (3.0)\n",
            "Epoch 010/020 | Loss 0.0013 | Win/lose count 16.0/4.0 (12.0)\n",
            "Epoch 011/020 | Loss 0.0085 | Win/lose count 7.5/4.0 (3.5)\n",
            "Epoch 012/020 | Loss 0.0304 | Win/lose count 11.0/1.0 (10.0)\n",
            "Epoch 013/020 | Loss 0.0523 | Win/lose count 7.0/2.0 (5.0)\n",
            "Epoch 014/020 | Loss 0.0552 | Win/lose count 11.0/4.0 (7.0)\n",
            "Epoch 015/020 | Loss 0.0033 | Win/lose count 13.0/1.0 (12.0)\n",
            "Epoch 016/020 | Loss 0.0037 | Win/lose count 9.0/1.0 (8.0)\n",
            "Epoch 017/020 | Loss 0.0045 | Win/lose count 3.5/2.0 (1.5)\n",
            "Epoch 018/020 | Loss 0.0023 | Win/lose count 12.0/3.0 (9.0)\n",
            "Epoch 019/020 | Loss 0.0016 | Win/lose count 21.5/3.0 (18.5)\n",
            "Win/lose count 4.5/0. Average score (4.5)\n",
            "Win/lose count 9.5/0. Average score (7.0)\n",
            "Win/lose count 1.5/1.0. Average score (4.833333333333333)\n",
            "Win/lose count 4.0/0. Average score (4.625)\n",
            "Win/lose count 4.0/1.0. Average score (4.3)\n",
            "Win/lose count 3.5/0. Average score (4.166666666666667)\n",
            "Win/lose count 4.5/1.0. Average score (4.071428571428571)\n",
            "Win/lose count 7.0/0. Average score (4.4375)\n",
            "Win/lose count 2.5/0. Average score (4.222222222222222)\n",
            "Win/lose count 6.0/0. Average score (4.4)\n",
            "Win/lose count 1.5/0. Average score (4.136363636363637)\n",
            "Win/lose count 5.0/0. Average score (4.208333333333333)\n",
            "Win/lose count 7.0/0. Average score (4.423076923076923)\n",
            "Win/lose count 14.5/0. Average score (5.142857142857143)\n",
            "Win/lose count 7.0/0. Average score (5.266666666666667)\n",
            "Win/lose count 1.0/0. Average score (5.0)\n",
            "Win/lose count 5.5/1.0. Average score (4.970588235294118)\n",
            "Win/lose count 2.5/1.0. Average score (4.777777777777778)\n",
            "Win/lose count 3.0/0. Average score (4.684210526315789)\n",
            "Win/lose count 1.5/0. Average score (4.525)\n",
            "Final score: 4.525\n",
            "Win/lose count 1.5/0. Average score (1.5)\n",
            "Win/lose count 2.5/0. Average score (2.0)\n",
            "Win/lose count 1.0/0. Average score (1.6666666666666667)\n",
            "Win/lose count 0.5/0. Average score (1.375)\n",
            "Win/lose count 4.0/0. Average score (1.9)\n",
            "Win/lose count 6.0/0. Average score (2.5833333333333335)\n",
            "Win/lose count 1.5/0. Average score (2.4285714285714284)\n",
            "Win/lose count 5.0/0. Average score (2.75)\n",
            "Win/lose count 5.0/0. Average score (3.0)\n",
            "Win/lose count 2.0/0. Average score (2.9)\n",
            "Win/lose count 0.5/0. Average score (2.6818181818181817)\n",
            "Win/lose count 1.0/0. Average score (2.5416666666666665)\n",
            "Win/lose count 4.5/0. Average score (2.6923076923076925)\n",
            "Win/lose count 0.5/0. Average score (2.5357142857142856)\n",
            "Win/lose count 3.5/0. Average score (2.6)\n",
            "Win/lose count 6.5/0. Average score (2.84375)\n",
            "Win/lose count 2.0/0. Average score (2.7941176470588234)\n",
            "Win/lose count 4.5/0. Average score (2.888888888888889)\n",
            "Win/lose count 2.0/0. Average score (2.8421052631578947)\n",
            "Win/lose count 10.5/2.0. Average score (3.125)\n",
            "Final score: 3.125\n",
            "Win/lose count 4.0/1.0. Average score (3.0)\n",
            "Win/lose count 1.0/0. Average score (2.0)\n",
            "Win/lose count 3.0/0. Average score (2.3333333333333335)\n",
            "Win/lose count 1.0/0. Average score (2.0)\n",
            "Win/lose count 3.0/0. Average score (2.2)\n",
            "Win/lose count 1.5/1.0. Average score (1.9166666666666667)\n",
            "Win/lose count 1.5/0. Average score (1.8571428571428572)\n",
            "Win/lose count 3.0/0. Average score (2.0)\n",
            "Win/lose count 0.5/0. Average score (1.8333333333333333)\n",
            "Win/lose count 1.0/0. Average score (1.75)\n",
            "Win/lose count 1.0/0. Average score (1.6818181818181819)\n",
            "Win/lose count 2.0/0. Average score (1.7083333333333333)\n",
            "Win/lose count 1.0/1.0. Average score (1.5769230769230769)\n",
            "Win/lose count 0.5/0. Average score (1.5)\n",
            "Win/lose count 1.5/0. Average score (1.5)\n",
            "Win/lose count 5.5/0. Average score (1.75)\n",
            "Win/lose count 2.0/0. Average score (1.7647058823529411)\n",
            "Win/lose count 1.0/2.0. Average score (1.6111111111111112)\n",
            "Win/lose count 1.5/0. Average score (1.605263157894737)\n"
          ],
          "name": "stdout"
        },
        {
          "output_type": "stream",
          "text": [
            "\r 75%|███████▌  | 3/4 [38:35<12:50, 770.82s/it]"
          ],
          "name": "stderr"
        },
        {
          "output_type": "stream",
          "text": [
            "Win/lose count 1.0/0. Average score (1.575)\n",
            "Final score: 1.575\n",
            "Epoch 000/020 | Loss 0.0016 | Win/lose count 9.0/0 (9.0)\n",
            "Epoch 001/020 | Loss 0.0695 | Win/lose count 32.5/0 (32.5)\n",
            "Epoch 002/020 | Loss 0.0619 | Win/lose count 25.5/0 (25.5)\n",
            "Epoch 003/020 | Loss 0.0018 | Win/lose count 20.0/0 (20.0)\n",
            "Epoch 004/020 | Loss 0.0024 | Win/lose count 48.5/0 (48.5)\n",
            "Epoch 005/020 | Loss 0.0009 | Win/lose count 46.5/0 (46.5)\n",
            "Epoch 006/020 | Loss 0.0008 | Win/lose count 45.5/0 (45.5)\n",
            "Epoch 007/020 | Loss 0.0018 | Win/lose count 46.0/0 (46.0)\n",
            "Epoch 008/020 | Loss 0.0011 | Win/lose count 54.5/0 (54.5)\n",
            "Epoch 009/020 | Loss 0.0014 | Win/lose count 53.0/0 (53.0)\n",
            "Epoch 010/020 | Loss 0.0712 | Win/lose count 51.0/0 (51.0)\n",
            "Epoch 011/020 | Loss 0.0042 | Win/lose count 47.5/0 (47.5)\n",
            "Epoch 012/020 | Loss 0.0616 | Win/lose count 38.0/0 (38.0)\n",
            "Epoch 013/020 | Loss 0.0014 | Win/lose count 49.0/0 (49.0)\n",
            "Epoch 014/020 | Loss 0.0010 | Win/lose count 48.0/0 (48.0)\n",
            "Epoch 015/020 | Loss 0.0562 | Win/lose count 49.5/0 (49.5)\n",
            "Epoch 016/020 | Loss 0.0025 | Win/lose count 52.0/0 (52.0)\n",
            "Epoch 017/020 | Loss 0.0011 | Win/lose count 55.0/0 (55.0)\n",
            "Epoch 018/020 | Loss 0.0005 | Win/lose count 60.5/0 (60.5)\n",
            "Epoch 019/020 | Loss 0.0009 | Win/lose count 54.0/0 (54.0)\n",
            "Epoch 000/020 | Loss 0.0100 | Win/lose count 11.0/0 (11.0)\n",
            "Epoch 001/020 | Loss 0.0328 | Win/lose count 19.0/0 (19.0)\n",
            "Epoch 002/020 | Loss 0.0018 | Win/lose count 8.5/0 (8.5)\n",
            "Epoch 003/020 | Loss 0.0050 | Win/lose count 17.0/0 (17.0)\n",
            "Epoch 004/020 | Loss 0.0045 | Win/lose count 20.0/0 (20.0)\n",
            "Epoch 005/020 | Loss 0.0014 | Win/lose count 21.5/0 (21.5)\n",
            "Epoch 006/020 | Loss 0.0021 | Win/lose count 19.5/0 (19.5)\n",
            "Epoch 007/020 | Loss 0.0044 | Win/lose count 21.0/0 (21.0)\n",
            "Epoch 008/020 | Loss 0.0021 | Win/lose count 21.5/0 (21.5)\n",
            "Epoch 009/020 | Loss 0.0016 | Win/lose count 20.5/0 (20.5)\n",
            "Epoch 010/020 | Loss 0.0010 | Win/lose count 21.5/0 (21.5)\n",
            "Epoch 011/020 | Loss 0.0016 | Win/lose count 14.5/0 (14.5)\n",
            "Epoch 012/020 | Loss 0.0027 | Win/lose count 18.0/0 (18.0)\n",
            "Epoch 013/020 | Loss 0.0023 | Win/lose count 26.0/0 (26.0)\n",
            "Epoch 014/020 | Loss 0.0024 | Win/lose count 18.0/0 (18.0)\n",
            "Epoch 015/020 | Loss 0.0020 | Win/lose count 34.5/0 (34.5)\n",
            "Epoch 016/020 | Loss 0.0051 | Win/lose count 26.5/0 (26.5)\n",
            "Epoch 017/020 | Loss 0.0456 | Win/lose count 31.0/0 (31.0)\n",
            "Epoch 018/020 | Loss 0.0530 | Win/lose count 29.0/0 (29.0)\n",
            "Epoch 019/020 | Loss 0.0029 | Win/lose count 43.0/0 (43.0)\n",
            "Win/lose count 2.5/0. Average score (2.5)\n",
            "Win/lose count 2.0/0. Average score (2.25)\n",
            "Win/lose count 3.0/0. Average score (2.5)\n",
            "Win/lose count 5.0/0. Average score (3.125)\n",
            "Win/lose count 1.0/0. Average score (2.7)\n",
            "Win/lose count 5.0/0. Average score (3.0833333333333335)\n",
            "Win/lose count 3.0/0. Average score (3.0714285714285716)\n",
            "Win/lose count 3.0/0. Average score (3.0625)\n",
            "Win/lose count 4.0/0. Average score (3.1666666666666665)\n",
            "Win/lose count 4.5/0. Average score (3.3)\n",
            "Win/lose count 4.5/0. Average score (3.409090909090909)\n",
            "Win/lose count 1.0/0. Average score (3.2083333333333335)\n",
            "Win/lose count 5.5/0. Average score (3.3846153846153846)\n",
            "Win/lose count 5.0/0. Average score (3.5)\n",
            "Win/lose count 4.0/0. Average score (3.533333333333333)\n",
            "Win/lose count 4.0/0. Average score (3.5625)\n",
            "Win/lose count 5.5/0. Average score (3.676470588235294)\n",
            "Win/lose count 5.5/0. Average score (3.7777777777777777)\n",
            "Win/lose count 5.0/0. Average score (3.8421052631578947)\n",
            "Win/lose count 2.5/0. Average score (3.775)\n",
            "Final score: 3.775\n",
            "Win/lose count 3.0/0. Average score (3.0)\n",
            "Win/lose count 4.0/0. Average score (3.5)\n",
            "Win/lose count 1.5/0. Average score (2.8333333333333335)\n",
            "Win/lose count 2.0/0. Average score (2.625)\n",
            "Win/lose count 3.5/0. Average score (2.8)\n",
            "Win/lose count 5.0/0. Average score (3.1666666666666665)\n",
            "Win/lose count 4.0/0. Average score (3.2857142857142856)\n",
            "Win/lose count 2.5/0. Average score (3.1875)\n",
            "Win/lose count 5.0/0. Average score (3.388888888888889)\n",
            "Win/lose count 2.0/0. Average score (3.25)\n",
            "Win/lose count 1.5/0. Average score (3.090909090909091)\n",
            "Win/lose count 1.0/0. Average score (2.9166666666666665)\n",
            "Win/lose count 4.0/0. Average score (3.0)\n",
            "Win/lose count 1.0/0. Average score (2.857142857142857)\n",
            "Win/lose count 4.5/0. Average score (2.966666666666667)\n",
            "Win/lose count 1.0/0. Average score (2.84375)\n",
            "Win/lose count 3.5/0. Average score (2.8823529411764706)\n",
            "Win/lose count 5.5/0. Average score (3.0277777777777777)\n",
            "Win/lose count 5.0/0. Average score (3.1315789473684212)\n",
            "Win/lose count 1.0/0. Average score (3.025)\n",
            "Final score: 3.025\n",
            "Win/lose count 0.5/0. Average score (0.5)\n",
            "Win/lose count 0.5/0. Average score (0.5)\n",
            "Win/lose count 0.5/0. Average score (0.5)\n",
            "Win/lose count 1.5/0. Average score (0.75)\n",
            "Win/lose count 3.0/0. Average score (1.2)\n",
            "Win/lose count 0.5/0. Average score (1.0833333333333333)\n",
            "Win/lose count 0.5/0. Average score (1.0)\n",
            "Win/lose count 0.5/0. Average score (0.9375)\n",
            "Win/lose count 0.5/0. Average score (0.8888888888888888)\n",
            "Win/lose count 0.5/0. Average score (0.85)\n",
            "Win/lose count 7.5/0. Average score (1.4545454545454546)\n",
            "Win/lose count 3.0/0. Average score (1.5833333333333333)\n",
            "Win/lose count 0.5/0. Average score (1.5)\n",
            "Win/lose count 0.5/0. Average score (1.4285714285714286)\n",
            "Win/lose count 0.5/0. Average score (1.3666666666666667)\n",
            "Win/lose count 3.0/0. Average score (1.46875)\n",
            "Win/lose count 1.5/0. Average score (1.4705882352941178)\n",
            "Win/lose count 0.5/0. Average score (1.4166666666666667)\n",
            "Win/lose count 0.5/0. Average score (1.368421052631579)\n"
          ],
          "name": "stdout"
        },
        {
          "output_type": "stream",
          "text": [
            "\r100%|██████████| 4/4 [51:42<00:00, 775.73s/it]"
          ],
          "name": "stderr"
        },
        {
          "output_type": "stream",
          "text": [
            "Win/lose count 1.5/0. Average score (1.375)\n",
            "Final score: 1.375\n"
          ],
          "name": "stdout"
        },
        {
          "output_type": "stream",
          "text": [
            "\n"
          ],
          "name": "stderr"
        }
      ]
    },
    {
      "cell_type": "code",
      "metadata": {
        "id": "5wBkC0gd4Jr_",
        "colab_type": "code",
        "colab": {
          "base_uri": "https://localhost:8080/",
          "height": 382
        },
        "outputId": "e9f9bb42-9da9-4efd-d796-61b5754feff3"
      },
      "source": [
        "import matplotlib.pyplot as plt\n",
        "plt.figure(dpi=100)\n",
        "plt.plot(temp_list,scores_fc,label='Fully connected')\n",
        "plt.plot(temp_list,scores_conv,label='CNN')\n",
        "plt.plot(temp_list,scores_rand,label='Random Agent')\n",
        "plt.legend()\n",
        "plt.xlabel('Temperature')\n",
        "plt.ylabel('Average score');"
      ],
      "execution_count": 19,
      "outputs": [
        {
          "output_type": "display_data",
          "data": {
            "image/png": "[encoded data removed]",
            "text/plain": [
              "<Figure size 600x400 with 1 Axes>"
            ]
          },
          "metadata": {
            "tags": []
          }
        }
      ]
    },
    {
      "cell_type": "code",
      "metadata": {
        "id": "C1d8sbuCZdub",
        "colab_type": "code",
        "outputId": "8debee4c-1829-4de4-8735-3277da2aea7f",
        "colab": {
          "base_uri": "https://localhost:8080/",
          "height": 293
        }
      },
      "source": [
        "HTML(display_videos('fc_test_T0.700.mp4'))"
      ],
      "execution_count": 20,
      "outputs": [
        {
          "output_type": "execute_result",
          "data": {
            "text/html": [
              "<video alt=\"test\" controls>\n",
              "                <source src=\"data:video/mp4;base64,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\" type=\"video/mp4\" />\n",
              "             </video>"
            ],
            "text/plain": [
              "<IPython.core.display.HTML object>"
            ]
          },
          "metadata": {
            "tags": []
          },
          "execution_count": 20
        }
      ]
    },
    {
      "cell_type": "code",
      "metadata": {
        "colab_type": "code",
        "outputId": "3a7c06a0-92cd-4d97-f40a-32c1268dad6a",
        "id": "i_cSa4KCA67C",
        "colab": {
          "base_uri": "https://localhost:8080/",
          "height": 293
        }
      },
      "source": [
        "HTML(display_videos('cnn_test_T0.700.mp4'))"
      ],
      "execution_count": 21,
      "outputs": [
        {
          "output_type": "execute_result",
          "data": {
            "text/html": [
              "<video alt=\"test\" controls>\n",
              "                <source src=\"data:video/mp4;base64,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\" type=\"video/mp4\" />\n",
              "             </video>"
            ],
            "text/plain": [
              "<IPython.core.display.HTML object>"
            ]
          },
          "metadata": {
            "tags": []
          },
          "execution_count": 21
        }
      ]
    },
    {
      "cell_type": "markdown",
      "metadata": {
        "id": "ZJbBKnFpZdum",
        "colab_type": "text"
      },
      "source": [
        "#### Remarks on Behaviour\n",
        "\n",
        "The main noticeable behaviour is that the agent seems not to explore enough and stay at the same place. One should try to encourage exploration.\n",
        "\n",
        "It is hard to conclude on the best kind of network to use in order to tackle this problem. Fully connected layers seem enough for that many small images."
      ]
    },
    {
      "cell_type": "markdown",
      "metadata": {
        "id": "x5AfxwRcZduo",
        "colab_type": "text"
      },
      "source": [
        "***\n",
        "\n",
        "The algorithm tends to not explore the map which can be an issue. We propose two ideas in order to encourage exploration:\n",
        "1. Incorporating a decreasing $\\epsilon$-greedy exploration. You can use the method ```set_epsilon```\n",
        "2. Append via the environment a new state that describes if a cell has been visited or not\n",
        "\n",
        "***\n",
        "__Question 10__ Design a new ```train_explore``` function and environment class ```EnvironmentExploring``` to tackle the issue of exploration.\n",
        "\n"
      ]
    },
    {
      "cell_type": "code",
      "metadata": {
        "id": "7opdBMPtZdup",
        "colab_type": "code",
        "colab": {}
      },
      "source": [
        "def train_explore(agent,env,epoch,n_wait=10,epsilon=0.9,prefix=''):\n",
        "  # Number of won games\n",
        "    score = 0\n",
        "    loss = 0\n",
        "    emax= epsilon\n",
        "    emin= 0.\n",
        "\n",
        "    for e in range(epoch):\n",
        "        # At each epoch, we restart to a fresh game and get the initial state\n",
        "        state = env.reset()\n",
        "        # This assumes that the games will terminate\n",
        "        game_over = False\n",
        "\n",
        "        win = 0\n",
        "        lose = 0\n",
        "        \n",
        "        # we initialize the epsilon\n",
        "        #epsilon *=decay\n",
        "        if e>=n_wait:\n",
        "          epsilon = emax - (e-n_wait)/(epoch-n_wait)*(emax-emin)\n",
        "        agent.set_epsilon(epsilon)\n",
        "\n",
        "        while not game_over:\n",
        "            # The agent performs an action\n",
        "            action = agent.act(state)\n",
        "            \n",
        "            # Apply an action to the environment, get the next state, the reward\n",
        "            # and if the games end\n",
        "            new_state, reward, game_over = env.act(action, train=True)\n",
        "\n",
        "            # Update the counters\n",
        "            if reward > 0:\n",
        "                win +=  reward\n",
        "            if reward < 0:\n",
        "                lose -= reward\n",
        "            \n",
        "            # Apply the reinforcement strategy\n",
        "            loss = agent.reinforce(state, new_state,  action, reward, game_over)\n",
        "\n",
        "        # Save as a mp4\n",
        "        if e % 10 == 0:\n",
        "            env.draw(prefix+str(e))\n",
        "\n",
        "        # Update stats\n",
        "        score += win-lose\n",
        "        \n",
        "        print(\"Epoch {:03d}/{:03d} | epsilon {:.2f} | Loss {:.4f} | Win/lose count {:.2f}/{:.2f} ({:.2f})\"\n",
        "              .format(e, epoch, agent.epsilon, loss, win, lose, win-lose))\n",
        "        agent.save(name_weights=prefix+'model.h5',name_model=prefix+'model.json')\n",
        "        \n",
        "class EnvironmentExploring(object):\n",
        "    def __init__(self, grid_size=10, max_time=500, temperature=0.1):\n",
        "        grid_size = grid_size+4\n",
        "        self.grid_size = grid_size\n",
        "        self.max_time = max_time\n",
        "        self.temperature = temperature\n",
        "\n",
        "        self.board = np.zeros((grid_size,grid_size))\n",
        "        self.position = np.zeros((grid_size,grid_size))\n",
        "        self.malus_position = np.zeros((grid_size,grid_size))\n",
        "        \n",
        "        # coordinate of the cat\n",
        "        self.x = 0\n",
        "        self.y = 1\n",
        "\n",
        "        # self time\n",
        "        self.t = 0\n",
        "\n",
        "        self.scale=16\n",
        "\n",
        "        self.to_draw = np.zeros((max_time+2, grid_size*self.scale, grid_size*self.scale, 3))\n",
        "\n",
        "\n",
        "    def draw(self,e):\n",
        "        skvideo.io.vwrite(str(e) + '.mp4', self.to_draw)\n",
        "    \n",
        "    def get_frame(self,t):\n",
        "        b = np.zeros((self.grid_size,self.grid_size,3))+128\n",
        "        b[self.board>0,0] = 256\n",
        "        b[self.board < 0, 2] = 256\n",
        "        b[self.x,self.y,:]=256\n",
        "        b[-2:,:,:]=0\n",
        "        b[:,-2:,:]=0\n",
        "        b[:2,:,:]=0\n",
        "        b[:,:2,:]=0\n",
        "        \n",
        "        b =  cv2.resize(b, None, fx=self.scale, fy=self.scale, interpolation=cv2.INTER_NEAREST)\n",
        "\n",
        "        self.to_draw[t,:,:,:]=b\n",
        "\n",
        "    def act(self, action, train = False):\n",
        "        \"\"\"This function returns the new state, reward and decides if the\n",
        "        game ends.\"\"\"\n",
        "\n",
        "        self.get_frame(int(self.t))\n",
        "\n",
        "        self.position = np.zeros((self.grid_size, self.grid_size))\n",
        "\n",
        "        self.position[0:2,:]= -1\n",
        "        self.position[:,0:2] = -1\n",
        "        self.position[-2:, :] = -1\n",
        "        self.position[-2:, :] = -1\n",
        "\n",
        "        self.position[self.x, self.y] = 1\n",
        "        if action == 0:\n",
        "            if self.x == self.grid_size-3:\n",
        "                self.x = self.x-1\n",
        "            else:\n",
        "                self.x = self.x + 1\n",
        "        elif action == 1:\n",
        "            if self.x == 2:\n",
        "                self.x = self.x+1\n",
        "            else:\n",
        "                self.x = self.x-1\n",
        "        elif action == 2:\n",
        "            if self.y == self.grid_size - 3:\n",
        "                self.y = self.y - 1\n",
        "            else:\n",
        "                self.y = self.y + 1\n",
        "        elif action == 3:\n",
        "            if self.y == 2:\n",
        "                self.y = self.y + 1\n",
        "            else:\n",
        "                self.y = self.y - 1\n",
        "        else:\n",
        "            RuntimeError('Error: action not recognized')\n",
        "\n",
        "        self.t = self.t + 1\n",
        "        reward = 0\n",
        "        reward = self.board[self.x, self.y] - train * self.malus_position[self.x, self.y]\n",
        "        self.malus_position[self.x, self.y] = 0.1\n",
        "        \n",
        "        self.board[self.x, self.y] = 0\n",
        "        game_over = self.t > self.max_time\n",
        "        \n",
        "        state = np.concatenate((self.malus_position.reshape(self.grid_size, self.grid_size,1),\n",
        "                                self.board.reshape(self.grid_size, self.grid_size,1),\n",
        "                                self.position.reshape(self.grid_size, self.grid_size,1)),axis=2)\n",
        "\n",
        "        state = state[self.x - 2:self.x + 3, self.y - 2:self.y + 3, :]\n",
        "\n",
        "        return state, reward, game_over\n",
        "\n",
        "    def reset(self):\n",
        "        \"\"\"This function resets the game and returns the initial state\"\"\"\n",
        "\n",
        "        self.x = np.random.randint(3, self.grid_size-3, size=1)[0]\n",
        "        self.y = np.random.randint(3, self.grid_size-3, size=1)[0]\n",
        "\n",
        "\n",
        "        bonus = 0.5*np.random.binomial(1,self.temperature,size=self.grid_size**2)\n",
        "        bonus = bonus.reshape(self.grid_size,self.grid_size)\n",
        "\n",
        "        malus = -1.0*np.random.binomial(1,self.temperature,size=self.grid_size**2)\n",
        "        malus = malus.reshape(self.grid_size, self.grid_size)\n",
        "\n",
        "        self.to_draw = np.zeros((self.max_time+2, self.grid_size*self.scale, self.grid_size*self.scale, 3))\n",
        "\n",
        "        malus[bonus>0]=0\n",
        "        self.board = bonus + malus\n",
        "\n",
        "        self.position = np.zeros((self.grid_size, self.grid_size))\n",
        "        self.position[0:2,:]= -1\n",
        "        self.position[:,0:2] = -1\n",
        "        self.position[-2:, :] = -1\n",
        "        self.position[-2:, :] = -1\n",
        "        self.board[self.x,self.y] = 0\n",
        "        self.t = 0\n",
        "        \n",
        "        self.malus_position = np.zeros((self.grid_size, self.grid_size))\n",
        "        self.malus_position[self.x, self.y] = 0.1\n",
        "\n",
        "        state = np.concatenate((self.malus_position.reshape(self.grid_size, self.grid_size,1),\n",
        "                                self.board.reshape(self.grid_size, self.grid_size,1),\n",
        "                                self.position.reshape(self.grid_size, self.grid_size,1)),axis=2)\n",
        "\n",
        "        state = state[self.x - 2:self.x + 3, self.y - 2:self.y + 3, :]\n",
        "        return state\n",
        "    \n",
        "## use those samples of code:\n",
        "#In train explore:\n",
        "#state, reward, game_over = env.act(action, train=True)\n",
        "\n",
        "## In Environment exploring:\n",
        "# You will have to change n_state to 3 because you will use one more layer!\n",
        "#reward = 0\n",
        "#if train:\n",
        "#    reward = -self.malus_position[self.x, self.y]\n",
        "#self.malus_position[self.x, self.y] = 0.1\n",
        "\n",
        "#reward = reward + self.board[self.x, self.y]\n",
        "# 3 \"feature\" states instead of 2\n",
        "#state = np.concatenate((self.malus_position.reshape(self.grid_size, self.grid_size,1),\n",
        "#                                self.board.reshape(self.grid_size, self.grid_size,1),\n",
        "#                        self.position.reshape(self.grid_size, self.grid_size,1)),axis=2)"
      ],
      "execution_count": 0,
      "outputs": []
    },
    {
      "cell_type": "code",
      "metadata": {
        "id": "If72-qBfZdu3",
        "colab_type": "code",
        "outputId": "c60f3f8c-40a9-491d-f5dc-636208d8f044",
        "colab": {
          "base_uri": "https://localhost:8080/",
          "height": 814
        }
      },
      "source": [
        "# Training\n",
        "env = EnvironmentExploring(grid_size=size, max_time=T, temperature=0.3)\n",
        "agent = DQN_FC(size, lr=1e-2, epsilon = 0.9, memory_size=2000, batch_size = 32,n_state=3)\n",
        "train_explore(agent, env, 31,n_wait=5, prefix='fc_train_explore')\n",
        "HTML(display_videos('fc_train_explore30.mp4'))"
      ],
      "execution_count": 29,
      "outputs": [
        {
          "output_type": "stream",
          "text": [
            "Epoch 000/031 | epsilon 0.90 | Loss 0.0397 | Win/lose count 7.50/19.40 (-11.90)\n",
            "Epoch 001/031 | epsilon 0.90 | Loss 0.0392 | Win/lose count 8.00/26.90 (-18.90)\n",
            "Epoch 002/031 | epsilon 0.90 | Loss 0.0468 | Win/lose count 10.00/26.70 (-16.70)\n",
            "Epoch 003/031 | epsilon 0.90 | Loss 0.0188 | Win/lose count 8.50/23.40 (-14.90)\n",
            "Epoch 004/031 | epsilon 0.90 | Loss 0.0068 | Win/lose count 9.50/28.60 (-19.10)\n",
            "Epoch 005/031 | epsilon 0.90 | Loss 0.0208 | Win/lose count 6.50/34.50 (-28.00)\n",
            "Epoch 006/031 | epsilon 0.87 | Loss 0.0262 | Win/lose count 8.50/22.90 (-14.40)\n",
            "Epoch 007/031 | epsilon 0.83 | Loss 0.0256 | Win/lose count 7.50/22.70 (-15.20)\n",
            "Epoch 008/031 | epsilon 0.80 | Loss 0.0511 | Win/lose count 8.50/26.50 (-18.00)\n",
            "Epoch 009/031 | epsilon 0.76 | Loss 0.0145 | Win/lose count 4.00/21.60 (-17.60)\n",
            "Epoch 010/031 | epsilon 0.73 | Loss 0.0030 | Win/lose count 5.00/28.90 (-23.90)\n",
            "Epoch 011/031 | epsilon 0.69 | Loss 0.0199 | Win/lose count 10.50/30.60 (-20.10)\n",
            "Epoch 012/031 | epsilon 0.66 | Loss 0.0293 | Win/lose count 5.00/24.10 (-19.10)\n",
            "Epoch 013/031 | epsilon 0.62 | Loss 0.0087 | Win/lose count 5.00/26.50 (-21.50)\n",
            "Epoch 014/031 | epsilon 0.59 | Loss 0.0160 | Win/lose count 10.00/23.20 (-13.20)\n",
            "Epoch 015/031 | epsilon 0.55 | Loss 0.0146 | Win/lose count 7.50/24.80 (-17.30)\n",
            "Epoch 016/031 | epsilon 0.52 | Loss 0.0279 | Win/lose count 5.00/24.90 (-19.90)\n",
            "Epoch 017/031 | epsilon 0.48 | Loss 0.0236 | Win/lose count 11.50/29.20 (-17.70)\n",
            "Epoch 018/031 | epsilon 0.45 | Loss 0.0164 | Win/lose count 8.00/23.10 (-15.10)\n",
            "Epoch 019/031 | epsilon 0.42 | Loss 0.0175 | Win/lose count 12.00/20.10 (-8.10)\n",
            "Epoch 020/031 | epsilon 0.38 | Loss 0.0106 | Win/lose count 5.50/30.40 (-24.90)\n",
            "Epoch 021/031 | epsilon 0.35 | Loss 0.0195 | Win/lose count 7.50/20.80 (-13.30)\n",
            "Epoch 022/031 | epsilon 0.31 | Loss 0.0183 | Win/lose count 4.00/32.80 (-28.80)\n",
            "Epoch 023/031 | epsilon 0.28 | Loss 0.0184 | Win/lose count 5.50/21.00 (-15.50)\n",
            "Epoch 024/031 | epsilon 0.24 | Loss 0.0151 | Win/lose count 4.00/24.20 (-20.20)\n",
            "Epoch 025/031 | epsilon 0.21 | Loss 0.0186 | Win/lose count 7.00/25.50 (-18.50)\n",
            "Epoch 026/031 | epsilon 0.17 | Loss 0.0199 | Win/lose count 5.50/25.50 (-20.00)\n",
            "Epoch 027/031 | epsilon 0.14 | Loss 0.0398 | Win/lose count 3.00/22.40 (-19.40)\n",
            "Epoch 028/031 | epsilon 0.10 | Loss 0.0145 | Win/lose count 1.50/24.40 (-22.90)\n",
            "Epoch 029/031 | epsilon 0.07 | Loss 0.0121 | Win/lose count 10.50/29.60 (-19.10)\n",
            "Epoch 030/031 | epsilon 0.03 | Loss 0.0232 | Win/lose count 1.50/22.80 (-21.30)\n"
          ],
          "name": "stdout"
        },
        {
          "output_type": "execute_result",
          "data": {
            "text/html": [
              "<video alt=\"test\" controls>\n",
              "                <source src=\"data:video/mp4;base64,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\" type=\"video/mp4\" />\n",
              "             </video>"
            ],
            "text/plain": [
              "<IPython.core.display.HTML object>"
            ]
          },
          "metadata": {
            "tags": []
          },
          "execution_count": 29
        }
      ]
    },
    {
      "cell_type": "code",
      "metadata": {
        "id": "Uzp01I0bZdu-",
        "colab_type": "code",
        "outputId": "a40f70b6-82ea-496e-9f81-02f64a522de4",
        "colab": {
          "base_uri": "https://localhost:8080/",
          "height": 814
        }
      },
      "source": [
        "# Evaluation\n",
        "test(agent,env,30,prefix='fc_test_explore')\n",
        "HTML(display_videos('cnn_test_explore10.mp4'))"
      ],
      "execution_count": 30,
      "outputs": [
        {
          "output_type": "stream",
          "text": [
            "Win/lose count 1.0/0. Average score (1.0)\n",
            "Win/lose count 1.0/1.0. Average score (0.5)\n",
            "Win/lose count 1.0/2.0. Average score (0.0)\n",
            "Win/lose count 0/0. Average score (0.0)\n",
            "Win/lose count 1.0/0. Average score (0.2)\n",
            "Win/lose count 0.5/1.0. Average score (0.08333333333333333)\n",
            "Win/lose count 0/0. Average score (0.07142857142857142)\n",
            "Win/lose count 0.5/0. Average score (0.125)\n",
            "Win/lose count 0/0. Average score (0.1111111111111111)\n",
            "Win/lose count 0/0. Average score (0.1)\n",
            "Win/lose count 0.5/0. Average score (0.13636363636363635)\n",
            "Win/lose count 1.5/3.0. Average score (0.0)\n",
            "Win/lose count 0.5/0. Average score (0.038461538461538464)\n",
            "Win/lose count 0.5/0. Average score (0.07142857142857142)\n",
            "Win/lose count 0/1.0. Average score (0.0)\n",
            "Win/lose count 1.0/1.0. Average score (0.0)\n",
            "Win/lose count 0/1.0. Average score (-0.058823529411764705)\n",
            "Win/lose count 0.5/0. Average score (-0.027777777777777776)\n",
            "Win/lose count 3.0/0. Average score (0.13157894736842105)\n",
            "Win/lose count 0.5/1.0. Average score (0.1)\n",
            "Win/lose count 1.0/0. Average score (0.14285714285714285)\n",
            "Win/lose count 0/0. Average score (0.13636363636363635)\n",
            "Win/lose count 0/0. Average score (0.13043478260869565)\n",
            "Win/lose count 0.5/0. Average score (0.14583333333333334)\n",
            "Win/lose count 1.5/0. Average score (0.2)\n",
            "Win/lose count 1.0/0. Average score (0.23076923076923078)\n",
            "Win/lose count 0.5/0. Average score (0.24074074074074073)\n",
            "Win/lose count 0.5/1.0. Average score (0.21428571428571427)\n",
            "Win/lose count 1.0/1.0. Average score (0.20689655172413793)\n",
            "Win/lose count 1.0/0. Average score (0.23333333333333334)\n",
            "Final score: 0.23333333333333334\n"
          ],
          "name": "stdout"
        },
        {
          "output_type": "execute_result",
          "data": {
            "text/html": [
              "<video alt=\"test\" controls>\n",
              "                <source src=\"data:video/mp4;base64,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\" type=\"video/mp4\" />\n",
              "             </video>"
            ],
            "text/plain": [
              "<IPython.core.display.HTML object>"
            ]
          },
          "metadata": {
            "tags": []
          },
          "execution_count": 30
        }
      ]
    },
    {
      "cell_type": "markdown",
      "metadata": {
        "id": "OKPduqV4ZdvD",
        "colab_type": "text"
      },
      "source": [
        "***\n",
        "***\n",
        "__BONUS question__ Use the expert DQN from the previous question to generate some winning games. Train a model that mimicks its behavior. Compare the performances."
      ]
    },
    {
      "cell_type": "markdown",
      "metadata": {
        "id": "ivn7vrQcZdvE",
        "colab_type": "text"
      },
      "source": [
        ""
      ]
    },
    {
      "cell_type": "markdown",
      "metadata": {
        "id": "fDVYQphoZdvE",
        "colab_type": "text"
      },
      "source": [
        "***"
      ]
    }
  ]
}