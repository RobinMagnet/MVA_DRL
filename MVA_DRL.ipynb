{
  "nbformat": 4,
  "nbformat_minor": 0,
  "metadata": {
    "kernelspec": {
      "name": "python3",
      "display_name": "Python 3"
    },
    "language_info": {
      "codemirror_mode": {
        "name": "ipython",
        "version": 3
      },
      "file_extension": ".py",
      "mimetype": "text/x-python",
      "name": "python",
      "nbconvert_exporter": "python",
      "pygments_lexer": "ipython3",
      "version": "3.5.7"
    },
    "colab": {
      "name": "MVA_DRL.ipynb",
      "provenance": [],
      "collapsed_sections": []
    },
    "accelerator": "GPU"
  },
  "cells": [
    {
      "cell_type": "markdown",
      "metadata": {
        "id": "T5KYwcbcZdsh",
        "colab_type": "text"
      },
      "source": [
        "**You may need to install [OpenCV](https://pypi.python.org/pypi/opencv-python) and [scikit-video](http://www.scikit-video.org/stable/).**"
      ]
    },
    {
      "cell_type": "code",
      "metadata": {
        "id": "ygZ7yjhqZdsk",
        "colab_type": "code",
        "outputId": "6ed0f463-5735-4684-a640-96668f578e7a",
        "colab": {
          "base_uri": "https://localhost:8080/",
          "height": 402
        }
      },
      "source": [
        "!pip install scikit-video\n",
        "import keras\n",
        "import numpy as np\n",
        "import io\n",
        "import base64\n",
        "from IPython.display import HTML\n",
        "import skvideo.io\n",
        "import cv2\n",
        "import json\n",
        "\n",
        "import tensorflow as tf\n",
        "sess = tf.Session(config=tf.ConfigProto(log_device_placement=True))\n",
        "from keras import backend as K\n",
        "K.tensorflow_backend._get_available_gpus()\n",
        "\n",
        "from keras.models import Sequential,model_from_json\n",
        "from keras.layers.core import Dense\n",
        "from keras.optimizers import sgd,Adam\n",
        "from keras.layers import Conv2D, MaxPooling2D, Activation, AveragePooling2D,Reshape,BatchNormalization,Flatten"
      ],
      "execution_count": 1,
      "outputs": [
        {
          "output_type": "stream",
          "text": [
            "Collecting scikit-video\n",
            "\u001b[?25l  Downloading https://files.pythonhosted.org/packages/b1/a6/c69cad508139a342810ae46e946ebb3256aa6e42f690d901bb68f50582e3/scikit_video-1.1.11-py2.py3-none-any.whl (2.3MB)\n",
            "\u001b[K     |████████████████████████████████| 2.3MB 3.4MB/s \n",
            "\u001b[?25hRequirement already satisfied: numpy in /usr/local/lib/python3.6/dist-packages (from scikit-video) (1.17.5)\n",
            "Requirement already satisfied: pillow in /usr/local/lib/python3.6/dist-packages (from scikit-video) (6.2.2)\n",
            "Requirement already satisfied: scipy in /usr/local/lib/python3.6/dist-packages (from scikit-video) (1.4.1)\n",
            "Installing collected packages: scikit-video\n",
            "Successfully installed scikit-video-1.1.11\n"
          ],
          "name": "stdout"
        },
        {
          "output_type": "stream",
          "text": [
            "Using TensorFlow backend.\n"
          ],
          "name": "stderr"
        },
        {
          "output_type": "display_data",
          "data": {
            "text/html": [
              "<p style=\"color: red;\">\n",
              "The default version of TensorFlow in Colab will soon switch to TensorFlow 2.x.<br>\n",
              "We recommend you <a href=\"https://www.tensorflow.org/guide/migrate\" target=\"_blank\">upgrade</a> now \n",
              "or ensure your notebook will continue to use TensorFlow 1.x via the <code>%tensorflow_version 1.x</code> magic:\n",
              "<a href=\"https://colab.research.google.com/notebooks/tensorflow_version.ipynb\" target=\"_blank\">more info</a>.</p>\n"
            ],
            "text/plain": [
              "<IPython.core.display.HTML object>"
            ]
          },
          "metadata": {
            "tags": []
          }
        },
        {
          "output_type": "stream",
          "text": [
            "Device mapping:\n",
            "/job:localhost/replica:0/task:0/device:XLA_CPU:0 -> device: XLA_CPU device\n",
            "/job:localhost/replica:0/task:0/device:XLA_GPU:0 -> device: XLA_GPU device\n",
            "/job:localhost/replica:0/task:0/device:GPU:0 -> device: 0, name: Tesla P100-PCIE-16GB, pci bus id: 0000:00:04.0, compute capability: 6.0\n",
            "\n",
            "WARNING:tensorflow:From /usr/local/lib/python3.6/dist-packages/keras/backend/tensorflow_backend.py:190: The name tf.get_default_session is deprecated. Please use tf.compat.v1.get_default_session instead.\n",
            "\n",
            "WARNING:tensorflow:From /usr/local/lib/python3.6/dist-packages/keras/backend/tensorflow_backend.py:207: The name tf.global_variables is deprecated. Please use tf.compat.v1.global_variables instead.\n",
            "\n"
          ],
          "name": "stdout"
        }
      ]
    },
    {
      "cell_type": "markdown",
      "metadata": {
        "id": "EugBtNSRZdso",
        "colab_type": "text"
      },
      "source": [
        "# MiniProject on Deep Reinforcement Learning"
      ]
    },
    {
      "cell_type": "markdown",
      "metadata": {
        "id": "nh6b19d_Zdsq",
        "colab_type": "text"
      },
      "source": [
        "__Notations__: $E_p$ is the expectation under probability $p$. Please justify each of your answer and widely comment your code."
      ]
    },
    {
      "cell_type": "markdown",
      "metadata": {
        "id": "sLCr9ehNZdss",
        "colab_type": "text"
      },
      "source": [
        "# Context"
      ]
    },
    {
      "cell_type": "markdown",
      "metadata": {
        "id": "JC0Xe7IyZdst",
        "colab_type": "text"
      },
      "source": [
        "In a reinforcement learning algorithm, we modelize each step $t$ as an action $a_t$ obtained from a state $s_t$, i.e. $\\{(a_{t},s_{t})_{t\\leq T}\\}$ having the Markov property. We consider a discount factor $\\gamma \\in [0,1]$ that ensures convergence. The goal is to find among all the policies $\\pi$, one that maximizes the expected reward:\n",
        "\n",
        "\\begin{equation*}\n",
        "R(\\pi)=\\sum_{t\\leq T}E_{p^{\\pi}}[\\gamma^t r(s_{t},a_{t})] \\> ,\n",
        "\\end{equation*}\n",
        "\n",
        "where: \n",
        "\\begin{equation*}p^{\\pi}(a_{0},a_{1},s_{1},...,a_{T},s_{T})=p(a_{0})\\prod_{t=1}^{T}\\pi(a_{t}|s_{t})p(s_{t+1}|s_{t},a_{t}) \\> .\n",
        "\\end{equation*}\n",
        "\n",
        "We note the $Q$-function:\n",
        "\n",
        "\\begin{equation*}Q^\\pi(s,a)=E_{p^{\\pi}}[\\sum_{t\\leq T}\\gamma^{t}r(s_{t},a_{t})|s_{0}=s,a_{0}=a] \\> .\n",
        "\\end{equation*}\n",
        "\n",
        "Thus, the optimal Q function is:\n",
        "\\begin{equation*}\n",
        "Q^*(s,a)=\\max_{\\pi}Q^\\pi(s,a) \\> .\n",
        "\\end{equation*}\n",
        "\n",
        "In this project, we will apply the deep reinforcement learning techniques to a simple game: an agent will have to learn from scratch a policy that will permit it maximizing a reward."
      ]
    },
    {
      "cell_type": "markdown",
      "metadata": {
        "id": "_SALgwkXZdsu",
        "colab_type": "text"
      },
      "source": [
        "## The environment, the agent and the game"
      ]
    },
    {
      "cell_type": "markdown",
      "metadata": {
        "id": "ojPN3WDIZdsv",
        "colab_type": "text"
      },
      "source": [
        "### The environment"
      ]
    },
    {
      "cell_type": "markdown",
      "metadata": {
        "id": "Y-Wf65i4Zdsw",
        "colab_type": "text"
      },
      "source": [
        "```Environment``` is an abstract class that represents the states, rewards, and actions to obtain the new state."
      ]
    },
    {
      "cell_type": "code",
      "metadata": {
        "id": "_6cwVvDsZdsz",
        "colab_type": "code",
        "colab": {}
      },
      "source": [
        "class Environment(object):\n",
        "    def __init__(self):\n",
        "        pass\n",
        "\n",
        "    def act(self, act):\n",
        "        \"\"\"\n",
        "        One can act on the environment and obtain its reaction:\n",
        "        - the new state\n",
        "        - the reward of the new state\n",
        "        - should we continue the game?\n",
        "\n",
        "        :return: state, reward, game_over\n",
        "        \"\"\"\n",
        "        pass\n",
        "\n",
        "\n",
        "    def reset(self):\n",
        "        \"\"\"\n",
        "        Reinitialize the environment to a random state and returns\n",
        "        the original state\n",
        "\n",
        "        :return: state\n",
        "        \"\"\"\n",
        "        pass\n",
        "    \n",
        "    def draw(self):\n",
        "        \"\"\"\n",
        "        Visualize in the console or graphically the current state\n",
        "        \"\"\"\n",
        "        pass"
      ],
      "execution_count": 0,
      "outputs": []
    },
    {
      "cell_type": "markdown",
      "metadata": {
        "id": "pHByniDXZds2",
        "colab_type": "text"
      },
      "source": [
        "The method ```act``` allows to act on the environment at a given state $s_t$ (stored internally), via action $a_t$. The method will return the new state $s_{t+1}$, the reward $r(s_{t},a_{t})$ and determines if $t\\leq T$ (*game_over*).\n",
        "\n",
        "The method ```reset``` simply reinitializes the environment to a random state $s_0$.\n",
        "\n",
        "The method ```draw``` displays the current state $s_t$ (this is useful to check the behavior of the Agent).\n",
        "\n",
        "We modelize $s_t$ as a tensor, while $a_t$ is an integer."
      ]
    },
    {
      "cell_type": "markdown",
      "metadata": {
        "id": "90VZsM5fZds3",
        "colab_type": "text"
      },
      "source": [
        "### The Agent"
      ]
    },
    {
      "cell_type": "markdown",
      "metadata": {
        "id": "WNATvyOwZds4",
        "colab_type": "text"
      },
      "source": [
        "The goal of the ```Agent``` is to interact with the ```Environment``` by proposing actions $a_t$ obtained from a given state $s_t$ to attempt to maximize its __reward__ $r(s_t,a_t)$. We propose the following abstract class:"
      ]
    },
    {
      "cell_type": "code",
      "metadata": {
        "id": "NYosFUlgZds5",
        "colab_type": "code",
        "colab": {}
      },
      "source": [
        "class Agent(object):\n",
        "    def __init__(self, epsilon=0.1, n_action=4):\n",
        "        self.epsilon = epsilon\n",
        "        self.n_action = n_action\n",
        "    \n",
        "    def set_epsilon(self,e):\n",
        "        self.epsilon = e\n",
        "\n",
        "    def act(self,s,train=True):\n",
        "        \"\"\" This function should return the next action to do:\n",
        "        an integer between 0 and 4 (not included) with a random exploration of epsilon\"\"\"\n",
        "        if train:\n",
        "            if np.random.rand() <= self.epsilon:\n",
        "                a = np.random.randint(0, self.n_action, size=1)[0]\n",
        "            else:\n",
        "                a = self.learned_act(s)\n",
        "        else: # in some cases, this can improve the performance.. remove it if poor performances\n",
        "            a = self.learned_act(s)\n",
        "\n",
        "        return a\n",
        "\n",
        "    def learned_act(self,s):\n",
        "        \"\"\" Act via the policy of the agent, from a given state s\n",
        "        it proposes an action a\"\"\"\n",
        "        pass\n",
        "\n",
        "    def reinforce(self, s, n_s, a, r, game_over_):\n",
        "        \"\"\" This function is the core of the learning algorithm. \n",
        "        It takes as an input the current state s_, the next state n_s_\n",
        "        the action a_ used to move from s_ to n_s_ and the reward r_.\n",
        "        \n",
        "        Its goal is to learn a policy.\n",
        "        \"\"\"\n",
        "        pass\n",
        "\n",
        "    def save(self):\n",
        "        \"\"\" This function returns basic stats if applicable: the\n",
        "        loss and/or the model\"\"\"\n",
        "        pass\n",
        "\n",
        "    def load(self):\n",
        "        \"\"\" This function allows to restore a model\"\"\"\n",
        "        pass"
      ],
      "execution_count": 0,
      "outputs": []
    },
    {
      "cell_type": "markdown",
      "metadata": {
        "id": "W7N0Tb5HZdtA",
        "colab_type": "text"
      },
      "source": [
        "***\n",
        "__Question 1__:\n",
        "Explain the function act. Why is ```epsilon``` essential?"
      ]
    },
    {
      "cell_type": "markdown",
      "metadata": {
        "id": "VVXIsG75ZdtB",
        "colab_type": "text"
      },
      "source": [
        "The act function decides the next action $a_{t+1}$ the agent should follow, depending on both the current state $s_t$ and the information whether we are training or not.\n",
        "\n",
        "When training : \n",
        " * with probability $1-\\epsilon$ this function return the $a_{t+1}$ given by the current learned policy $\\pi$.\n",
        " * with probability $\\epsilon$, it decides a random action $a_{t+1}$\n",
        "\n",
        "When testing, this function always follows the current policy $\\pi$.\n",
        "\n",
        "\n",
        "Using a positive ```epsilon``` allows to have non-zero probability of exploring the whole environment, avoiding the agent to remain stuck in local maximas (regarding the rewards).\n"
      ]
    },
    {
      "cell_type": "markdown",
      "metadata": {
        "id": "O414YeP4ZdtC",
        "colab_type": "text"
      },
      "source": [
        "***\n",
        "### The Game"
      ]
    },
    {
      "cell_type": "markdown",
      "metadata": {
        "id": "DxqLOOlXZdtE",
        "colab_type": "text"
      },
      "source": [
        "The ```Agent``` and the ```Environment``` work in an interlaced way as in the following (take some time to understand this code as it is the core of the project)\n",
        "\n",
        "```python\n",
        "\n",
        "epoch = 300\n",
        "env = Environment()\n",
        "agent = Agent()\n",
        "\n",
        "\n",
        "# Number of won games\n",
        "score = 0\n",
        "loss = 0\n",
        "\n",
        "\n",
        "for e in range(epoch):\n",
        "    # At each epoch, we restart to a fresh game and get the initial state\n",
        "    state = env.reset()\n",
        "    # This assumes that the games will end\n",
        "    game_over = False\n",
        "\n",
        "    win = 0\n",
        "    lose = 0\n",
        "    \n",
        "    while not game_over:\n",
        "        # The agent performs an action\n",
        "        action = agent.act(state)\n",
        "\n",
        "        # Apply an action to the environment, get the next state, the reward\n",
        "        # and if the games end\n",
        "        prev_state = state\n",
        "        state, reward, game_over = env.act(action)\n",
        "\n",
        "        # Update the counters\n",
        "        if reward > 0:\n",
        "            win = win + reward\n",
        "        if reward < 0:\n",
        "            lose = lose -reward\n",
        "\n",
        "        # Apply the reinforcement strategy\n",
        "        loss = agent.reinforce(prev_state, state,  action, reward, game_over)\n",
        "\n",
        "    # Save as a mp4\n",
        "    if e % 10 == 0:\n",
        "        env.draw(e)\n",
        "\n",
        "    # Update stats\n",
        "    score += win-lose\n",
        "\n",
        "    print(\"Epoch {:03d}/{:03d} | Loss {:.4f} | Win/lose count {}/{} ({})\"\n",
        "          .format(e, epoch, loss, win, lose, win-lose))\n",
        "    agent.save()\n",
        "```"
      ]
    },
    {
      "cell_type": "markdown",
      "metadata": {
        "id": "IFhfxBzEZdtF",
        "colab_type": "text"
      },
      "source": [
        "# The game, *eat cheese*"
      ]
    },
    {
      "cell_type": "markdown",
      "metadata": {
        "id": "fH-TvWqXZdtF",
        "colab_type": "text"
      },
      "source": [
        "A rat runs on an island and tries to eat as much as possible. The island is subdivided into $N\\times N$ cells, in which there are cheese (+0.5) and poisonous cells (-1). The rat has a visibility of 2 cells (thus it can see $5^2$ cells). The rat is given a time $T$ to accumulate as much food as possible. It can perform 4 actions: going up, down, left, right. \n",
        "\n",
        "The goal is to code an agent to solve this task that will learn by trial and error. We propose the following environment:"
      ]
    },
    {
      "cell_type": "code",
      "metadata": {
        "id": "pvj91YeCZdtG",
        "colab_type": "code",
        "colab": {}
      },
      "source": [
        "class Environment(object):\n",
        "    def __init__(self, grid_size=10, max_time=500, temperature=0.1):\n",
        "        grid_size = grid_size+4\n",
        "        self.grid_size = grid_size\n",
        "        self.max_time = max_time\n",
        "        self.temperature = temperature\n",
        "\n",
        "        #board on which one plays\n",
        "        self.board = np.zeros((grid_size,grid_size))\n",
        "        self.position = np.zeros((grid_size,grid_size))\n",
        "\n",
        "        # coordinate of the cat\n",
        "        self.x = 0\n",
        "        self.y = 1\n",
        "\n",
        "        # self time\n",
        "        self.t = 0\n",
        "\n",
        "        self.scale=16\n",
        "\n",
        "        self.to_draw = np.zeros((max_time+2, grid_size*self.scale, grid_size*self.scale, 3))\n",
        "\n",
        "\n",
        "    def draw(self,e):\n",
        "        skvideo.io.vwrite(str(e) + '.mp4', self.to_draw)\n",
        "\n",
        "    def get_frame(self,t):\n",
        "        b = np.zeros((self.grid_size,self.grid_size,3))+128\n",
        "        b[self.board>0,0] = 256\n",
        "        b[self.board < 0, 2] = 256\n",
        "        b[self.x,self.y,:]=256\n",
        "        b[-2:,:,:]=0\n",
        "        b[:,-2:,:]=0\n",
        "        b[:2,:,:]=0\n",
        "        b[:,:2,:]=0\n",
        "        \n",
        "        b =  cv2.resize(b, None, fx=self.scale, fy=self.scale, interpolation=cv2.INTER_NEAREST)\n",
        "\n",
        "        self.to_draw[t,:,:,:]=b\n",
        "\n",
        "\n",
        "    def act(self, action):\n",
        "        \"\"\"This function returns the new state, reward and decides if the\n",
        "        game ends.\"\"\"\n",
        "\n",
        "        self.get_frame(int(self.t))\n",
        "\n",
        "        self.position = np.zeros((self.grid_size, self.grid_size))\n",
        "\n",
        "        self.position[0:2,:]= -1\n",
        "        self.position[:,0:2] = -1\n",
        "        self.position[-2:, :] = -1\n",
        "        self.position[-2:, :] = -1\n",
        "\n",
        "        self.position[self.x, self.y] = 1\n",
        "        if action == 0:\n",
        "            if self.x == self.grid_size-3:\n",
        "                self.x = self.x-1\n",
        "            else:\n",
        "                self.x = self.x + 1\n",
        "        elif action == 1:\n",
        "            if self.x == 2:\n",
        "                self.x = self.x+1\n",
        "            else:\n",
        "                self.x = self.x-1\n",
        "        elif action == 2:\n",
        "            if self.y == self.grid_size - 3:\n",
        "                self.y = self.y - 1\n",
        "            else:\n",
        "                self.y = self.y + 1\n",
        "        elif action == 3:\n",
        "            if self.y == 2:\n",
        "                self.y = self.y + 1\n",
        "            else:\n",
        "                self.y = self.y - 1\n",
        "        else:\n",
        "            RuntimeError('Error: action not recognized')\n",
        "\n",
        "        self.t = self.t + 1\n",
        "        reward = self.board[self.x, self.y]\n",
        "        self.board[self.x, self.y] = 0\n",
        "        game_over = self.t > self.max_time\n",
        "        state = np.concatenate((self.board.reshape(self.grid_size, self.grid_size,1),\n",
        "                        self.position.reshape(self.grid_size, self.grid_size,1)),axis=2)\n",
        "        state = state[self.x-2:self.x+3,self.y-2:self.y+3,:]\n",
        "\n",
        "        return state, reward, game_over\n",
        "\n",
        "    def reset(self):\n",
        "        \"\"\"This function resets the game and returns the initial state\"\"\"\n",
        "\n",
        "        self.x = np.random.randint(3, self.grid_size-3, size=1)[0]\n",
        "        self.y = np.random.randint(3, self.grid_size-3, size=1)[0]\n",
        "\n",
        "\n",
        "        bonus = 0.5*np.random.binomial(1,self.temperature,size=self.grid_size**2)\n",
        "        bonus = bonus.reshape(self.grid_size,self.grid_size)\n",
        "\n",
        "        malus = -1.0*np.random.binomial(1,self.temperature,size=self.grid_size**2)\n",
        "        malus = malus.reshape(self.grid_size, self.grid_size)\n",
        "\n",
        "        self.to_draw = np.zeros((self.max_time+2, self.grid_size*self.scale, self.grid_size*self.scale, 3))\n",
        "\n",
        "\n",
        "        malus[bonus>0]=0\n",
        "\n",
        "        self.board = bonus + malus\n",
        "\n",
        "        self.position = np.zeros((self.grid_size, self.grid_size))\n",
        "        self.position[0:2,:]= -1\n",
        "        self.position[:,0:2] = -1\n",
        "        self.position[-2:, :] = -1\n",
        "        self.position[-2:, :] = -1\n",
        "        self.board[self.x,self.y] = 0\n",
        "        self.t = 0\n",
        "\n",
        "        state = np.concatenate((\n",
        "                               self.board.reshape(self.grid_size, self.grid_size,1),\n",
        "                        self.position.reshape(self.grid_size, self.grid_size,1)),axis=2)\n",
        "\n",
        "        state = state[self.x - 2:self.x + 3, self.y - 2:self.y + 3, :]\n",
        "        return state"
      ],
      "execution_count": 0,
      "outputs": []
    },
    {
      "cell_type": "markdown",
      "metadata": {
        "id": "s62j-P8BZdtK",
        "colab_type": "text"
      },
      "source": [
        "The following elements are important because they correspond to the hyper parameters for this project:"
      ]
    },
    {
      "cell_type": "code",
      "metadata": {
        "id": "pm2M01RPZdtM",
        "colab_type": "code",
        "colab": {}
      },
      "source": [
        "# parameters\n",
        "size = 13\n",
        "T=200\n",
        "temperature=0.3\n",
        "epochs_train=21 # set small when debugging\n",
        "epochs_test=11 # set small when debugging\n",
        "\n",
        "# display videos\n",
        "def display_videos(name):\n",
        "    video = io.open(name, 'r+b').read()\n",
        "    encoded = base64.b64encode(video)\n",
        "    return '''<video alt=\"test\" controls>\n",
        "                <source src=\"data:video/mp4;base64,{0}\" type=\"video/mp4\" />\n",
        "             </video>'''.format(encoded.decode('ascii'))"
      ],
      "execution_count": 0,
      "outputs": []
    },
    {
      "cell_type": "markdown",
      "metadata": {
        "id": "zDnS3EmyZdtQ",
        "colab_type": "text"
      },
      "source": [
        "__Question 2__ Explain the use of the arrays ```position``` and ```board```."
      ]
    },
    {
      "cell_type": "markdown",
      "metadata": {
        "id": "joFt_ShMZdtQ",
        "colab_type": "text"
      },
      "source": [
        "the ```position``` array is a $(N+4)\\times (N+4)$ matrix displaying the position of the rat and the position of unusable cells (walls of width $2$ at the border of the board). The extra $2$ cells at the border allow always to have a $2$-cell visibility. All the allowed cells have value $0$, the cell on which the rat is have value $1$, and the wall cells have value $-1$.\n",
        "\n",
        "The ```board```array is a $(N+4)\\times (N+4)$ matrix displaying the effect of each cell. It has value $0.5$ for cells containing cheese, $-1$ for poisonous cells, and $0$ if nothing is on the cell.\n"
      ]
    },
    {
      "cell_type": "markdown",
      "metadata": {
        "id": "3jIUAfiRZdtR",
        "colab_type": "text"
      },
      "source": [
        "## Random Agent"
      ]
    },
    {
      "cell_type": "markdown",
      "metadata": {
        "id": "UoBchj3QZdtS",
        "colab_type": "text"
      },
      "source": [
        "***\n",
        "__Question 3__ Implement a random Agent (only ```learned_act``` needs to be implemented):"
      ]
    },
    {
      "cell_type": "code",
      "metadata": {
        "id": "bAg7L0WVZdtT",
        "colab_type": "code",
        "colab": {}
      },
      "source": [
        "class RandomAgent(Agent):\n",
        "    def __init__(self):\n",
        "        super(RandomAgent, self).__init__()\n",
        "        pass\n",
        "\n",
        "    def learned_act(self, s):\n",
        "        return np.random.randint(self.n_action)"
      ],
      "execution_count": 0,
      "outputs": []
    },
    {
      "cell_type": "markdown",
      "metadata": {
        "id": "Azd1LWmTZdtY",
        "colab_type": "text"
      },
      "source": [
        "***\n",
        "***\n",
        "__Question 4__ Visualize the game moves. You need to fill in the following function for the evaluation:"
      ]
    },
    {
      "cell_type": "code",
      "metadata": {
        "id": "206rVZGVZdta",
        "colab_type": "code",
        "colab": {}
      },
      "source": [
        "def test(agent,env,epochs,prefix=''):\n",
        "    # Number of won games\n",
        "    score = 0\n",
        "        \n",
        "    for e in range(epochs):\n",
        "        \n",
        "        # At each epoch, we restart to a fresh game and get the initial state\n",
        "        state = env.reset()\n",
        "        # This assumes that the games will end\n",
        "        game_over = False\n",
        "    \n",
        "        win = 0\n",
        "        lose = 0\n",
        "    \n",
        "        while not game_over:\n",
        "            # The agent performs an action\n",
        "            action = agent.act(state)\n",
        "    \n",
        "            # Apply an action to the environment, get the next state, the reward\n",
        "            # and if the games end\n",
        "            prev_state = state\n",
        "            state, reward, game_over = env.act(action)\n",
        "    \n",
        "            # Update the counters\n",
        "            if reward > 0:\n",
        "                win = win + reward\n",
        "            if reward < 0:\n",
        "                lose = lose -reward\n",
        "        \n",
        "        # Save as a mp4\n",
        "        env.draw(prefix+str(e))\n",
        "\n",
        "        # Update stats\n",
        "        score = score + win-lose\n",
        "\n",
        "        print(\"Win/lose count {}/{}. Average score ({})\"\n",
        "              .format(win, lose, score/(1+e)))\n",
        "    print('Final score: '+str(score/epochs))\n",
        "    return score/epochs"
      ],
      "execution_count": 0,
      "outputs": []
    },
    {
      "cell_type": "code",
      "metadata": {
        "id": "6MnQ5kEuZdtg",
        "colab_type": "code",
        "outputId": "47a392ab-f22a-4389-c99c-7296a907dc5d",
        "colab": {
          "base_uri": "https://localhost:8080/",
          "height": 494
        }
      },
      "source": [
        "# Initialize the game\n",
        "env = Environment(grid_size=size, max_time=T,temperature=temperature)\n",
        "\n",
        "# Initialize the agent!\n",
        "agent = RandomAgent()\n",
        "\n",
        "test(agent,env,epochs_test,prefix='random')\n",
        "HTML(display_videos('random0.mp4'))"
      ],
      "execution_count": 8,
      "outputs": [
        {
          "output_type": "stream",
          "text": [
            "Win/lose count 11.5/15.0. Average score (-3.5)\n",
            "Win/lose count 11.0/11.0. Average score (-1.75)\n",
            "Win/lose count 10.0/11.0. Average score (-1.5)\n",
            "Win/lose count 10.5/11.0. Average score (-1.25)\n",
            "Win/lose count 9.0/10.0. Average score (-1.2)\n",
            "Win/lose count 5.0/15.0. Average score (-2.6666666666666665)\n",
            "Win/lose count 10.0/11.0. Average score (-2.4285714285714284)\n",
            "Win/lose count 9.0/18.0. Average score (-3.25)\n",
            "Win/lose count 6.0/18.0. Average score (-4.222222222222222)\n",
            "Win/lose count 6.5/6.0. Average score (-3.75)\n",
            "Win/lose count 8.0/16.0. Average score (-4.136363636363637)\n",
            "Final score: -4.136363636363637\n"
          ],
          "name": "stdout"
        },
        {
          "output_type": "execute_result",
          "data": {
            "text/html": [
              "<video alt=\"test\" controls>\n",
              "                <source src=\"data:video/mp4;base64,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\" type=\"video/mp4\" />\n",
              "             </video>"
            ],
            "text/plain": [
              "<IPython.core.display.HTML object>"
            ]
          },
          "metadata": {
            "tags": []
          },
          "execution_count": 8
        }
      ]
    },
    {
      "cell_type": "markdown",
      "metadata": {
        "id": "-CKyTf_vZdtj",
        "colab_type": "text"
      },
      "source": [
        "***\n",
        "## DQN"
      ]
    },
    {
      "cell_type": "markdown",
      "metadata": {
        "id": "Mpo7rs_nZdtk",
        "colab_type": "text"
      },
      "source": [
        "Let us assume here that $T=\\infty$.\n",
        "\n",
        "***\n",
        "__Question 5__ Let $\\pi$ be a policy, show that:\n",
        "\n",
        "\\begin{equation*}\n",
        "Q^{\\pi}(s,a)=E_{(s',a')\\sim p(.|s,a)}[r(s,a)+\\gamma Q^{\\pi}(s',a')]\n",
        "\\end{equation*}\n",
        "\n",
        "Then, show that for the optimal policy $\\pi^*$ (we assume its existence), the following holds: \n",
        "\n",
        "\\begin{equation*}\n",
        "Q^{*}(s,a)=E_{s'\\sim \\pi^*(.|s,a)}[r(s,a)+\\gamma\\max_{a'}Q^{*}(s',a')].\n",
        "\\end{equation*}\n",
        "Finally, deduce that a plausible objective is:\n",
        "\n",
        "\\begin{equation*}\n",
        "\\mathcal{L}(\\theta)=E_{s' \\sim \\pi^*(.|s,a)}\\Vert r+\\gamma\\max\\max_{a'}Q(s',a',\\theta)-Q(s,a,\\theta)\\Vert^{2}.\n",
        "\\end{equation*}\n",
        "\n",
        "\n"
      ]
    },
    {
      "cell_type": "markdown",
      "metadata": {
        "id": "gwGBu6hQZdtl",
        "colab_type": "text"
      },
      "source": [
        "#### **Expression of $Q^\\pi$**\n",
        "We defined $Q^\\pi$ as \n",
        "$$Q^\\pi(s,a)=E_{p^{\\pi}}\\left(\\sum_{t=0}^\\infty\\gamma^{t}r(s_{t},a_{t})\\quad|\\quad s_{0}=s,a_{0}=a\\right)$$\n",
        "\n",
        "\n",
        "We therefore have by extracting the first term :\n",
        "\\begin{align}\n",
        " Q^\\pi(s,a)&=E_{p^{\\pi}}\\left(\\sum_{t\\geq1}\\gamma^{t}r(s_{t},a_{t}) + r(s_0,a_0)\\quad|\\quad s_{0}=s,a_{0}=a\\right)\\\\\n",
        "&=E_{p^{\\pi}}\\left(\\gamma\\sum_{t\\geq1}\\gamma^{t-1}r(s_{t},a_{t})\\quad|\\quad s_{0}=s,a_{0}=a\\right) + r(s,a)\\\\\n",
        "&= r(s,a) + \\gamma E_{p^{\\pi}}\\left(\\sum_{t\\geq0}\\gamma^{t}r(s_{t+1},a_{t+1}) \\quad|\\quad s_{0}=s,a_{0}=a\\right)\\\\\n",
        "\\end{align}\n",
        "\n",
        "We now note that the following equality holds :\n",
        "\\begin{align}\n",
        "E_{p^{\\pi}}\\left(\\sum_{t\\geq0}\\gamma^{t}r(s_{t+1},a_{t+1}) \\quad|\\quad s_{0}=s,a_{0}=a\\right) &= E_{(s',a')\\sim p^{\\pi}(.|s,a)}\\left(E_{p^{\\pi}}\\left(\\sum_{t\\geq0}\\gamma^{t}r(s_{t+1},a_{t+1}) \\quad|\\quad s_{1}=s',a_{1}=a'\\right)\\right)\\\\\n",
        "&= E_{(s',a')\\sim p^{\\pi}(.|s,a)}\\left(Q(s',a')\\right)\n",
        "\\end{align}\n",
        "\n",
        "\n",
        "Therefore we have\n",
        "\n",
        "\\begin{equation}\n",
        "Q^\\pi(s,a) = E_{(s',a')\\sim p^{\\pi}(.|s,a)}\\left( r(s,a) + \\gamma Q(s',a')\\right)\n",
        "\\end{equation}\n",
        "\n",
        "\n",
        "#### **Expression of $Q^*$**\n",
        "\n",
        "The optimal policy verifies: \n",
        "\\begin{align}\n",
        "Q^{\\pi^*}(s,a)&=\\max_{\\pi} Q^{\\pi}(s,a)\\\\\n",
        " &= \\max_{\\pi} E_{(s',a')\\sim \\pi(.|s,a)}\\left(r(s,a)+\\gamma Q^{\\pi}(s',a')\\right)\n",
        " \\end{align}\n",
        "\n",
        "Maximizing with respect to the policy means we always maximize with respect to the action for each state :\n",
        "\n",
        "\\begin{align}\n",
        "Q^*(s,a)&=\\max_{\\pi,a'} E_{s'\\sim \\pi(.|s,a)}\\left(r(s,a)+\\gamma Q^{\\pi}(s',a')\\right) \\\\\n",
        "&= \\max_{\\pi} E_{s'\\sim \\pi(.|s,a)}\\left(r(s,a)+\\gamma \\max_{a'}Q^{\\pi}(s',a')\\right)\\\\\n",
        "&= E_{s'\\sim \\pi^*(.|s,a)}\\left(r(s,a)+\\gamma \\max_{a'}Q^*(s',a')\\right)\\\\\n",
        " \\end{align}\n",
        "\n",
        "#### **Loss function**\n",
        "\n",
        "We seek to estimate $Q^*$. A convenient loss function would be the mean square error on the fixed point-equation displayed above :\n",
        "\\begin{equation}\n",
        "\\mathcal{L}(\\theta)=E_{s' \\sim \\pi^*(.|s,a)}\\left(\\| r+\\gamma\\max_{a}Q(s',a,\\theta)-Q(s,a,\\theta)\\|^{2}\\right)\n",
        "\\end{equation}"
      ]
    },
    {
      "cell_type": "markdown",
      "metadata": {
        "id": "5KCI1K1bZdtn",
        "colab_type": "text"
      },
      "source": [
        "***\n",
        "The DQN-learning algorithm relies on these derivations to train the parameters $\\theta$ of a Deep Neural Network:\n",
        "\n",
        "1. At the state $s_t$, select the action $a_t$ with best reward using $Q_t$ and store the results;\n",
        "\n",
        "2. Obtain the new state $s_{t+1}$ from the environment $p$;\n",
        "\n",
        "3. Store $(s_t,a_t,s_{t+1})$;\n",
        "\n",
        "4. Obtain $Q_{t+1}$ by minimizing  $\\mathcal{L}$ from a recovered batch from the previously stored results.\n",
        "\n",
        "***\n",
        "__Question 6__ Implement the class ```Memory``` that stores moves (in a replay buffer) via ```remember``` and provides a ```random_access``` to these. Specify a maximum memory size to avoid side effects. You can for example use a ```list()``` and set by default ```max_memory=100```."
      ]
    },
    {
      "cell_type": "code",
      "metadata": {
        "id": "kaHkBOSUZdtp",
        "colab_type": "code",
        "colab": {}
      },
      "source": [
        "class Memory(object):\n",
        "    def __init__(self, max_memory=100):\n",
        "        self.max_memory = max_memory\n",
        "        self.memory = list()\n",
        "\n",
        "    def remember(self, m):\n",
        "        self.memory.append(m)\n",
        "        if len(self.memory) > self.max_memory:\n",
        "          self.memory = self.memory[1:]\n",
        "\n",
        "    def random_access(self):\n",
        "        return self.memory[np.random.randint(0,len(self.memory))]"
      ],
      "execution_count": 0,
      "outputs": []
    },
    {
      "cell_type": "markdown",
      "metadata": {
        "id": "4cfHYKxFZdtt",
        "colab_type": "text"
      },
      "source": [
        "***\n",
        "The pipeline we will use for training is given below:"
      ]
    },
    {
      "cell_type": "code",
      "metadata": {
        "id": "ZI9aMhgWZdtv",
        "colab_type": "code",
        "colab": {}
      },
      "source": [
        "def train(agent,env,epoch,prefix=''):\n",
        "    # Number of won games\n",
        "    score = 0\n",
        "    loss = 0\n",
        "\n",
        "    for e in range(epoch):\n",
        "        # At each epoch, we restart to a fresh game and get the initial state\n",
        "        state = env.reset()\n",
        "        # This assumes that the games will terminate\n",
        "        game_over = False\n",
        "\n",
        "        win = 0\n",
        "        lose = 0\n",
        "\n",
        "        while not game_over:\n",
        "            # The agent performs an action\n",
        "            action = agent.act(state)\n",
        "\n",
        "            # Apply an action to the environment, get the next state, the reward\n",
        "            # and if the games end\n",
        "            prev_state = state\n",
        "            state, reward, game_over = env.act(action)\n",
        "\n",
        "            # Update the counters\n",
        "            if reward > 0:\n",
        "                win = win + reward\n",
        "            if reward < 0:\n",
        "                lose = lose -reward\n",
        "\n",
        "            # Apply the reinforcement strategy\n",
        "            loss = agent.reinforce(prev_state, state,  action, reward, game_over)\n",
        "\n",
        "        # Save as a mp4\n",
        "        if e % 10 == 0:\n",
        "            env.draw(prefix+str(e))\n",
        "\n",
        "        # Update stats\n",
        "        score += win-lose\n",
        "\n",
        "        print(\"Epoch {:03d}/{:03d} | Loss {:.4f} | Win/lose count {}/{} ({})\"\n",
        "              .format(e, epoch, loss, win, lose, win-lose))\n",
        "        agent.save(name_weights=prefix+'model.h5',name_model=prefix+'model.json')"
      ],
      "execution_count": 0,
      "outputs": []
    },
    {
      "cell_type": "markdown",
      "metadata": {
        "id": "Qi5GWc9JZdty",
        "colab_type": "text"
      },
      "source": [
        "***\n",
        "__Question 7__ Implement the DQN training algorithm using a cascade of fully connected layers. You can use different learning rate, batch size or memory size parameters. In particular, the loss might oscillate while the player will start to win the games. You have to find a good criterium."
      ]
    },
    {
      "cell_type": "code",
      "metadata": {
        "id": "JitSU3QvZdt0",
        "colab_type": "code",
        "colab": {}
      },
      "source": [
        "class DQN(Agent):\n",
        "    def __init__(self, grid_size,  epsilon = 0.1, memory_size=100, batch_size = 16,n_state=2):\n",
        "        super(DQN, self).__init__(epsilon = epsilon)\n",
        "\n",
        "        # Discount for Q learning\n",
        "        self.discount = 0.99\n",
        "        \n",
        "        self.grid_size = grid_size\n",
        "        \n",
        "        # number of state\n",
        "        self.n_state = n_state\n",
        "\n",
        "        # Memory\n",
        "        self.memory = Memory(memory_size)\n",
        "        \n",
        "        # Batch size when learning\n",
        "        self.batch_size = batch_size\n",
        "\n",
        "    def learned_act(self, s):\n",
        "        return np.argmax(self.model.predict(np.expand_dims(s,0)))\n",
        "\n",
        "    def reinforce(self, s_, n_s_, a_, r_, game_over_):\n",
        "        # Two steps: first memorize the states, second learn from the pool\n",
        "\n",
        "        self.memory.remember([s_, n_s_, a_, r_, game_over_])\n",
        "        \n",
        "        input_states = np.zeros((self.batch_size, 5,5,self.n_state))\n",
        "        target_q = np.zeros((self.batch_size, 4))\n",
        "        \n",
        "        for i in range(self.batch_size):\n",
        "            s, n_s, a, r, game_over_=self.memory.random_access()\n",
        "\n",
        "            input_states[i] =s\n",
        "            \n",
        "            target_q[i] = self.model.predict(np.expand_dims(s,0))\n",
        "            \n",
        "            if game_over_:\n",
        "                target_q[i,a] = r\n",
        "\n",
        "            else:\n",
        "                target_q[i][a] = r+ self.discount* np.max(self.model.predict(np.expand_dims(n_s,0)))\n",
        "\n",
        "        ######## FILL IN\n",
        "        # HINT: Clip the target to avoid exploiding gradients.. -- clipping is a bit tighter\n",
        "        target_q = np.clip(target_q, -3, 3)\n",
        "\n",
        "        l = self.model.train_on_batch(input_states, target_q)\n",
        "\n",
        "\n",
        "        return l\n",
        "\n",
        "    def save(self,name_weights='model.h5',name_model='model.json'):\n",
        "        self.model.save_weights(name_weights, overwrite=True)\n",
        "        with open(name_model, \"w\") as outfile:\n",
        "            json.dump(self.model.to_json(), outfile)\n",
        "            \n",
        "    def load(self,name_weights='model.h5',name_model='model.json'):\n",
        "        with open(name_model, \"r\") as jfile:\n",
        "            model = model_from_json(json.load(jfile))\n",
        "        model.load_weights(name_weights)\n",
        "        model.compile(\"sgd\", \"mse\")\n",
        "        self.model = model\n",
        "\n",
        "            \n",
        "class DQN_FC(DQN):\n",
        "    def __init__(self, *args, lr=0.1,**kwargs):\n",
        "        super(DQN_FC, self).__init__( *args,**kwargs)\n",
        "        \n",
        "        # NN Model\n",
        "        \n",
        "        ####### FILL IN\n",
        "        model = Sequential()\n",
        "        model.add(Flatten(input_shape=(5,5,self.n_state)))\n",
        "        model.add(Dense(64,  activation= 'relu'))\n",
        "        model.add(Dense(4)) \n",
        "        \n",
        "        model.compile(Adam(), \"mse\")\n",
        "        #model.compile(sgd(lr=lr, decay=1e-4, momentum=0.0), \"mse\")\n",
        "        self.model = model\n",
        "        "
      ],
      "execution_count": 0,
      "outputs": []
    },
    {
      "cell_type": "code",
      "metadata": {
        "id": "XucGwwmDZdt6",
        "colab_type": "code",
        "outputId": "a997c91e-fb2e-46cc-b2fc-1589543bdb85",
        "colab": {
          "base_uri": "https://localhost:8080/",
          "height": 934
        }
      },
      "source": [
        "env = Environment(grid_size=size, max_time=T, temperature=0.3)\n",
        "agent = DQN_FC(size, lr=.1, epsilon = 0.1, memory_size=2000, batch_size = 32)\n",
        "train(agent, env, epochs_train, prefix='fc_train')\n",
        "HTML(display_videos('fc_train10.mp4'))"
      ],
      "execution_count": 12,
      "outputs": [
        {
          "output_type": "stream",
          "text": [
            "WARNING:tensorflow:From /usr/local/lib/python3.6/dist-packages/keras/backend/tensorflow_backend.py:66: The name tf.get_default_graph is deprecated. Please use tf.compat.v1.get_default_graph instead.\n",
            "\n",
            "WARNING:tensorflow:From /usr/local/lib/python3.6/dist-packages/keras/backend/tensorflow_backend.py:541: The name tf.placeholder is deprecated. Please use tf.compat.v1.placeholder instead.\n",
            "\n",
            "WARNING:tensorflow:From /usr/local/lib/python3.6/dist-packages/keras/backend/tensorflow_backend.py:4432: The name tf.random_uniform is deprecated. Please use tf.random.uniform instead.\n",
            "\n",
            "WARNING:tensorflow:From /usr/local/lib/python3.6/dist-packages/keras/optimizers.py:793: The name tf.train.Optimizer is deprecated. Please use tf.compat.v1.train.Optimizer instead.\n",
            "\n",
            "WARNING:tensorflow:From /usr/local/lib/python3.6/dist-packages/keras/backend/tensorflow_backend.py:216: The name tf.is_variable_initialized is deprecated. Please use tf.compat.v1.is_variable_initialized instead.\n",
            "\n",
            "WARNING:tensorflow:From /usr/local/lib/python3.6/dist-packages/keras/backend/tensorflow_backend.py:223: The name tf.variables_initializer is deprecated. Please use tf.compat.v1.variables_initializer instead.\n",
            "\n",
            "WARNING:tensorflow:From /usr/local/lib/python3.6/dist-packages/keras/backend/tensorflow_backend.py:1033: The name tf.assign_add is deprecated. Please use tf.compat.v1.assign_add instead.\n",
            "\n",
            "WARNING:tensorflow:From /usr/local/lib/python3.6/dist-packages/keras/backend/tensorflow_backend.py:1020: The name tf.assign is deprecated. Please use tf.compat.v1.assign instead.\n",
            "\n",
            "Epoch 000/021 | Loss 0.0061 | Win/lose count 4.0/1.0 (3.0)\n",
            "Epoch 001/021 | Loss 0.0012 | Win/lose count 3.5/1.0 (2.5)\n",
            "Epoch 002/021 | Loss 0.0015 | Win/lose count 1.0/0 (1.0)\n",
            "Epoch 003/021 | Loss 0.0083 | Win/lose count 1.5/4.0 (-2.5)\n",
            "Epoch 004/021 | Loss 0.0059 | Win/lose count 2.0/4.0 (-2.0)\n",
            "Epoch 005/021 | Loss 0.0016 | Win/lose count 2.5/7.0 (-4.5)\n",
            "Epoch 006/021 | Loss 0.0013 | Win/lose count 5.0/1.0 (4.0)\n",
            "Epoch 007/021 | Loss 0.0057 | Win/lose count 3.5/1.0 (2.5)\n",
            "Epoch 008/021 | Loss 0.0015 | Win/lose count 4.0/3.0 (1.0)\n",
            "Epoch 009/021 | Loss 0.0506 | Win/lose count 6.5/2.0 (4.5)\n",
            "Epoch 010/021 | Loss 0.0016 | Win/lose count 4.0/10.0 (-6.0)\n",
            "Epoch 011/021 | Loss 0.0017 | Win/lose count 5.5/5.0 (0.5)\n",
            "Epoch 012/021 | Loss 0.0040 | Win/lose count 3.0/2.0 (1.0)\n",
            "Epoch 013/021 | Loss 0.0014 | Win/lose count 5.0/4.0 (1.0)\n",
            "Epoch 014/021 | Loss 0.0055 | Win/lose count 1.5/1.0 (0.5)\n",
            "Epoch 015/021 | Loss 0.0074 | Win/lose count 3.5/6.0 (-2.5)\n",
            "Epoch 016/021 | Loss 0.0044 | Win/lose count 1.0/3.0 (-2.0)\n",
            "Epoch 017/021 | Loss 0.0018 | Win/lose count 5.5/1.0 (4.5)\n",
            "Epoch 018/021 | Loss 0.0085 | Win/lose count 5.5/2.0 (3.5)\n",
            "Epoch 019/021 | Loss 0.0022 | Win/lose count 7.0/2.0 (5.0)\n",
            "Epoch 020/021 | Loss 0.0021 | Win/lose count 6.5/2.0 (4.5)\n"
          ],
          "name": "stdout"
        },
        {
          "output_type": "execute_result",
          "data": {
            "text/html": [
              "<video alt=\"test\" controls>\n",
              "                <source src=\"data:video/mp4;base64,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\" type=\"video/mp4\" />\n",
              "             </video>"
            ],
            "text/plain": [
              "<IPython.core.display.HTML object>"
            ]
          },
          "metadata": {
            "tags": []
          },
          "execution_count": 12
        }
      ]
    },
    {
      "cell_type": "markdown",
      "metadata": {
        "id": "7fhyTMyYZdt_",
        "colab_type": "text"
      },
      "source": [
        "***\n",
        "***\n",
        "__Question 8__ Implement the DQN training algorithm using a CNN (for example, 2 convolutional layers and one final fully connected layer)."
      ]
    },
    {
      "cell_type": "code",
      "metadata": {
        "id": "kPeSSkaUZduA",
        "colab_type": "code",
        "colab": {}
      },
      "source": [
        "class DQN_CNN(DQN):\n",
        "    def __init__(self, *args,lr=0.1,**kwargs):\n",
        "        super(DQN_CNN, self).__init__(*args,**kwargs)\n",
        "        \n",
        "        model=Sequential()\n",
        "        model.add(Conv2D(16, kernel_size=2, activation='relu',  input_shape=(5,5,self.n_state)))\n",
        "        model.add(Conv2D(32, kernel_size=2, activation='relu'))\n",
        "        model.add(Flatten())\n",
        "        model.add(Dense(4))\n",
        "        \n",
        "        model.compile(Adam(lr=lr),\"mse\")\n",
        "        #model.compile(sgd(lr=lr, decay=1e-4, momentum=0.0), \"mse\")\n",
        "        self.model = model"
      ],
      "execution_count": 0,
      "outputs": []
    },
    {
      "cell_type": "code",
      "metadata": {
        "id": "q-AVHBs4ZduD",
        "colab_type": "code",
        "outputId": "982d26ec-af8b-4fc9-9983-9e8050f73a1d",
        "colab": {
          "base_uri": "https://localhost:8080/",
          "height": 679
        }
      },
      "source": [
        "env = Environment(grid_size=size, max_time=T, temperature=0.3)\n",
        "agent = DQN_CNN(size, lr=1e-2, epsilon = 0.1, memory_size=2000, batch_size = 32)\n",
        "train(agent,env,epochs_train,prefix='cnn_train')\n",
        "HTML(display_videos('cnn_train20.mp4'))"
      ],
      "execution_count": 0,
      "outputs": [
        {
          "output_type": "stream",
          "text": [
            "WARNING:tensorflow:From /usr/local/lib/python3.6/dist-packages/keras/backend/tensorflow_backend.py:4267: The name tf.nn.max_pool is deprecated. Please use tf.nn.max_pool2d instead.\n",
            "\n",
            "Epoch 000/021 | Loss 0.0017 | Win/lose count 7.5/2.0 (5.5)\n",
            "Epoch 001/021 | Loss 0.0047 | Win/lose count 21.0/17.0 (4.0)\n",
            "Epoch 002/021 | Loss 0.0035 | Win/lose count 12.5/2.0 (10.5)\n",
            "Epoch 003/021 | Loss 0.0060 | Win/lose count 9.0/4.0 (5.0)\n",
            "Epoch 004/021 | Loss 0.0041 | Win/lose count 8.5/11.0 (-2.5)\n",
            "Epoch 005/021 | Loss 0.0061 | Win/lose count 11.5/3.0 (8.5)\n",
            "Epoch 006/021 | Loss 0.0027 | Win/lose count 8.5/1.0 (7.5)\n",
            "Epoch 007/021 | Loss 0.0018 | Win/lose count 11.0/4.0 (7.0)\n",
            "Epoch 008/021 | Loss 0.0031 | Win/lose count 9.5/3.0 (6.5)\n",
            "Epoch 009/021 | Loss 0.0037 | Win/lose count 6.5/5.0 (1.5)\n",
            "Epoch 010/021 | Loss 0.0065 | Win/lose count 11.5/2.0 (9.5)\n",
            "Epoch 011/021 | Loss 0.0021 | Win/lose count 7.5/0 (7.5)\n",
            "Epoch 012/021 | Loss 0.0022 | Win/lose count 3.5/4.0 (-0.5)\n",
            "Epoch 013/021 | Loss 0.0036 | Win/lose count 12.5/4.0 (8.5)\n",
            "Epoch 014/021 | Loss 0.0029 | Win/lose count 13.0/2.0 (11.0)\n",
            "Epoch 015/021 | Loss 0.0037 | Win/lose count 5.0/4.0 (1.0)\n",
            "Epoch 016/021 | Loss 0.0051 | Win/lose count 6.0/1.0 (5.0)\n",
            "Epoch 017/021 | Loss 0.0033 | Win/lose count 15.0/7.0 (8.0)\n",
            "Epoch 018/021 | Loss 0.0035 | Win/lose count 9.0/4.0 (5.0)\n",
            "Epoch 019/021 | Loss 0.0059 | Win/lose count 10.5/5.0 (5.5)\n",
            "Epoch 020/021 | Loss 0.0073 | Win/lose count 9.5/2.0 (7.5)\n"
          ],
          "name": "stdout"
        },
        {
          "output_type": "execute_result",
          "data": {
            "text/html": [
              "<video alt=\"test\" controls>\n",
              "                <source src=\"data:video/mp4;base64,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\" type=\"video/mp4\" />\n",
              "             </video>"
            ],
            "text/plain": [
              "<IPython.core.display.HTML object>"
            ]
          },
          "metadata": {
            "tags": []
          },
          "execution_count": 14
        }
      ]
    },
    {
      "cell_type": "markdown",
      "metadata": {
        "id": "XfoLHKgcZduL",
        "colab_type": "text"
      },
      "source": [
        "***\n",
        "***\n",
        "__Question 9__ Test both algorithms and compare their performances. Which issue(s) do you observe? Observe also different behaviors by changing the temperature."
      ]
    },
    {
      "cell_type": "code",
      "metadata": {
        "id": "xMAJwAgpZduO",
        "colab_type": "code",
        "outputId": "d8b648f9-3695-4a9b-c10a-f5c6287609aa",
        "colab": {
          "base_uri": "https://localhost:8080/",
          "height": 470
        }
      },
      "source": [
        "env = Environment(grid_size=size, max_time=T,temperature=0.3)\n",
        "agent_cnn = DQN_CNN(size, lr=.1, epsilon = 0.1, memory_size=2000, batch_size = 32)\n",
        "agent_cnn.load(name_weights='cnn_trainmodel.h5',name_model='cnn_trainmodel.json')\n",
        "\n",
        "agent_fc = DQN_FC(size, lr=.1, epsilon = 0.1, memory_size=2000, batch_size = 32)\n",
        "agent_cnn.load(name_weights='fc_trainmodel.h5',name_model='fc_trainmodel.json')\n",
        "print('Test of the CNN')\n",
        "test(agent_cnn,env,epochs_test,prefix='cnn_test')\n",
        "print('Test of the FC')\n",
        "test(agent_fc,env,epochs_test,prefix='fc_test')"
      ],
      "execution_count": 0,
      "outputs": [
        {
          "output_type": "stream",
          "text": [
            "Test of the CNN\n",
            "Win/lose count 0/0. Average score (0.0)\n",
            "Win/lose count 0.5/0. Average score (0.25)\n",
            "Win/lose count 0.5/0. Average score (0.3333333333333333)\n",
            "Win/lose count 1.0/0. Average score (0.5)\n",
            "Win/lose count 1.5/1.0. Average score (0.5)\n",
            "Win/lose count 1.5/1.0. Average score (0.5)\n",
            "Win/lose count 0.5/0. Average score (0.5)\n",
            "Win/lose count 2.5/0. Average score (0.75)\n",
            "Win/lose count 0.5/0. Average score (0.7222222222222222)\n",
            "Win/lose count 0/0. Average score (0.65)\n",
            "Win/lose count 1.0/0. Average score (0.6818181818181818)\n",
            "Final score: 0.6818181818181818\n",
            "Test of the FC\n",
            "Win/lose count 0/0. Average score (0.0)\n",
            "Win/lose count 2.5/1.0. Average score (0.75)\n",
            "Win/lose count 1.0/1.0. Average score (0.5)\n",
            "Win/lose count 0.5/0. Average score (0.5)\n",
            "Win/lose count 1.0/2.0. Average score (0.2)\n",
            "Win/lose count 1.0/1.0. Average score (0.16666666666666666)\n",
            "Win/lose count 1.0/1.0. Average score (0.14285714285714285)\n",
            "Win/lose count 0/0. Average score (0.125)\n",
            "Win/lose count 0/1.0. Average score (0.0)\n",
            "Win/lose count 0/1.0. Average score (-0.1)\n",
            "Win/lose count 0.5/0. Average score (-0.045454545454545456)\n",
            "Final score: -0.045454545454545456\n"
          ],
          "name": "stdout"
        },
        {
          "output_type": "execute_result",
          "data": {
            "text/plain": [
              "-0.045454545454545456"
            ]
          },
          "metadata": {
            "tags": []
          },
          "execution_count": 15
        }
      ]
    },
    {
      "cell_type": "code",
      "metadata": {
        "id": "1EP7Xt2xrJ9e",
        "colab_type": "code",
        "outputId": "3a6af556-67f0-4a03-9c66-b91b37ff2d63",
        "colab": {
          "base_uri": "https://localhost:8080/",
          "height": 1000
        }
      },
      "source": [
        "from tqdm import tqdm\n",
        "temp_list = np.linspace(.1,1,4)\n",
        "scores_fc, scores_conv, scores_rand = [],[],[]\n",
        "epochs_train = 20\n",
        "epochs_test = 20\n",
        "\n",
        "for temperature in tqdm(temp_list):\n",
        "  env = Environment(grid_size=size, max_time=T,temperature=temperature)\n",
        "\n",
        "  agent_cnn = DQN_CNN(size, lr=1e-2, epsilon = 0.1, memory_size=2000, batch_size = 32)\n",
        "  agent_fc = DQN_FC(size, lr=1e-2, epsilon = 0.1, memory_size=2000, batch_size = 32)\n",
        "  agent_rand = RandomAgent()\n",
        "\n",
        "  train(agent_cnn,env,epochs_train,prefix='cnn_train_T%.2f'%temperature)\n",
        "  train(agent_fc,env,epochs_train,prefix='fc_train_T%.2f'%temperature)\n",
        "\n",
        "  scores_fc.append(test(agent_fc,env,epochs_test,prefix='fc_test_T%.2f'%temperature))\n",
        "  scores_conv.append(test(agent_cnn,env,epochs_test,prefix='cnn_test_T%.2f'%temperature))\n",
        "  scores_rand.append(test(agent,env,epochs_test,prefix='random_T%.2f'%temperature))"
      ],
      "execution_count": 0,
      "outputs": [
        {
          "output_type": "stream",
          "text": [
            "\r  0%|          | 0/4 [00:00<?, ?it/s]"
          ],
          "name": "stderr"
        },
        {
          "output_type": "stream",
          "text": [
            "Epoch 000/020 | Loss 0.0036 | Win/lose count 1.0/3.0 (-2.0)\n",
            "Epoch 001/020 | Loss 0.0013 | Win/lose count 5.5/4.0 (1.5)\n",
            "Epoch 002/020 | Loss 0.0011 | Win/lose count 3.5/1.0 (2.5)\n",
            "Epoch 003/020 | Loss 0.0022 | Win/lose count 4.0/2.0 (2.0)\n",
            "Epoch 004/020 | Loss 0.0703 | Win/lose count 1.5/0 (1.5)\n",
            "Epoch 005/020 | Loss 0.0024 | Win/lose count 2.5/4.0 (-1.5)\n",
            "Epoch 006/020 | Loss 0.0036 | Win/lose count 2.5/4.0 (-1.5)\n",
            "Epoch 007/020 | Loss 0.0529 | Win/lose count 1.0/0 (1.0)\n",
            "Epoch 008/020 | Loss 0.0034 | Win/lose count 1.5/0 (1.5)\n",
            "Epoch 009/020 | Loss 0.0018 | Win/lose count 4.0/4.0 (0.0)\n",
            "Epoch 010/020 | Loss 0.0057 | Win/lose count 2.0/1.0 (1.0)\n",
            "Epoch 011/020 | Loss 0.0418 | Win/lose count 2.5/1.0 (1.5)\n",
            "Epoch 012/020 | Loss 0.0057 | Win/lose count 7.0/3.0 (4.0)\n",
            "Epoch 013/020 | Loss 0.0045 | Win/lose count 3.0/2.0 (1.0)\n",
            "Epoch 014/020 | Loss 0.0503 | Win/lose count 3.5/1.0 (2.5)\n",
            "Epoch 015/020 | Loss 0.0020 | Win/lose count 5.0/1.0 (4.0)\n",
            "Epoch 016/020 | Loss 0.0027 | Win/lose count 4.5/0 (4.5)\n",
            "Epoch 017/020 | Loss 0.0011 | Win/lose count 4.5/0 (4.5)\n",
            "Epoch 018/020 | Loss 0.0016 | Win/lose count 4.0/1.0 (3.0)\n",
            "Epoch 019/020 | Loss 0.0012 | Win/lose count 2.0/1.0 (1.0)\n",
            "Epoch 000/020 | Loss 0.0034 | Win/lose count 1.0/3.0 (-2.0)\n",
            "Epoch 001/020 | Loss 0.0013 | Win/lose count 1.0/0 (1.0)\n",
            "Epoch 002/020 | Loss 0.0028 | Win/lose count 0/2.0 (-2.0)\n",
            "Epoch 003/020 | Loss 0.0026 | Win/lose count 2.5/1.0 (1.5)\n",
            "Epoch 004/020 | Loss 0.0014 | Win/lose count 4.0/2.0 (2.0)\n",
            "Epoch 005/020 | Loss 0.0025 | Win/lose count 3.5/2.0 (1.5)\n",
            "Epoch 006/020 | Loss 0.0014 | Win/lose count 3.0/3.0 (0.0)\n",
            "Epoch 007/020 | Loss 0.0035 | Win/lose count 1.5/3.0 (-1.5)\n",
            "Epoch 008/020 | Loss 0.0035 | Win/lose count 3.5/2.0 (1.5)\n",
            "Epoch 009/020 | Loss 0.0034 | Win/lose count 3.5/2.0 (1.5)\n",
            "Epoch 010/020 | Loss 0.0015 | Win/lose count 0/0 (0)\n",
            "Epoch 011/020 | Loss 0.0018 | Win/lose count 1.0/0 (1.0)\n",
            "Epoch 012/020 | Loss 0.0025 | Win/lose count 2.5/1.0 (1.5)\n",
            "Epoch 013/020 | Loss 0.0046 | Win/lose count 1.5/2.0 (-0.5)\n",
            "Epoch 014/020 | Loss 0.0037 | Win/lose count 4.5/1.0 (3.5)\n",
            "Epoch 015/020 | Loss 0.0020 | Win/lose count 2.5/0 (2.5)\n",
            "Epoch 016/020 | Loss 0.0022 | Win/lose count 2.5/2.0 (0.5)\n",
            "Epoch 017/020 | Loss 0.0022 | Win/lose count 7.5/0 (7.5)\n",
            "Epoch 018/020 | Loss 0.0017 | Win/lose count 3.0/3.0 (0.0)\n",
            "Epoch 019/020 | Loss 0.0025 | Win/lose count 5.0/1.0 (4.0)\n",
            "Win/lose count 0/0. Average score (0.0)\n",
            "Win/lose count 0.5/0. Average score (0.25)\n",
            "Win/lose count 0/0. Average score (0.16666666666666666)\n",
            "Win/lose count 1.0/0. Average score (0.375)\n",
            "Win/lose count 1.0/0. Average score (0.5)\n",
            "Win/lose count 1.5/0. Average score (0.6666666666666666)\n",
            "Win/lose count 0.5/0. Average score (0.6428571428571429)\n",
            "Win/lose count 0.5/0. Average score (0.625)\n",
            "Win/lose count 2.0/0. Average score (0.7777777777777778)\n",
            "Win/lose count 0.5/0. Average score (0.75)\n",
            "Win/lose count 2.5/0. Average score (0.9090909090909091)\n",
            "Win/lose count 2.5/0. Average score (1.0416666666666667)\n",
            "Win/lose count 1.0/0. Average score (1.0384615384615385)\n",
            "Win/lose count 0.5/0. Average score (1.0)\n",
            "Win/lose count 1.0/0. Average score (1.0)\n",
            "Win/lose count 0/0. Average score (0.9375)\n",
            "Win/lose count 0.5/0. Average score (0.9117647058823529)\n",
            "Win/lose count 0.5/0. Average score (0.8888888888888888)\n",
            "Win/lose count 0.5/0. Average score (0.868421052631579)\n",
            "Win/lose count 1.0/0. Average score (0.875)\n",
            "Final score: 0.875\n",
            "Win/lose count 2.5/0. Average score (2.5)\n",
            "Win/lose count 1.5/0. Average score (2.0)\n",
            "Win/lose count 1.0/0. Average score (1.6666666666666667)\n",
            "Win/lose count 0/0. Average score (1.25)\n",
            "Win/lose count 1.5/0. Average score (1.3)\n",
            "Win/lose count 0/0. Average score (1.0833333333333333)\n",
            "Win/lose count 0/0. Average score (0.9285714285714286)\n",
            "Win/lose count 0/0. Average score (0.8125)\n",
            "Win/lose count 0.5/0. Average score (0.7777777777777778)\n",
            "Win/lose count 1.0/0. Average score (0.8)\n",
            "Win/lose count 2.0/0. Average score (0.9090909090909091)\n",
            "Win/lose count 0.5/0. Average score (0.875)\n",
            "Win/lose count 1.0/0. Average score (0.8846153846153846)\n",
            "Win/lose count 2.0/0. Average score (0.9642857142857143)\n",
            "Win/lose count 0.5/0. Average score (0.9333333333333333)\n",
            "Win/lose count 0.5/0. Average score (0.90625)\n",
            "Win/lose count 1.0/0. Average score (0.9117647058823529)\n",
            "Win/lose count 0.5/0. Average score (0.8888888888888888)\n",
            "Win/lose count 0/0. Average score (0.8421052631578947)\n",
            "Win/lose count 0.5/0. Average score (0.825)\n",
            "Final score: 0.825\n",
            "Win/lose count 0/0. Average score (0.0)\n",
            "Win/lose count 0/0. Average score (0.0)\n",
            "Win/lose count 0.5/0. Average score (0.16666666666666666)\n",
            "Win/lose count 0/0. Average score (0.125)\n",
            "Win/lose count 0.5/0. Average score (0.2)\n",
            "Win/lose count 0.5/0. Average score (0.25)\n",
            "Win/lose count 0.5/0. Average score (0.2857142857142857)\n",
            "Win/lose count 0.5/0. Average score (0.3125)\n",
            "Win/lose count 1.0/0. Average score (0.3888888888888889)\n",
            "Win/lose count 0.5/0. Average score (0.4)\n",
            "Win/lose count 0.5/0. Average score (0.4090909090909091)\n",
            "Win/lose count 2.5/0. Average score (0.5833333333333334)\n",
            "Win/lose count 0/0. Average score (0.5384615384615384)\n",
            "Win/lose count 0.5/0. Average score (0.5357142857142857)\n",
            "Win/lose count 0.5/0. Average score (0.5333333333333333)\n",
            "Win/lose count 0.5/0. Average score (0.53125)\n",
            "Win/lose count 0/0. Average score (0.5)\n",
            "Win/lose count 2.0/1.0. Average score (0.5277777777777778)\n",
            "Win/lose count 0/0. Average score (0.5)\n"
          ],
          "name": "stdout"
        },
        {
          "output_type": "stream",
          "text": [
            "\r 25%|██▌       | 1/4 [12:47<38:21, 767.01s/it]"
          ],
          "name": "stderr"
        },
        {
          "output_type": "stream",
          "text": [
            "Win/lose count 0.5/0. Average score (0.5)\n",
            "Final score: 0.5\n",
            "Epoch 000/020 | Loss 0.0010 | Win/lose count 3.0/3.0 (0.0)\n",
            "Epoch 001/020 | Loss 0.0056 | Win/lose count 5.0/2.0 (3.0)\n",
            "Epoch 002/020 | Loss 0.0044 | Win/lose count 12.5/6.0 (6.5)\n",
            "Epoch 003/020 | Loss 0.0012 | Win/lose count 6.5/10.0 (-3.5)\n",
            "Epoch 004/020 | Loss 0.0052 | Win/lose count 3.5/1.0 (2.5)\n",
            "Epoch 005/020 | Loss 0.0174 | Win/lose count 10.5/4.0 (6.5)\n",
            "Epoch 006/020 | Loss 0.0567 | Win/lose count 10.5/7.0 (3.5)\n",
            "Epoch 007/020 | Loss 0.0024 | Win/lose count 10.5/1.0 (9.5)\n",
            "Epoch 008/020 | Loss 0.0051 | Win/lose count 7.5/3.0 (4.5)\n",
            "Epoch 009/020 | Loss 0.0039 | Win/lose count 6.5/3.0 (3.5)\n",
            "Epoch 010/020 | Loss 0.0034 | Win/lose count 4.5/2.0 (2.5)\n",
            "Epoch 011/020 | Loss 0.0049 | Win/lose count 9.0/1.0 (8.0)\n",
            "Epoch 012/020 | Loss 0.0437 | Win/lose count 10.5/3.0 (7.5)\n",
            "Epoch 013/020 | Loss 0.0301 | Win/lose count 14.5/2.0 (12.5)\n",
            "Epoch 014/020 | Loss 0.0657 | Win/lose count 7.0/0 (7.0)\n",
            "Epoch 015/020 | Loss 0.0035 | Win/lose count 9.0/4.0 (5.0)\n",
            "Epoch 016/020 | Loss 0.0029 | Win/lose count 6.5/2.0 (4.5)\n",
            "Epoch 017/020 | Loss 0.0025 | Win/lose count 14.0/4.0 (10.0)\n",
            "Epoch 018/020 | Loss 0.0031 | Win/lose count 11.0/5.0 (6.0)\n",
            "Epoch 019/020 | Loss 0.0022 | Win/lose count 8.0/3.0 (5.0)\n",
            "Epoch 000/020 | Loss 0.0050 | Win/lose count 5.0/7.0 (-2.0)\n",
            "Epoch 001/020 | Loss 0.0004 | Win/lose count 3.0/2.0 (1.0)\n",
            "Epoch 002/020 | Loss 0.0042 | Win/lose count 6.0/7.0 (-1.0)\n",
            "Epoch 003/020 | Loss 0.0025 | Win/lose count 7.5/8.0 (-0.5)\n",
            "Epoch 004/020 | Loss 0.0027 | Win/lose count 3.5/9.0 (-5.5)\n",
            "Epoch 005/020 | Loss 0.0221 | Win/lose count 6.5/6.0 (0.5)\n",
            "Epoch 006/020 | Loss 0.0024 | Win/lose count 6.5/9.0 (-2.5)\n",
            "Epoch 007/020 | Loss 0.0019 | Win/lose count 6.5/3.0 (3.5)\n",
            "Epoch 008/020 | Loss 0.0025 | Win/lose count 6.0/0 (6.0)\n",
            "Epoch 009/020 | Loss 0.0470 | Win/lose count 5.5/0 (5.5)\n",
            "Epoch 010/020 | Loss 0.0045 | Win/lose count 2.5/3.0 (-0.5)\n",
            "Epoch 011/020 | Loss 0.0093 | Win/lose count 10.5/5.0 (5.5)\n",
            "Epoch 012/020 | Loss 0.0369 | Win/lose count 8.0/1.0 (7.0)\n",
            "Epoch 013/020 | Loss 0.0014 | Win/lose count 2.5/2.0 (0.5)\n",
            "Epoch 014/020 | Loss 0.0036 | Win/lose count 7.5/4.0 (3.5)\n",
            "Epoch 015/020 | Loss 0.0079 | Win/lose count 12.5/1.0 (11.5)\n",
            "Epoch 016/020 | Loss 0.0021 | Win/lose count 14.0/3.0 (11.0)\n",
            "Epoch 017/020 | Loss 0.0015 | Win/lose count 5.5/1.0 (4.5)\n",
            "Epoch 018/020 | Loss 0.0186 | Win/lose count 15.5/6.0 (9.5)\n",
            "Epoch 019/020 | Loss 0.0029 | Win/lose count 10.5/6.0 (4.5)\n",
            "Win/lose count 4.0/0. Average score (4.0)\n",
            "Win/lose count 0.5/0. Average score (2.25)\n",
            "Win/lose count 3.0/0. Average score (2.5)\n",
            "Win/lose count 0.5/0. Average score (2.0)\n",
            "Win/lose count 2.0/1.0. Average score (1.8)\n",
            "Win/lose count 0.5/1.0. Average score (1.4166666666666667)\n",
            "Win/lose count 4.0/0. Average score (1.7857142857142858)\n",
            "Win/lose count 3.0/0. Average score (1.9375)\n",
            "Win/lose count 1.0/1.0. Average score (1.7222222222222223)\n",
            "Win/lose count 4.5/0. Average score (2.0)\n",
            "Win/lose count 2.5/0. Average score (2.0454545454545454)\n",
            "Win/lose count 2.5/0. Average score (2.0833333333333335)\n",
            "Win/lose count 3.0/0. Average score (2.1538461538461537)\n",
            "Win/lose count 2.0/0. Average score (2.142857142857143)\n",
            "Win/lose count 2.5/0. Average score (2.1666666666666665)\n",
            "Win/lose count 7.5/1.0. Average score (2.4375)\n",
            "Win/lose count 2.5/0. Average score (2.4411764705882355)\n",
            "Win/lose count 1.5/0. Average score (2.388888888888889)\n",
            "Win/lose count 0.5/0. Average score (2.289473684210526)\n",
            "Win/lose count 0.5/0. Average score (2.2)\n",
            "Final score: 2.2\n",
            "Win/lose count 0.5/1.0. Average score (-0.5)\n",
            "Win/lose count 0/0. Average score (-0.25)\n",
            "Win/lose count 0.5/0. Average score (0.0)\n",
            "Win/lose count 0.5/0. Average score (0.125)\n",
            "Win/lose count 1.0/0. Average score (0.3)\n",
            "Win/lose count 2.5/0. Average score (0.6666666666666666)\n",
            "Win/lose count 0.5/0. Average score (0.6428571428571429)\n",
            "Win/lose count 1.0/1.0. Average score (0.5625)\n",
            "Win/lose count 1.0/0. Average score (0.6111111111111112)\n",
            "Win/lose count 1.5/0. Average score (0.7)\n",
            "Win/lose count 0.5/0. Average score (0.6818181818181818)\n",
            "Win/lose count 0.5/0. Average score (0.6666666666666666)\n",
            "Win/lose count 1.0/0. Average score (0.6923076923076923)\n",
            "Win/lose count 2.0/0. Average score (0.7857142857142857)\n",
            "Win/lose count 0/0. Average score (0.7333333333333333)\n",
            "Win/lose count 3.5/1.0. Average score (0.84375)\n",
            "Win/lose count 3.0/0. Average score (0.9705882352941176)\n",
            "Win/lose count 0.5/0. Average score (0.9444444444444444)\n",
            "Win/lose count 0/0. Average score (0.8947368421052632)\n",
            "Win/lose count 0.5/1.0. Average score (0.825)\n",
            "Final score: 0.825\n",
            "Win/lose count 0.5/0. Average score (0.5)\n",
            "Win/lose count 3.5/0. Average score (2.0)\n",
            "Win/lose count 0.5/0. Average score (1.5)\n",
            "Win/lose count 0.5/0. Average score (1.25)\n",
            "Win/lose count 2.5/0. Average score (1.5)\n",
            "Win/lose count 5.0/1.0. Average score (1.9166666666666667)\n",
            "Win/lose count 6.5/1.0. Average score (2.4285714285714284)\n",
            "Win/lose count 0/0. Average score (2.125)\n",
            "Win/lose count 2.0/0. Average score (2.111111111111111)\n",
            "Win/lose count 2.0/0. Average score (2.1)\n",
            "Win/lose count 2.0/0. Average score (2.090909090909091)\n",
            "Win/lose count 0.5/0. Average score (1.9583333333333333)\n",
            "Win/lose count 1.5/0. Average score (1.9230769230769231)\n",
            "Win/lose count 1.5/0. Average score (1.8928571428571428)\n",
            "Win/lose count 0.5/0. Average score (1.8)\n",
            "Win/lose count 0/0. Average score (1.6875)\n",
            "Win/lose count 4.5/1.0. Average score (1.7941176470588236)\n",
            "Win/lose count 0/0. Average score (1.6944444444444444)\n",
            "Win/lose count 1.0/0. Average score (1.6578947368421053)\n"
          ],
          "name": "stdout"
        },
        {
          "output_type": "stream",
          "text": [
            "\r 50%|█████     | 2/4 [25:39<25:37, 768.66s/it]"
          ],
          "name": "stderr"
        },
        {
          "output_type": "stream",
          "text": [
            "Win/lose count 1.0/0. Average score (1.625)\n",
            "Final score: 1.625\n",
            "Epoch 000/020 | Loss 0.0077 | Win/lose count 5.0/2.0 (3.0)\n",
            "Epoch 001/020 | Loss 0.0011 | Win/lose count 7.5/3.0 (4.5)\n",
            "Epoch 002/020 | Loss 0.0047 | Win/lose count 6.5/4.0 (2.5)\n",
            "Epoch 003/020 | Loss 0.0035 | Win/lose count 14.0/4.0 (10.0)\n",
            "Epoch 004/020 | Loss 0.0035 | Win/lose count 10.5/2.0 (8.5)\n",
            "Epoch 005/020 | Loss 0.0030 | Win/lose count 25.0/4.0 (21.0)\n",
            "Epoch 006/020 | Loss 0.0048 | Win/lose count 14.5/6.0 (8.5)\n",
            "Epoch 007/020 | Loss 0.0021 | Win/lose count 25.0/5.0 (20.0)\n",
            "Epoch 008/020 | Loss 0.0053 | Win/lose count 27.0/5.0 (22.0)\n",
            "Epoch 009/020 | Loss 0.0585 | Win/lose count 12.0/3.0 (9.0)\n",
            "Epoch 010/020 | Loss 0.0101 | Win/lose count 24.0/1.0 (23.0)\n",
            "Epoch 011/020 | Loss 0.0014 | Win/lose count 12.5/2.0 (10.5)\n",
            "Epoch 012/020 | Loss 0.0453 | Win/lose count 8.5/4.0 (4.5)\n",
            "Epoch 013/020 | Loss 0.0024 | Win/lose count 30.5/3.0 (27.5)\n",
            "Epoch 014/020 | Loss 0.0033 | Win/lose count 29.0/7.0 (22.0)\n",
            "Epoch 015/020 | Loss 0.0029 | Win/lose count 29.0/3.0 (26.0)\n",
            "Epoch 016/020 | Loss 0.0035 | Win/lose count 32.5/4.0 (28.5)\n",
            "Epoch 017/020 | Loss 0.0064 | Win/lose count 21.5/5.0 (16.5)\n",
            "Epoch 018/020 | Loss 0.0008 | Win/lose count 20.0/6.0 (14.0)\n",
            "Epoch 019/020 | Loss 0.0152 | Win/lose count 17.0/4.0 (13.0)\n",
            "Epoch 000/020 | Loss 0.0022 | Win/lose count 2.5/4.0 (-1.5)\n",
            "Epoch 001/020 | Loss 0.0006 | Win/lose count 8.0/4.0 (4.0)\n",
            "Epoch 002/020 | Loss 0.0414 | Win/lose count 8.5/5.0 (3.5)\n",
            "Epoch 003/020 | Loss 0.0246 | Win/lose count 4.5/4.0 (0.5)\n",
            "Epoch 004/020 | Loss 0.0011 | Win/lose count 5.5/1.0 (4.5)\n",
            "Epoch 005/020 | Loss 0.0051 | Win/lose count 11.5/7.0 (4.5)\n",
            "Epoch 006/020 | Loss 0.0022 | Win/lose count 6.0/1.0 (5.0)\n",
            "Epoch 007/020 | Loss 0.0047 | Win/lose count 7.0/2.0 (5.0)\n",
            "Epoch 008/020 | Loss 0.0032 | Win/lose count 5.5/6.0 (-0.5)\n",
            "Epoch 009/020 | Loss 0.0020 | Win/lose count 5.0/2.0 (3.0)\n",
            "Epoch 010/020 | Loss 0.0013 | Win/lose count 16.0/4.0 (12.0)\n",
            "Epoch 011/020 | Loss 0.0085 | Win/lose count 7.5/4.0 (3.5)\n",
            "Epoch 012/020 | Loss 0.0304 | Win/lose count 11.0/1.0 (10.0)\n",
            "Epoch 013/020 | Loss 0.0523 | Win/lose count 7.0/2.0 (5.0)\n",
            "Epoch 014/020 | Loss 0.0552 | Win/lose count 11.0/4.0 (7.0)\n",
            "Epoch 015/020 | Loss 0.0033 | Win/lose count 13.0/1.0 (12.0)\n",
            "Epoch 016/020 | Loss 0.0037 | Win/lose count 9.0/1.0 (8.0)\n",
            "Epoch 017/020 | Loss 0.0045 | Win/lose count 3.5/2.0 (1.5)\n",
            "Epoch 018/020 | Loss 0.0023 | Win/lose count 12.0/3.0 (9.0)\n",
            "Epoch 019/020 | Loss 0.0016 | Win/lose count 21.5/3.0 (18.5)\n",
            "Win/lose count 4.5/0. Average score (4.5)\n",
            "Win/lose count 9.5/0. Average score (7.0)\n",
            "Win/lose count 1.5/1.0. Average score (4.833333333333333)\n",
            "Win/lose count 4.0/0. Average score (4.625)\n",
            "Win/lose count 4.0/1.0. Average score (4.3)\n",
            "Win/lose count 3.5/0. Average score (4.166666666666667)\n",
            "Win/lose count 4.5/1.0. Average score (4.071428571428571)\n",
            "Win/lose count 7.0/0. Average score (4.4375)\n",
            "Win/lose count 2.5/0. Average score (4.222222222222222)\n",
            "Win/lose count 6.0/0. Average score (4.4)\n",
            "Win/lose count 1.5/0. Average score (4.136363636363637)\n",
            "Win/lose count 5.0/0. Average score (4.208333333333333)\n",
            "Win/lose count 7.0/0. Average score (4.423076923076923)\n",
            "Win/lose count 14.5/0. Average score (5.142857142857143)\n",
            "Win/lose count 7.0/0. Average score (5.266666666666667)\n",
            "Win/lose count 1.0/0. Average score (5.0)\n",
            "Win/lose count 5.5/1.0. Average score (4.970588235294118)\n",
            "Win/lose count 2.5/1.0. Average score (4.777777777777778)\n",
            "Win/lose count 3.0/0. Average score (4.684210526315789)\n",
            "Win/lose count 1.5/0. Average score (4.525)\n",
            "Final score: 4.525\n",
            "Win/lose count 1.5/0. Average score (1.5)\n",
            "Win/lose count 2.5/0. Average score (2.0)\n",
            "Win/lose count 1.0/0. Average score (1.6666666666666667)\n",
            "Win/lose count 0.5/0. Average score (1.375)\n",
            "Win/lose count 4.0/0. Average score (1.9)\n",
            "Win/lose count 6.0/0. Average score (2.5833333333333335)\n",
            "Win/lose count 1.5/0. Average score (2.4285714285714284)\n",
            "Win/lose count 5.0/0. Average score (2.75)\n",
            "Win/lose count 5.0/0. Average score (3.0)\n",
            "Win/lose count 2.0/0. Average score (2.9)\n",
            "Win/lose count 0.5/0. Average score (2.6818181818181817)\n",
            "Win/lose count 1.0/0. Average score (2.5416666666666665)\n",
            "Win/lose count 4.5/0. Average score (2.6923076923076925)\n",
            "Win/lose count 0.5/0. Average score (2.5357142857142856)\n",
            "Win/lose count 3.5/0. Average score (2.6)\n",
            "Win/lose count 6.5/0. Average score (2.84375)\n",
            "Win/lose count 2.0/0. Average score (2.7941176470588234)\n",
            "Win/lose count 4.5/0. Average score (2.888888888888889)\n",
            "Win/lose count 2.0/0. Average score (2.8421052631578947)\n",
            "Win/lose count 10.5/2.0. Average score (3.125)\n",
            "Final score: 3.125\n",
            "Win/lose count 4.0/1.0. Average score (3.0)\n",
            "Win/lose count 1.0/0. Average score (2.0)\n",
            "Win/lose count 3.0/0. Average score (2.3333333333333335)\n",
            "Win/lose count 1.0/0. Average score (2.0)\n",
            "Win/lose count 3.0/0. Average score (2.2)\n",
            "Win/lose count 1.5/1.0. Average score (1.9166666666666667)\n",
            "Win/lose count 1.5/0. Average score (1.8571428571428572)\n",
            "Win/lose count 3.0/0. Average score (2.0)\n",
            "Win/lose count 0.5/0. Average score (1.8333333333333333)\n",
            "Win/lose count 1.0/0. Average score (1.75)\n",
            "Win/lose count 1.0/0. Average score (1.6818181818181819)\n",
            "Win/lose count 2.0/0. Average score (1.7083333333333333)\n",
            "Win/lose count 1.0/1.0. Average score (1.5769230769230769)\n",
            "Win/lose count 0.5/0. Average score (1.5)\n",
            "Win/lose count 1.5/0. Average score (1.5)\n",
            "Win/lose count 5.5/0. Average score (1.75)\n",
            "Win/lose count 2.0/0. Average score (1.7647058823529411)\n",
            "Win/lose count 1.0/2.0. Average score (1.6111111111111112)\n",
            "Win/lose count 1.5/0. Average score (1.605263157894737)\n"
          ],
          "name": "stdout"
        },
        {
          "output_type": "stream",
          "text": [
            "\r 75%|███████▌  | 3/4 [38:35<12:50, 770.82s/it]"
          ],
          "name": "stderr"
        },
        {
          "output_type": "stream",
          "text": [
            "Win/lose count 1.0/0. Average score (1.575)\n",
            "Final score: 1.575\n",
            "Epoch 000/020 | Loss 0.0016 | Win/lose count 9.0/0 (9.0)\n",
            "Epoch 001/020 | Loss 0.0695 | Win/lose count 32.5/0 (32.5)\n",
            "Epoch 002/020 | Loss 0.0619 | Win/lose count 25.5/0 (25.5)\n",
            "Epoch 003/020 | Loss 0.0018 | Win/lose count 20.0/0 (20.0)\n",
            "Epoch 004/020 | Loss 0.0024 | Win/lose count 48.5/0 (48.5)\n",
            "Epoch 005/020 | Loss 0.0009 | Win/lose count 46.5/0 (46.5)\n",
            "Epoch 006/020 | Loss 0.0008 | Win/lose count 45.5/0 (45.5)\n",
            "Epoch 007/020 | Loss 0.0018 | Win/lose count 46.0/0 (46.0)\n",
            "Epoch 008/020 | Loss 0.0011 | Win/lose count 54.5/0 (54.5)\n",
            "Epoch 009/020 | Loss 0.0014 | Win/lose count 53.0/0 (53.0)\n",
            "Epoch 010/020 | Loss 0.0712 | Win/lose count 51.0/0 (51.0)\n",
            "Epoch 011/020 | Loss 0.0042 | Win/lose count 47.5/0 (47.5)\n",
            "Epoch 012/020 | Loss 0.0616 | Win/lose count 38.0/0 (38.0)\n",
            "Epoch 013/020 | Loss 0.0014 | Win/lose count 49.0/0 (49.0)\n",
            "Epoch 014/020 | Loss 0.0010 | Win/lose count 48.0/0 (48.0)\n",
            "Epoch 015/020 | Loss 0.0562 | Win/lose count 49.5/0 (49.5)\n",
            "Epoch 016/020 | Loss 0.0025 | Win/lose count 52.0/0 (52.0)\n",
            "Epoch 017/020 | Loss 0.0011 | Win/lose count 55.0/0 (55.0)\n",
            "Epoch 018/020 | Loss 0.0005 | Win/lose count 60.5/0 (60.5)\n",
            "Epoch 019/020 | Loss 0.0009 | Win/lose count 54.0/0 (54.0)\n",
            "Epoch 000/020 | Loss 0.0100 | Win/lose count 11.0/0 (11.0)\n",
            "Epoch 001/020 | Loss 0.0328 | Win/lose count 19.0/0 (19.0)\n",
            "Epoch 002/020 | Loss 0.0018 | Win/lose count 8.5/0 (8.5)\n",
            "Epoch 003/020 | Loss 0.0050 | Win/lose count 17.0/0 (17.0)\n",
            "Epoch 004/020 | Loss 0.0045 | Win/lose count 20.0/0 (20.0)\n",
            "Epoch 005/020 | Loss 0.0014 | Win/lose count 21.5/0 (21.5)\n",
            "Epoch 006/020 | Loss 0.0021 | Win/lose count 19.5/0 (19.5)\n",
            "Epoch 007/020 | Loss 0.0044 | Win/lose count 21.0/0 (21.0)\n",
            "Epoch 008/020 | Loss 0.0021 | Win/lose count 21.5/0 (21.5)\n",
            "Epoch 009/020 | Loss 0.0016 | Win/lose count 20.5/0 (20.5)\n",
            "Epoch 010/020 | Loss 0.0010 | Win/lose count 21.5/0 (21.5)\n",
            "Epoch 011/020 | Loss 0.0016 | Win/lose count 14.5/0 (14.5)\n",
            "Epoch 012/020 | Loss 0.0027 | Win/lose count 18.0/0 (18.0)\n",
            "Epoch 013/020 | Loss 0.0023 | Win/lose count 26.0/0 (26.0)\n",
            "Epoch 014/020 | Loss 0.0024 | Win/lose count 18.0/0 (18.0)\n",
            "Epoch 015/020 | Loss 0.0020 | Win/lose count 34.5/0 (34.5)\n",
            "Epoch 016/020 | Loss 0.0051 | Win/lose count 26.5/0 (26.5)\n",
            "Epoch 017/020 | Loss 0.0456 | Win/lose count 31.0/0 (31.0)\n",
            "Epoch 018/020 | Loss 0.0530 | Win/lose count 29.0/0 (29.0)\n",
            "Epoch 019/020 | Loss 0.0029 | Win/lose count 43.0/0 (43.0)\n",
            "Win/lose count 2.5/0. Average score (2.5)\n",
            "Win/lose count 2.0/0. Average score (2.25)\n",
            "Win/lose count 3.0/0. Average score (2.5)\n",
            "Win/lose count 5.0/0. Average score (3.125)\n",
            "Win/lose count 1.0/0. Average score (2.7)\n",
            "Win/lose count 5.0/0. Average score (3.0833333333333335)\n",
            "Win/lose count 3.0/0. Average score (3.0714285714285716)\n",
            "Win/lose count 3.0/0. Average score (3.0625)\n",
            "Win/lose count 4.0/0. Average score (3.1666666666666665)\n",
            "Win/lose count 4.5/0. Average score (3.3)\n",
            "Win/lose count 4.5/0. Average score (3.409090909090909)\n",
            "Win/lose count 1.0/0. Average score (3.2083333333333335)\n",
            "Win/lose count 5.5/0. Average score (3.3846153846153846)\n",
            "Win/lose count 5.0/0. Average score (3.5)\n",
            "Win/lose count 4.0/0. Average score (3.533333333333333)\n",
            "Win/lose count 4.0/0. Average score (3.5625)\n",
            "Win/lose count 5.5/0. Average score (3.676470588235294)\n",
            "Win/lose count 5.5/0. Average score (3.7777777777777777)\n",
            "Win/lose count 5.0/0. Average score (3.8421052631578947)\n",
            "Win/lose count 2.5/0. Average score (3.775)\n",
            "Final score: 3.775\n",
            "Win/lose count 3.0/0. Average score (3.0)\n",
            "Win/lose count 4.0/0. Average score (3.5)\n",
            "Win/lose count 1.5/0. Average score (2.8333333333333335)\n",
            "Win/lose count 2.0/0. Average score (2.625)\n",
            "Win/lose count 3.5/0. Average score (2.8)\n",
            "Win/lose count 5.0/0. Average score (3.1666666666666665)\n",
            "Win/lose count 4.0/0. Average score (3.2857142857142856)\n",
            "Win/lose count 2.5/0. Average score (3.1875)\n",
            "Win/lose count 5.0/0. Average score (3.388888888888889)\n",
            "Win/lose count 2.0/0. Average score (3.25)\n",
            "Win/lose count 1.5/0. Average score (3.090909090909091)\n",
            "Win/lose count 1.0/0. Average score (2.9166666666666665)\n",
            "Win/lose count 4.0/0. Average score (3.0)\n",
            "Win/lose count 1.0/0. Average score (2.857142857142857)\n",
            "Win/lose count 4.5/0. Average score (2.966666666666667)\n",
            "Win/lose count 1.0/0. Average score (2.84375)\n",
            "Win/lose count 3.5/0. Average score (2.8823529411764706)\n",
            "Win/lose count 5.5/0. Average score (3.0277777777777777)\n",
            "Win/lose count 5.0/0. Average score (3.1315789473684212)\n",
            "Win/lose count 1.0/0. Average score (3.025)\n",
            "Final score: 3.025\n",
            "Win/lose count 0.5/0. Average score (0.5)\n",
            "Win/lose count 0.5/0. Average score (0.5)\n",
            "Win/lose count 0.5/0. Average score (0.5)\n",
            "Win/lose count 1.5/0. Average score (0.75)\n",
            "Win/lose count 3.0/0. Average score (1.2)\n",
            "Win/lose count 0.5/0. Average score (1.0833333333333333)\n",
            "Win/lose count 0.5/0. Average score (1.0)\n",
            "Win/lose count 0.5/0. Average score (0.9375)\n",
            "Win/lose count 0.5/0. Average score (0.8888888888888888)\n",
            "Win/lose count 0.5/0. Average score (0.85)\n",
            "Win/lose count 7.5/0. Average score (1.4545454545454546)\n",
            "Win/lose count 3.0/0. Average score (1.5833333333333333)\n",
            "Win/lose count 0.5/0. Average score (1.5)\n",
            "Win/lose count 0.5/0. Average score (1.4285714285714286)\n",
            "Win/lose count 0.5/0. Average score (1.3666666666666667)\n",
            "Win/lose count 3.0/0. Average score (1.46875)\n",
            "Win/lose count 1.5/0. Average score (1.4705882352941178)\n",
            "Win/lose count 0.5/0. Average score (1.4166666666666667)\n",
            "Win/lose count 0.5/0. Average score (1.368421052631579)\n"
          ],
          "name": "stdout"
        },
        {
          "output_type": "stream",
          "text": [
            "\r100%|██████████| 4/4 [51:42<00:00, 775.73s/it]"
          ],
          "name": "stderr"
        },
        {
          "output_type": "stream",
          "text": [
            "Win/lose count 1.5/0. Average score (1.375)\n",
            "Final score: 1.375\n"
          ],
          "name": "stdout"
        },
        {
          "output_type": "stream",
          "text": [
            "\n"
          ],
          "name": "stderr"
        }
      ]
    },
    {
      "cell_type": "code",
      "metadata": {
        "id": "5wBkC0gd4Jr_",
        "colab_type": "code",
        "outputId": "e9f9bb42-9da9-4efd-d796-61b5754feff3",
        "colab": {
          "base_uri": "https://localhost:8080/",
          "height": 382
        }
      },
      "source": [
        "import matplotlib.pyplot as plt\n",
        "plt.figure(dpi=100)\n",
        "plt.plot(temp_list,scores_fc,label='Fully connected')\n",
        "plt.plot(temp_list,scores_conv,label='CNN')\n",
        "plt.plot(temp_list,scores_rand,label='Random Agent')\n",
        "plt.legend()\n",
        "plt.xlabel('Temperature')\n",
        "plt.ylabel('Average score');"
      ],
      "execution_count": 0,
      "outputs": [
        {
          "output_type": "display_data",
          "data": {
            "image/png": "[encoded data removed]",
            "text/plain": [
              "<Figure size 600x400 with 1 Axes>"
            ]
          },
          "metadata": {
            "tags": []
          }
        }
      ]
    },
    {
      "cell_type": "code",
      "metadata": {
        "id": "C1d8sbuCZdub",
        "colab_type": "code",
        "outputId": "8debee4c-1829-4de4-8735-3277da2aea7f",
        "colab": {
          "base_uri": "https://localhost:8080/",
          "height": 293
        }
      },
      "source": [
        "HTML(display_videos('fc_test_T0.700.mp4'))"
      ],
      "execution_count": 0,
      "outputs": [
        {
          "output_type": "execute_result",
          "data": {
            "text/html": [
              "<video alt=\"test\" controls>\n",
              "                <source src=\"data:video/mp4;base64,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\" type=\"video/mp4\" />\n",
              "             </video>"
            ],
            "text/plain": [
              "<IPython.core.display.HTML object>"
            ]
          },
          "metadata": {
            "tags": []
          },
          "execution_count": 20
        }
      ]
    },
    {
      "cell_type": "code",
      "metadata": {
        "colab_type": "code",
        "outputId": "3a7c06a0-92cd-4d97-f40a-32c1268dad6a",
        "id": "i_cSa4KCA67C",
        "colab": {
          "base_uri": "https://localhost:8080/",
          "height": 293
        }
      },
      "source": [
        "HTML(display_videos('cnn_test_T0.700.mp4'))"
      ],
      "execution_count": 0,
      "outputs": [
        {
          "output_type": "execute_result",
          "data": {
            "text/html": [
              "<video alt=\"test\" controls>\n",
              "                <source src=\"data:video/mp4;base64,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\" type=\"video/mp4\" />\n",
              "             </video>"
            ],
            "text/plain": [
              "<IPython.core.display.HTML object>"
            ]
          },
          "metadata": {
            "tags": []
          },
          "execution_count": 21
        }
      ]
    },
    {
      "cell_type": "markdown",
      "metadata": {
        "id": "ZJbBKnFpZdum",
        "colab_type": "text"
      },
      "source": [
        "#### Remarks on Behaviour\n",
        "\n",
        "The main noticeable behaviour is that the agent seems not to explore enough and stay at the same place. One should try to encourage exploration.\n",
        "\n",
        "It is hard to conclude on the best kind of network to use in order to tackle this problem. Fully connected layers seem enough for that many small images."
      ]
    },
    {
      "cell_type": "markdown",
      "metadata": {
        "id": "x5AfxwRcZduo",
        "colab_type": "text"
      },
      "source": [
        "***\n",
        "\n",
        "The algorithm tends to not explore the map which can be an issue. We propose two ideas in order to encourage exploration:\n",
        "1. Incorporating a decreasing $\\epsilon$-greedy exploration. You can use the method ```set_epsilon```\n",
        "2. Append via the environment a new state that describes if a cell has been visited or not\n",
        "\n",
        "***\n",
        "__Question 10__ Design a new ```train_explore``` function and environment class ```EnvironmentExploring``` to tackle the issue of exploration.\n",
        "\n"
      ]
    },
    {
      "cell_type": "markdown",
      "metadata": {
        "id": "MUDeBpUOBOe_",
        "colab_type": "text"
      },
      "source": [
        "We use an exponential decay on the value of ```epsilon``` to enforce exploration."
      ]
    },
    {
      "cell_type": "code",
      "metadata": {
        "id": "7opdBMPtZdup",
        "colab_type": "code",
        "colab": {}
      },
      "source": [
        "def train_explore(agent,env,epoch,decay=1,prefix=''):\n",
        "  # Number of won games\n",
        "    score = 0\n",
        "    loss = 0\n",
        "    emax= agent.epsilon\n",
        "    emin= 0.1\n",
        "\n",
        "    for e in range(epoch):\n",
        "        # At each epoch, we restart to a fresh game and get the initial state\n",
        "        state = env.reset()\n",
        "        # This assumes that the games will terminate\n",
        "        game_over = False\n",
        "\n",
        "        win = 0\n",
        "        lose = 0\n",
        "        \n",
        "\n",
        "        while not game_over:\n",
        "            # The agent performs an action\n",
        "            action = agent.act(state)\n",
        "            \n",
        "            # exponential decay\n",
        "            epsilon = max(agent.epsilon*decay, emin)\n",
        "            agent.set_epsilon(epsilon)\n",
        "\n",
        "            # Apply an action to the environment, get the next state, the reward\n",
        "            # and if the games end\n",
        "            prev_state = state\n",
        "            state, reward, game_over = env.act(action, train=True)\n",
        "\n",
        "            # Update the counters\n",
        "            if reward > 0:\n",
        "                win +=  reward\n",
        "            if reward < 0:\n",
        "                lose -= reward\n",
        "            \n",
        "            # Apply the reinforcement strategy\n",
        "            loss = agent.reinforce(prev_state, state,  action, reward, game_over)\n",
        "\n",
        "        # Save as a mp4\n",
        "        if e % 10 == 0:\n",
        "            env.draw(prefix+str(e))\n",
        "\n",
        "        # Update stats\n",
        "        score += win-lose\n",
        "        \n",
        "        print(\"Epoch {:03d}/{:03d} | Loss {:.4f} | Win/lose count {:.2f}/{:.2f} ({:.2f})\"\n",
        "              .format(e, epoch, loss, win, lose, win-lose))\n",
        "        agent.save(name_weights=prefix+'model.h5',name_model=prefix+'model.json')\n",
        "        \n",
        "class EnvironmentExploring(object):\n",
        "    def __init__(self, grid_size=10, max_time=500, temperature=0.1):\n",
        "        grid_size = grid_size+4\n",
        "        self.grid_size = grid_size\n",
        "        self.max_time = max_time\n",
        "        self.temperature = temperature\n",
        "\n",
        "        self.board = np.zeros((grid_size,grid_size))\n",
        "        self.position = np.zeros((grid_size,grid_size))\n",
        "\n",
        "        # New state\n",
        "        self.malus_position = np.zeros((grid_size,grid_size))\n",
        "        \n",
        "        # coordinate of the cat\n",
        "        self.x = 0\n",
        "        self.y = 1\n",
        "\n",
        "        # self time\n",
        "        self.t = 0\n",
        "\n",
        "        self.scale=16\n",
        "\n",
        "        self.to_draw = np.zeros((max_time+2, grid_size*self.scale, grid_size*self.scale, 3))\n",
        "\n",
        "\n",
        "    def draw(self,e):\n",
        "        skvideo.io.vwrite(str(e) + '.mp4', self.to_draw)\n",
        "    \n",
        "    def get_frame(self,t):\n",
        "        b = np.zeros((self.grid_size,self.grid_size,3))+128\n",
        "        b[self.board>0,0] = 256\n",
        "        b[self.board < 0, 2] = 256\n",
        "        b[self.x,self.y,:]=256\n",
        "        b[-2:,:,:]=0\n",
        "        b[:,-2:,:]=0\n",
        "        b[:2,:,:]=0\n",
        "        b[:,:2,:]=0\n",
        "        \n",
        "        b =  cv2.resize(b, None, fx=self.scale, fy=self.scale, interpolation=cv2.INTER_NEAREST)\n",
        "\n",
        "        self.to_draw[t,:,:,:]=b\n",
        "\n",
        "    def act(self, action, train = False):\n",
        "        \"\"\"This function returns the new state, reward and decides if the\n",
        "        game ends.\"\"\"\n",
        "\n",
        "        self.get_frame(int(self.t))\n",
        "\n",
        "        self.position = np.zeros((self.grid_size, self.grid_size))\n",
        "\n",
        "        self.position[0:2,:]= -1\n",
        "        self.position[:,0:2] = -1\n",
        "        self.position[-2:, :] = -1\n",
        "        self.position[-2:, :] = -1\n",
        "\n",
        "        self.position[self.x, self.y] = 1\n",
        "        if action == 0:\n",
        "            if self.x == self.grid_size-3:\n",
        "                self.x = self.x-1\n",
        "            else:\n",
        "                self.x = self.x + 1\n",
        "        elif action == 1:\n",
        "            if self.x == 2:\n",
        "                self.x = self.x+1\n",
        "            else:\n",
        "                self.x = self.x-1\n",
        "        elif action == 2:\n",
        "            if self.y == self.grid_size - 3:\n",
        "                self.y = self.y - 1\n",
        "            else:\n",
        "                self.y = self.y + 1\n",
        "        elif action == 3:\n",
        "            if self.y == 2:\n",
        "                self.y = self.y + 1\n",
        "            else:\n",
        "                self.y = self.y - 1\n",
        "        else:\n",
        "            RuntimeError('Error: action not recognized')\n",
        "\n",
        "        self.t = self.t + 1\n",
        "\n",
        "        # Adapt reward with the malus\n",
        "        reward = 0\n",
        "        if train:\n",
        "            reward = -self.malus_position[self.x, self.y]\n",
        "        self.malus_position[self.x, self.y] += 0.1\n",
        "\n",
        "        reward = reward + self.board[self.x, self.y]\n",
        "        \n",
        "        self.board[self.x, self.y] = 0\n",
        "        game_over = self.t > self.max_time\n",
        "        \n",
        "        state = np.concatenate((self.malus_position.reshape(self.grid_size, self.grid_size,1),\n",
        "                                self.board.reshape(self.grid_size, self.grid_size,1),\n",
        "                                self.position.reshape(self.grid_size, self.grid_size,1)),axis=2)\n",
        "\n",
        "        state = state[self.x - 2:self.x + 3, self.y - 2:self.y + 3, :]\n",
        "\n",
        "        return state, reward, game_over\n",
        "\n",
        "    def reset(self):\n",
        "        \"\"\"This function resets the game and returns the initial state\"\"\"\n",
        "\n",
        "        self.x = np.random.randint(3, self.grid_size-3, size=1)[0]\n",
        "        self.y = np.random.randint(3, self.grid_size-3, size=1)[0]\n",
        "\n",
        "\n",
        "        bonus = 0.5*np.random.binomial(1,self.temperature,size=self.grid_size**2)\n",
        "        bonus = bonus.reshape(self.grid_size,self.grid_size)\n",
        "\n",
        "        malus = -1.0*np.random.binomial(1,self.temperature,size=self.grid_size**2)\n",
        "        malus = malus.reshape(self.grid_size, self.grid_size)\n",
        "\n",
        "        self.to_draw = np.zeros((self.max_time+2, self.grid_size*self.scale, self.grid_size*self.scale, 3))\n",
        "\n",
        "        malus[bonus>0]=0\n",
        "        self.board = bonus + malus\n",
        "\n",
        "        self.position = np.zeros((self.grid_size, self.grid_size))\n",
        "        self.position[0:2,:]= -1\n",
        "        self.position[:,0:2] = -1\n",
        "        self.position[-2:, :] = -1\n",
        "        self.board[self.x,self.y] = 0\n",
        "        self.t = 0\n",
        "        \n",
        "        self.malus_position = np.zeros((self.grid_size, self.grid_size))\n",
        "        self.malus_position[self.x, self.y] = 0.1\n",
        "\n",
        "        state = np.concatenate((self.malus_position.reshape(self.grid_size, self.grid_size,1),\n",
        "                                self.board.reshape(self.grid_size, self.grid_size,1),\n",
        "                                self.position.reshape(self.grid_size, self.grid_size,1)),axis=2)\n",
        "\n",
        "        state = state[self.x - 2:self.x + 3, self.y - 2:self.y + 3, :]\n",
        "        return state\n",
        "    \n",
        "## use those samples of code:\n",
        "#In train explore:\n",
        "#state, reward, game_over = env.act(action, train=True)\n",
        "\n",
        "## In Environment exploring:\n",
        "# You will have to change n_state to 3 because you will use one more layer!\n",
        "#reward = 0\n",
        "#if train:\n",
        "#    reward = -self.malus_position[self.x, self.y]\n",
        "#self.malus_position[self.x, self.y] = 0.1\n",
        "\n",
        "#reward = reward + self.board[self.x, self.y]\n",
        "# 3 \"feature\" states instead of 2\n",
        "#state = np.concatenate((self.malus_position.reshape(self.grid_size, self.grid_size,1),\n",
        "#                                self.board.reshape(self.grid_size, self.grid_size,1),\n",
        "#                        self.position.reshape(self.grid_size, self.grid_size,1)),axis=2)"
      ],
      "execution_count": 0,
      "outputs": []
    },
    {
      "cell_type": "code",
      "metadata": {
        "id": "If72-qBfZdu3",
        "colab_type": "code",
        "outputId": "ea637d33-04b8-4a81-ddfb-798965dd1490",
        "colab": {
          "base_uri": "https://localhost:8080/",
          "height": 646
        }
      },
      "source": [
        "# Training\n",
        "epochs_train = 21\n",
        "emax = 1\n",
        "decay = .8\n",
        "env = EnvironmentExploring(grid_size=size, max_time=T, temperature=0.3)\n",
        "agent = DQN_CNN(size, lr=1e-2, epsilon = emax, memory_size=2000, batch_size = 32,n_state=3)\n",
        "train_explore(agent, env, epochs_train,decay=decay, prefix='cnn_train_explore')\n",
        "HTML(display_videos('cnn_train_explore20.mp4'))"
      ],
      "execution_count": 20,
      "outputs": [
        {
          "output_type": "stream",
          "text": [
            "Epoch 000/021 | Loss 0.0110 | Win/lose count 15.00/33.60 (-18.60)\n",
            "Epoch 001/021 | Loss 0.0147 | Win/lose count 17.50/28.10 (-10.60)\n",
            "Epoch 002/021 | Loss 0.0079 | Win/lose count 18.50/26.20 (-7.70)\n",
            "Epoch 003/021 | Loss 0.0283 | Win/lose count 17.50/25.70 (-8.20)\n",
            "Epoch 004/021 | Loss 0.0104 | Win/lose count 18.50/18.70 (-0.20)\n",
            "Epoch 005/021 | Loss 0.0788 | Win/lose count 20.50/17.40 (3.10)\n",
            "Epoch 006/021 | Loss 0.0094 | Win/lose count 17.50/26.10 (-8.60)\n",
            "Epoch 007/021 | Loss 0.0081 | Win/lose count 18.50/23.70 (-5.20)\n",
            "Epoch 008/021 | Loss 0.0180 | Win/lose count 22.00/27.60 (-5.60)\n",
            "Epoch 009/021 | Loss 0.0100 | Win/lose count 25.00/21.40 (3.60)\n",
            "Epoch 010/021 | Loss 0.0093 | Win/lose count 19.00/24.80 (-5.80)\n",
            "Epoch 011/021 | Loss 0.0145 | Win/lose count 24.00/23.30 (0.70)\n",
            "Epoch 012/021 | Loss 0.0178 | Win/lose count 22.00/41.10 (-19.10)\n",
            "Epoch 013/021 | Loss 0.0082 | Win/lose count 20.00/24.90 (-4.90)\n",
            "Epoch 014/021 | Loss 0.0127 | Win/lose count 19.50/18.20 (1.30)\n",
            "Epoch 015/021 | Loss 0.0147 | Win/lose count 18.00/24.50 (-6.50)\n",
            "Epoch 016/021 | Loss 0.0379 | Win/lose count 26.00/18.30 (7.70)\n",
            "Epoch 017/021 | Loss 0.0177 | Win/lose count 20.00/19.60 (0.40)\n",
            "Epoch 018/021 | Loss 0.0090 | Win/lose count 23.00/21.00 (2.00)\n",
            "Epoch 019/021 | Loss 0.0626 | Win/lose count 22.00/17.90 (4.10)\n",
            "Epoch 020/021 | Loss 0.0077 | Win/lose count 19.00/18.50 (0.50)\n"
          ],
          "name": "stdout"
        },
        {
          "output_type": "execute_result",
          "data": {
            "text/html": [
              "<video alt=\"test\" controls>\n",
              "                <source src=\"data:video/mp4;base64,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\" type=\"video/mp4\" />\n",
              "             </video>"
            ],
            "text/plain": [
              "<IPython.core.display.HTML object>"
            ]
          },
          "metadata": {
            "tags": []
          },
          "execution_count": 20
        }
      ]
    },
    {
      "cell_type": "code",
      "metadata": {
        "id": "Uzp01I0bZdu-",
        "colab_type": "code",
        "outputId": "c393ee81-1438-4a3b-806c-566b913acc78",
        "colab": {
          "base_uri": "https://localhost:8080/",
          "height": 478
        }
      },
      "source": [
        "# Evaluation\n",
        "test(agent,env,10,prefix='cnn_test_explore')\n",
        "HTML(display_videos('cnn_test_explore0.mp4'))"
      ],
      "execution_count": 23,
      "outputs": [
        {
          "output_type": "stream",
          "text": [
            "Win/lose count 26.0/5.0. Average score (21.0)\n",
            "Win/lose count 21.5/4.0. Average score (19.25)\n",
            "Win/lose count 21.5/11.0. Average score (16.333333333333332)\n",
            "Win/lose count 17.5/3.0. Average score (15.875)\n",
            "Win/lose count 26.5/12.0. Average score (15.6)\n",
            "Win/lose count 19.0/5.0. Average score (15.333333333333334)\n",
            "Win/lose count 20.5/8.0. Average score (14.928571428571429)\n",
            "Win/lose count 24.0/6.0. Average score (15.3125)\n",
            "Win/lose count 19.5/8.0. Average score (14.88888888888889)\n",
            "Win/lose count 18.5/8.0. Average score (14.45)\n",
            "Final score: 14.45\n"
          ],
          "name": "stdout"
        },
        {
          "output_type": "execute_result",
          "data": {
            "text/html": [
              "<video alt=\"test\" controls>\n",
              "                <source src=\"data:video/mp4;base64,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\" type=\"video/mp4\" />\n",
              "             </video>"
            ],
            "text/plain": [
              "<IPython.core.display.HTML object>"
            ]
          },
          "metadata": {
            "tags": []
          },
          "execution_count": 23
        }
      ]
    },
    {
      "cell_type": "markdown",
      "metadata": {
        "id": "OKPduqV4ZdvD",
        "colab_type": "text"
      },
      "source": [
        "***\n",
        "***\n",
        "__BONUS question__ Use the expert DQN from the previous question to generate some winning games. Train a model that mimicks its behavior. Compare the performances."
      ]
    },
    {
      "cell_type": "markdown",
      "metadata": {
        "id": "ivn7vrQcZdvE",
        "colab_type": "text"
      },
      "source": [
        ""
      ]
    },
    {
      "cell_type": "markdown",
      "metadata": {
        "id": "fDVYQphoZdvE",
        "colab_type": "text"
      },
      "source": [
        "***"
      ]
    }
  ]
}